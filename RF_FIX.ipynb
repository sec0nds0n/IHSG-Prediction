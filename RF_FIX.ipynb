{
 "cells": [
  {
   "cell_type": "code",
   "execution_count": 1,
   "metadata": {},
   "outputs": [
    {
     "name": "stderr",
     "output_type": "stream",
     "text": [
      "Using TensorFlow backend.\n"
     ]
    }
   ],
   "source": [
    "#Import the libraries\n",
    "import math\n",
    "import pandas_datareader as web\n",
    "import numpy as np\n",
    "import pandas as pd\n",
    "import seaborn as sns\n",
    "from sklearn.preprocessing import MinMaxScaler\n",
    "from keras.models import Sequential, load_model\n",
    "from keras.layers import Dense, LSTM, Dropout\n",
    "from sklearn.preprocessing import StandardScaler\n",
    "import matplotlib.pyplot as plt"
   ]
  },
  {
   "cell_type": "code",
   "execution_count": 2,
   "metadata": {},
   "outputs": [
    {
     "data": {
      "text/html": [
       "<div>\n",
       "<style scoped>\n",
       "    .dataframe tbody tr th:only-of-type {\n",
       "        vertical-align: middle;\n",
       "    }\n",
       "\n",
       "    .dataframe tbody tr th {\n",
       "        vertical-align: top;\n",
       "    }\n",
       "\n",
       "    .dataframe thead th {\n",
       "        text-align: right;\n",
       "    }\n",
       "</style>\n",
       "<table border=\"1\" class=\"dataframe\">\n",
       "  <thead>\n",
       "    <tr style=\"text-align: right;\">\n",
       "      <th></th>\n",
       "      <th>Open</th>\n",
       "      <th>High</th>\n",
       "      <th>Low</th>\n",
       "      <th>Close</th>\n",
       "      <th>Adj Close</th>\n",
       "      <th>Volume</th>\n",
       "    </tr>\n",
       "    <tr>\n",
       "      <th>Date</th>\n",
       "      <th></th>\n",
       "      <th></th>\n",
       "      <th></th>\n",
       "      <th></th>\n",
       "      <th></th>\n",
       "      <th></th>\n",
       "    </tr>\n",
       "  </thead>\n",
       "  <tbody>\n",
       "    <tr>\n",
       "      <th>2010-01-04</th>\n",
       "      <td>2533.947998</td>\n",
       "      <td>2576.055908</td>\n",
       "      <td>2532.895996</td>\n",
       "      <td>2575.413086</td>\n",
       "      <td>2575.312988</td>\n",
       "      <td>18339300</td>\n",
       "    </tr>\n",
       "    <tr>\n",
       "      <th>2010-01-05</th>\n",
       "      <td>2575.616943</td>\n",
       "      <td>2606.069092</td>\n",
       "      <td>2575.616943</td>\n",
       "      <td>2605.277100</td>\n",
       "      <td>2605.175537</td>\n",
       "      <td>57043800</td>\n",
       "    </tr>\n",
       "    <tr>\n",
       "      <th>2010-01-06</th>\n",
       "      <td>2605.480957</td>\n",
       "      <td>2622.115967</td>\n",
       "      <td>2587.709961</td>\n",
       "      <td>2603.297119</td>\n",
       "      <td>2603.195557</td>\n",
       "      <td>51569100</td>\n",
       "    </tr>\n",
       "    <tr>\n",
       "      <th>2010-01-07</th>\n",
       "      <td>2603.500977</td>\n",
       "      <td>2611.603027</td>\n",
       "      <td>2570.272949</td>\n",
       "      <td>2586.895020</td>\n",
       "      <td>2586.794189</td>\n",
       "      <td>45510800</td>\n",
       "    </tr>\n",
       "    <tr>\n",
       "      <th>2010-01-08</th>\n",
       "      <td>2586.792969</td>\n",
       "      <td>2614.535889</td>\n",
       "      <td>2583.846924</td>\n",
       "      <td>2614.370117</td>\n",
       "      <td>2614.268311</td>\n",
       "      <td>73723500</td>\n",
       "    </tr>\n",
       "    <tr>\n",
       "      <th>...</th>\n",
       "      <td>...</td>\n",
       "      <td>...</td>\n",
       "      <td>...</td>\n",
       "      <td>...</td>\n",
       "      <td>...</td>\n",
       "      <td>...</td>\n",
       "    </tr>\n",
       "    <tr>\n",
       "      <th>2020-12-22</th>\n",
       "      <td>6146.645996</td>\n",
       "      <td>6174.458984</td>\n",
       "      <td>6010.210938</td>\n",
       "      <td>6023.289063</td>\n",
       "      <td>6023.289063</td>\n",
       "      <td>250085200</td>\n",
       "    </tr>\n",
       "    <tr>\n",
       "      <th>2020-12-23</th>\n",
       "      <td>6061.848145</td>\n",
       "      <td>6104.354980</td>\n",
       "      <td>5853.261230</td>\n",
       "      <td>6008.708984</td>\n",
       "      <td>6008.708984</td>\n",
       "      <td>203528500</td>\n",
       "    </tr>\n",
       "    <tr>\n",
       "      <th>2020-12-28</th>\n",
       "      <td>6067.000000</td>\n",
       "      <td>6095.007813</td>\n",
       "      <td>5979.904785</td>\n",
       "      <td>6093.554199</td>\n",
       "      <td>6093.554199</td>\n",
       "      <td>180855700</td>\n",
       "    </tr>\n",
       "    <tr>\n",
       "      <th>2020-12-29</th>\n",
       "      <td>6112.720215</td>\n",
       "      <td>6143.870117</td>\n",
       "      <td>6026.705078</td>\n",
       "      <td>6036.173828</td>\n",
       "      <td>6036.173828</td>\n",
       "      <td>175135000</td>\n",
       "    </tr>\n",
       "    <tr>\n",
       "      <th>2020-12-30</th>\n",
       "      <td>6052.121094</td>\n",
       "      <td>6055.970215</td>\n",
       "      <td>5962.009766</td>\n",
       "      <td>5979.073242</td>\n",
       "      <td>5979.073242</td>\n",
       "      <td>170039300</td>\n",
       "    </tr>\n",
       "  </tbody>\n",
       "</table>\n",
       "<p>2679 rows × 6 columns</p>\n",
       "</div>"
      ],
      "text/plain": [
       "                   Open         High          Low        Close    Adj Close  \\\n",
       "Date                                                                          \n",
       "2010-01-04  2533.947998  2576.055908  2532.895996  2575.413086  2575.312988   \n",
       "2010-01-05  2575.616943  2606.069092  2575.616943  2605.277100  2605.175537   \n",
       "2010-01-06  2605.480957  2622.115967  2587.709961  2603.297119  2603.195557   \n",
       "2010-01-07  2603.500977  2611.603027  2570.272949  2586.895020  2586.794189   \n",
       "2010-01-08  2586.792969  2614.535889  2583.846924  2614.370117  2614.268311   \n",
       "...                 ...          ...          ...          ...          ...   \n",
       "2020-12-22  6146.645996  6174.458984  6010.210938  6023.289063  6023.289063   \n",
       "2020-12-23  6061.848145  6104.354980  5853.261230  6008.708984  6008.708984   \n",
       "2020-12-28  6067.000000  6095.007813  5979.904785  6093.554199  6093.554199   \n",
       "2020-12-29  6112.720215  6143.870117  6026.705078  6036.173828  6036.173828   \n",
       "2020-12-30  6052.121094  6055.970215  5962.009766  5979.073242  5979.073242   \n",
       "\n",
       "               Volume  \n",
       "Date                   \n",
       "2010-01-04   18339300  \n",
       "2010-01-05   57043800  \n",
       "2010-01-06   51569100  \n",
       "2010-01-07   45510800  \n",
       "2010-01-08   73723500  \n",
       "...               ...  \n",
       "2020-12-22  250085200  \n",
       "2020-12-23  203528500  \n",
       "2020-12-28  180855700  \n",
       "2020-12-29  175135000  \n",
       "2020-12-30  170039300  \n",
       "\n",
       "[2679 rows x 6 columns]"
      ]
     },
     "execution_count": 2,
     "metadata": {},
     "output_type": "execute_result"
    }
   ],
   "source": [
    "#ambil data dari csv\n",
    "df = pd.read_csv('./Gabungan_IHSG_2010-2020.csv', header=0, index_col=0, parse_dates=True, squeeze=True)\n",
    "df\n",
    "#df = web.DataReader('^JKSE', data_source='yahoo', start='2010-01-01', end='2018-12-31') \n",
    "#df"
   ]
  },
  {
   "cell_type": "code",
   "execution_count": 3,
   "metadata": {},
   "outputs": [
    {
     "data": {
      "text/plain": [
       "(2679, 6)"
      ]
     },
     "execution_count": 3,
     "metadata": {},
     "output_type": "execute_result"
    }
   ],
   "source": [
    "df.shape"
   ]
  },
  {
   "cell_type": "code",
   "execution_count": 4,
   "metadata": {},
   "outputs": [
    {
     "name": "stderr",
     "output_type": "stream",
     "text": [
      "/Library/Frameworks/Python.framework/Versions/3.8/lib/python3.8/site-packages/pandas/plotting/_matplotlib/converter.py:103: FutureWarning: Using an implicitly registered datetime converter for a matplotlib plotting method. The converter was registered by pandas on import. Future versions of pandas will require you to explicitly register matplotlib converters.\n",
      "\n",
      "To register the converters:\n",
      "\t>>> from pandas.plotting import register_matplotlib_converters\n",
      "\t>>> register_matplotlib_converters()\n",
      "  warnings.warn(msg, FutureWarning)\n"
     ]
    },
    {
     "data": {
      "image/png": "[encoded data removed]",
      "text/plain": [
       "<Figure size 576x288 with 1 Axes>"
      ]
     },
     "metadata": {
      "needs_background": "light"
     },
     "output_type": "display_data"
    }
   ],
   "source": [
    "plt.figure(figsize=(8,4))\n",
    "plt.title('Harga Close IHSG')\n",
    "plt.plot(df['Close'])\n",
    "plt.xlabel('Date', fontsize=18)\n",
    "plt.ylabel('Harga Close (Rp)', fontsize=18)\n",
    "plt.show()"
   ]
  },
  {
   "cell_type": "code",
   "execution_count": 39,
   "metadata": {},
   "outputs": [
    {
     "data": {
      "text/plain": [
       "(2679, 5)"
      ]
     },
     "execution_count": 39,
     "metadata": {},
     "output_type": "execute_result"
    }
   ],
   "source": [
    "#Ambil data CLOSE saja\n",
    "data=df.filter(['Open', 'High', 'Low', 'Close', 'Adj Close'])\n",
    "dataset=data.values\n",
    "training_data_len=2192 #data dari 2010-2018\n",
    "#training_data_len=math.ceil(len(dataset)* .8)\n",
    "data.shape"
   ]
  },
  {
   "cell_type": "code",
   "execution_count": 6,
   "metadata": {},
   "outputs": [
    {
     "data": {
      "text/plain": [
       "array([[-2.35827546, -2.34286582, -2.33240983, -2.32133551, -2.32122182],\n",
       "       [-2.31631172, -2.31262684, -2.28934632, -2.29119657, -2.29108577],\n",
       "       [-2.28623643, -2.29645925, -2.27715633, -2.29319477, -2.29308389],\n",
       "       ...,\n",
       "       [ 1.19977167,  1.20255974,  1.14223954,  1.22919342,  1.22924069],\n",
       "       [ 1.24581534,  1.25178965,  1.18941511,  1.17128481,  1.17133481],\n",
       "       [ 1.1847875 ,  1.16322846,  1.12420102,  1.11365855,  1.11371128]])"
      ]
     },
     "execution_count": 6,
     "metadata": {},
     "output_type": "execute_result"
    }
   ],
   "source": [
    "#Scaling Data\n",
    "scaler=StandardScaler()\n",
    "scaled_data=scaler.fit_transform(dataset)\n",
    "scaled_data"
   ]
  },
  {
   "cell_type": "code",
   "execution_count": 7,
   "metadata": {},
   "outputs": [
    {
     "data": {
      "text/plain": [
       "(2192, 5)"
      ]
     },
     "execution_count": 7,
     "metadata": {},
     "output_type": "execute_result"
    }
   ],
   "source": [
    "#bikin scaled training dataset\n",
    "train_data=scaled_data[0:training_data_len, :]\n",
    "\n",
    "#split x_train & y_train\n",
    "x_train = []\n",
    "y_train = []\n",
    "\n",
    "train_data.shape"
   ]
  },
  {
   "cell_type": "code",
   "execution_count": 8,
   "metadata": {},
   "outputs": [],
   "source": [
    "n_future = 1\n",
    "n_past = 10\n",
    "\n",
    "#isi trainx dan trainy sesuai n nya\n",
    "for i in range(n_past, len(train_data) - n_future +1): # i = range dari 365 - 3965 (365, 3969-3-1)\n",
    "    x_train.append(train_data[i - n_past:i, 0:train_data.shape[1]]) #ambil data dari 365 hari yang lalu (0:365, 0:5)\n",
    "    y_train.append(train_data[i + n_future - 1:i + n_future, 0]) #ambil data buat prediksi (367:368, 0)"
   ]
  },
  {
   "cell_type": "code",
   "execution_count": 9,
   "metadata": {},
   "outputs": [],
   "source": [
    "#n_past=10\n",
    "#for i in range(n_past, len(train_data)):\n",
    "    #x_train.append(train_data[i-n_past:i, 0])\n",
    "    #y_train.append(train_data[i,0])"
   ]
  },
  {
   "cell_type": "code",
   "execution_count": 10,
   "metadata": {},
   "outputs": [
    {
     "data": {
      "text/plain": [
       "(2182, 10, 5)"
      ]
     },
     "execution_count": 10,
     "metadata": {},
     "output_type": "execute_result"
    }
   ],
   "source": [
    "#Convert ke Array\n",
    "x_train, y_train = np.array(x_train), np.array(y_train)\n",
    "x_train.shape"
   ]
  },
  {
   "cell_type": "code",
   "execution_count": 11,
   "metadata": {},
   "outputs": [],
   "source": [
    "n_fitur=5 #fitur close \n",
    "#x_train = np.reshape(x_train, (x_train.shape[0], x_train.shape[1],n_fitur))\n",
    "#x_train.shape"
   ]
  },
  {
   "cell_type": "markdown",
   "metadata": {},
   "source": [
    "## ------ RANDOM FOREST ------"
   ]
  },
  {
   "cell_type": "code",
   "execution_count": 12,
   "metadata": {},
   "outputs": [
    {
     "name": "stderr",
     "output_type": "stream",
     "text": [
      "<ipython-input-12-ed668aa5d0cb>:8: DataConversionWarning: A column-vector y was passed when a 1d array was expected. Please change the shape of y to (n_samples,), for example using ravel().\n",
      "  rf.fit(d2_trainX, y_train)\n"
     ]
    },
    {
     "data": {
      "text/plain": [
       "RandomForestRegressor(bootstrap=True, ccp_alpha=0.0, criterion='mse',\n",
       "                      max_depth=None, max_features='auto', max_leaf_nodes=None,\n",
       "                      max_samples=None, min_impurity_decrease=0.0,\n",
       "                      min_impurity_split=None, min_samples_leaf=1,\n",
       "                      min_samples_split=2, min_weight_fraction_leaf=0.0,\n",
       "                      n_estimators=1000, n_jobs=None, oob_score=False,\n",
       "                      random_state=42, verbose=0, warm_start=False)"
      ]
     },
     "execution_count": 12,
     "metadata": {},
     "output_type": "execute_result"
    }
   ],
   "source": [
    "from sklearn.ensemble import RandomForestRegressor\n",
    "from sklearn.metrics import accuracy_score\n",
    "\n",
    "nsamples, nx, ny = x_train.shape\n",
    "d2_trainX = x_train.reshape((nsamples,nx*ny))\n",
    "\n",
    "rf = RandomForestRegressor(n_estimators = 1000, random_state = 42)\n",
    "rf.fit(d2_trainX, y_train)"
   ]
  },
  {
   "cell_type": "code",
   "execution_count": 13,
   "metadata": {},
   "outputs": [],
   "source": [
    "#Bikin testing data set\n",
    "test_data=scaled_data[training_data_len-n_past:, :]\n",
    "x_test=[]\n",
    "y_test=dataset[training_data_len:, -1:]\n",
    "for i in range(n_past, len(test_data)):\n",
    "    x_test.append(test_data[i-n_past:i,0:5])"
   ]
  },
  {
   "cell_type": "code",
   "execution_count": 14,
   "metadata": {
    "scrolled": false
   },
   "outputs": [
    {
     "data": {
      "text/plain": [
       "(487, 10, 5)"
      ]
     },
     "execution_count": 14,
     "metadata": {},
     "output_type": "execute_result"
    }
   ],
   "source": [
    "#convert data ke numpy array\n",
    "x_test = np.array(x_test)\n",
    "x_test.shape"
   ]
  },
  {
   "cell_type": "code",
   "execution_count": 15,
   "metadata": {},
   "outputs": [],
   "source": [
    "nsamples, nx, ny = x_test.shape\n",
    "d2_testX = x_test.reshape((nsamples,nx*ny))"
   ]
  },
  {
   "cell_type": "code",
   "execution_count": 31,
   "metadata": {
    "scrolled": true
   },
   "outputs": [
    {
     "data": {
      "text/plain": [
       "(487, 5)"
      ]
     },
     "execution_count": 31,
     "metadata": {},
     "output_type": "execute_result"
    }
   ],
   "source": [
    "#prediksi dari model\n",
    "predictions_rf=rf.predict(d2_testX) #prediksi\n",
    "predictions_rf = predictions_rf.reshape(predictions_rf.shape[0],1)\n",
    "predictions_rf_copies = np.repeat(predictions_rf, train_data.shape[1], axis=-1)\n",
    "predictions_rf_inv=scaler.inverse_transform(predictions_rf_copies)[:,0]\n",
    "predictions_rf_copies.shape"
   ]
  },
  {
   "cell_type": "code",
   "execution_count": 33,
   "metadata": {},
   "outputs": [
    {
     "name": "stderr",
     "output_type": "stream",
     "text": [
      "<ipython-input-33-946aa8180c66>:4: SettingWithCopyWarning: \n",
      "A value is trying to be set on a copy of a slice from a DataFrame.\n",
      "Try using .loc[row_indexer,col_indexer] = value instead\n",
      "\n",
      "See the caveats in the documentation: http://pandas.pydata.org/pandas-docs/stable/user_guide/indexing.html#returning-a-view-versus-a-copy\n",
      "  valid_rf['Predictions']=predictions_rf_inv\n"
     ]
    },
    {
     "data": {
      "image/png": "[encoded data removed]",
      "text/plain": [
       "<Figure size 576x288 with 1 Axes>"
      ]
     },
     "metadata": {
      "needs_background": "light"
     },
     "output_type": "display_data"
    }
   ],
   "source": [
    "#Plot data\n",
    "train_rf=data[:training_data_len]\n",
    "valid_rf=data[training_data_len:]\n",
    "valid_rf['Predictions']=predictions_rf_inv\n",
    "\n",
    "#Visualisasi data\n",
    "plt.figure(figsize=(8,4))\n",
    "plt.title('Model')\n",
    "plt.xlabel('Tanggal', fontsize=18)\n",
    "plt.ylabel('Harga Close (Rp)', fontsize=18)\n",
    "plt.plot(train_rf['Close'])\n",
    "plt.plot(valid_rf[['Close', 'Predictions']])\n",
    "plt.legend(['Train', 'Close', 'Prediksi Close'], loc='lower right')\n",
    "plt.show()"
   ]
  },
  {
   "cell_type": "code",
   "execution_count": 35,
   "metadata": {},
   "outputs": [
    {
     "data": {
      "text/html": [
       "<div>\n",
       "<style scoped>\n",
       "    .dataframe tbody tr th:only-of-type {\n",
       "        vertical-align: middle;\n",
       "    }\n",
       "\n",
       "    .dataframe tbody tr th {\n",
       "        vertical-align: top;\n",
       "    }\n",
       "\n",
       "    .dataframe thead th {\n",
       "        text-align: right;\n",
       "    }\n",
       "</style>\n",
       "<table border=\"1\" class=\"dataframe\">\n",
       "  <thead>\n",
       "    <tr style=\"text-align: right;\">\n",
       "      <th></th>\n",
       "      <th>Close</th>\n",
       "      <th>Predictions</th>\n",
       "    </tr>\n",
       "    <tr>\n",
       "      <th>Date</th>\n",
       "      <th></th>\n",
       "      <th></th>\n",
       "    </tr>\n",
       "  </thead>\n",
       "  <tbody>\n",
       "    <tr>\n",
       "      <th>2019-01-02</th>\n",
       "      <td>6181.174805</td>\n",
       "      <td>6195.602208</td>\n",
       "    </tr>\n",
       "    <tr>\n",
       "      <th>2019-01-03</th>\n",
       "      <td>6221.009766</td>\n",
       "      <td>6186.759401</td>\n",
       "    </tr>\n",
       "    <tr>\n",
       "      <th>2019-01-04</th>\n",
       "      <td>6274.540039</td>\n",
       "      <td>6212.805171</td>\n",
       "    </tr>\n",
       "    <tr>\n",
       "      <th>2019-01-07</th>\n",
       "      <td>6287.224121</td>\n",
       "      <td>6276.870972</td>\n",
       "    </tr>\n",
       "    <tr>\n",
       "      <th>2019-01-08</th>\n",
       "      <td>6262.847168</td>\n",
       "      <td>6283.766452</td>\n",
       "    </tr>\n",
       "    <tr>\n",
       "      <th>...</th>\n",
       "      <td>...</td>\n",
       "      <td>...</td>\n",
       "    </tr>\n",
       "    <tr>\n",
       "      <th>2020-12-22</th>\n",
       "      <td>6023.289063</td>\n",
       "      <td>6155.085833</td>\n",
       "    </tr>\n",
       "    <tr>\n",
       "      <th>2020-12-23</th>\n",
       "      <td>6008.708984</td>\n",
       "      <td>6032.281831</td>\n",
       "    </tr>\n",
       "    <tr>\n",
       "      <th>2020-12-28</th>\n",
       "      <td>6093.554199</td>\n",
       "      <td>6010.084114</td>\n",
       "    </tr>\n",
       "    <tr>\n",
       "      <th>2020-12-29</th>\n",
       "      <td>6036.173828</td>\n",
       "      <td>6080.420038</td>\n",
       "    </tr>\n",
       "    <tr>\n",
       "      <th>2020-12-30</th>\n",
       "      <td>5979.073242</td>\n",
       "      <td>6054.976755</td>\n",
       "    </tr>\n",
       "  </tbody>\n",
       "</table>\n",
       "<p>487 rows × 2 columns</p>\n",
       "</div>"
      ],
      "text/plain": [
       "                  Close  Predictions\n",
       "Date                                \n",
       "2019-01-02  6181.174805  6195.602208\n",
       "2019-01-03  6221.009766  6186.759401\n",
       "2019-01-04  6274.540039  6212.805171\n",
       "2019-01-07  6287.224121  6276.870972\n",
       "2019-01-08  6262.847168  6283.766452\n",
       "...                 ...          ...\n",
       "2020-12-22  6023.289063  6155.085833\n",
       "2020-12-23  6008.708984  6032.281831\n",
       "2020-12-28  6093.554199  6010.084114\n",
       "2020-12-29  6036.173828  6080.420038\n",
       "2020-12-30  5979.073242  6054.976755\n",
       "\n",
       "[487 rows x 2 columns]"
      ]
     },
     "execution_count": 35,
     "metadata": {},
     "output_type": "execute_result"
    }
   ],
   "source": [
    "valid_rf[['Close','Predictions']]"
   ]
  },
  {
   "cell_type": "code",
   "execution_count": 34,
   "metadata": {},
   "outputs": [
    {
     "data": {
      "text/plain": [
       "0.10383360877272914"
      ]
     },
     "execution_count": 34,
     "metadata": {},
     "output_type": "execute_result"
    }
   ],
   "source": [
    "y_test_scaled = scaler.fit_transform(y_test)\n",
    "predictions_scaled = scaler.fit_transform(predictions_rf_copies)\n",
    "rmse_rf = np.sqrt(np.mean((predictions_scaled-y_test_scaled)**2))\n",
    "rmse_rf"
   ]
  },
  {
   "cell_type": "code",
   "execution_count": 37,
   "metadata": {},
   "outputs": [
    {
     "name": "stdout",
     "output_type": "stream",
     "text": [
      "Stored 'rmse_rf' (float64)\n",
      "Stored 'predictions_rf_inv' (ndarray)\n"
     ]
    }
   ],
   "source": [
    "%store rmse_rf\n",
    "%store predictions_rf_inv"
   ]
  }
 ],
 "metadata": {
  "kernelspec": {
   "display_name": "Python 3",
   "language": "python",
   "name": "python3"
  },
  "language_info": {
   "codemirror_mode": {
    "name": "ipython",
    "version": 3
   },
   "file_extension": ".py",
   "mimetype": "text/x-python",
   "name": "python",
   "nbconvert_exporter": "python",
   "pygments_lexer": "ipython3",
   "version": "3.8.1"
  }
 },
 "nbformat": 4,
 "nbformat_minor": 4
}
