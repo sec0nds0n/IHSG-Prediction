{
 "cells": [
  {
   "cell_type": "code",
   "execution_count": 1,
   "metadata": {},
   "outputs": [
    {
     "name": "stderr",
     "output_type": "stream",
     "text": [
      "Using TensorFlow backend.\n"
     ]
    }
   ],
   "source": [
    "#Import the libraries\n",
    "import math\n",
    "import pandas_datareader as web\n",
    "import numpy as np\n",
    "import pandas as pd\n",
    "import seaborn as sns\n",
    "from sklearn.preprocessing import MinMaxScaler\n",
    "from keras.models import Sequential, load_model\n",
    "from keras.layers import Dense, LSTM, Dropout\n",
    "from sklearn.preprocessing import StandardScaler\n",
    "import matplotlib.pyplot as plt"
   ]
  },
  {
   "cell_type": "code",
   "execution_count": 2,
   "metadata": {},
   "outputs": [
    {
     "data": {
      "text/html": [
       "<div>\n",
       "<style scoped>\n",
       "    .dataframe tbody tr th:only-of-type {\n",
       "        vertical-align: middle;\n",
       "    }\n",
       "\n",
       "    .dataframe tbody tr th {\n",
       "        vertical-align: top;\n",
       "    }\n",
       "\n",
       "    .dataframe thead th {\n",
       "        text-align: right;\n",
       "    }\n",
       "</style>\n",
       "<table border=\"1\" class=\"dataframe\">\n",
       "  <thead>\n",
       "    <tr style=\"text-align: right;\">\n",
       "      <th></th>\n",
       "      <th>Open</th>\n",
       "      <th>High</th>\n",
       "      <th>Low</th>\n",
       "      <th>Close</th>\n",
       "      <th>Adj Close</th>\n",
       "      <th>Volume</th>\n",
       "    </tr>\n",
       "    <tr>\n",
       "      <th>Date</th>\n",
       "      <th></th>\n",
       "      <th></th>\n",
       "      <th></th>\n",
       "      <th></th>\n",
       "      <th></th>\n",
       "      <th></th>\n",
       "    </tr>\n",
       "  </thead>\n",
       "  <tbody>\n",
       "    <tr>\n",
       "      <th>2010-01-04</th>\n",
       "      <td>2533.947998</td>\n",
       "      <td>2576.055908</td>\n",
       "      <td>2532.895996</td>\n",
       "      <td>2575.413086</td>\n",
       "      <td>2575.312988</td>\n",
       "      <td>18339300</td>\n",
       "    </tr>\n",
       "    <tr>\n",
       "      <th>2010-01-05</th>\n",
       "      <td>2575.616943</td>\n",
       "      <td>2606.069092</td>\n",
       "      <td>2575.616943</td>\n",
       "      <td>2605.277100</td>\n",
       "      <td>2605.175537</td>\n",
       "      <td>57043800</td>\n",
       "    </tr>\n",
       "    <tr>\n",
       "      <th>2010-01-06</th>\n",
       "      <td>2605.480957</td>\n",
       "      <td>2622.115967</td>\n",
       "      <td>2587.709961</td>\n",
       "      <td>2603.297119</td>\n",
       "      <td>2603.195557</td>\n",
       "      <td>51569100</td>\n",
       "    </tr>\n",
       "    <tr>\n",
       "      <th>2010-01-07</th>\n",
       "      <td>2603.500977</td>\n",
       "      <td>2611.603027</td>\n",
       "      <td>2570.272949</td>\n",
       "      <td>2586.895020</td>\n",
       "      <td>2586.794189</td>\n",
       "      <td>45510800</td>\n",
       "    </tr>\n",
       "    <tr>\n",
       "      <th>2010-01-08</th>\n",
       "      <td>2586.792969</td>\n",
       "      <td>2614.535889</td>\n",
       "      <td>2583.846924</td>\n",
       "      <td>2614.370117</td>\n",
       "      <td>2614.268311</td>\n",
       "      <td>73723500</td>\n",
       "    </tr>\n",
       "    <tr>\n",
       "      <th>...</th>\n",
       "      <td>...</td>\n",
       "      <td>...</td>\n",
       "      <td>...</td>\n",
       "      <td>...</td>\n",
       "      <td>...</td>\n",
       "      <td>...</td>\n",
       "    </tr>\n",
       "    <tr>\n",
       "      <th>2020-12-22</th>\n",
       "      <td>6146.645996</td>\n",
       "      <td>6174.458984</td>\n",
       "      <td>6010.210938</td>\n",
       "      <td>6023.289063</td>\n",
       "      <td>6023.289063</td>\n",
       "      <td>250085200</td>\n",
       "    </tr>\n",
       "    <tr>\n",
       "      <th>2020-12-23</th>\n",
       "      <td>6061.848145</td>\n",
       "      <td>6104.354980</td>\n",
       "      <td>5853.261230</td>\n",
       "      <td>6008.708984</td>\n",
       "      <td>6008.708984</td>\n",
       "      <td>203528500</td>\n",
       "    </tr>\n",
       "    <tr>\n",
       "      <th>2020-12-28</th>\n",
       "      <td>6067.000000</td>\n",
       "      <td>6095.007813</td>\n",
       "      <td>5979.904785</td>\n",
       "      <td>6093.554199</td>\n",
       "      <td>6093.554199</td>\n",
       "      <td>180855700</td>\n",
       "    </tr>\n",
       "    <tr>\n",
       "      <th>2020-12-29</th>\n",
       "      <td>6112.720215</td>\n",
       "      <td>6143.870117</td>\n",
       "      <td>6026.705078</td>\n",
       "      <td>6036.173828</td>\n",
       "      <td>6036.173828</td>\n",
       "      <td>175135000</td>\n",
       "    </tr>\n",
       "    <tr>\n",
       "      <th>2020-12-30</th>\n",
       "      <td>6052.121094</td>\n",
       "      <td>6055.970215</td>\n",
       "      <td>5962.009766</td>\n",
       "      <td>5979.073242</td>\n",
       "      <td>5979.073242</td>\n",
       "      <td>170039300</td>\n",
       "    </tr>\n",
       "  </tbody>\n",
       "</table>\n",
       "<p>2679 rows × 6 columns</p>\n",
       "</div>"
      ],
      "text/plain": [
       "                   Open         High          Low        Close    Adj Close  \\\n",
       "Date                                                                          \n",
       "2010-01-04  2533.947998  2576.055908  2532.895996  2575.413086  2575.312988   \n",
       "2010-01-05  2575.616943  2606.069092  2575.616943  2605.277100  2605.175537   \n",
       "2010-01-06  2605.480957  2622.115967  2587.709961  2603.297119  2603.195557   \n",
       "2010-01-07  2603.500977  2611.603027  2570.272949  2586.895020  2586.794189   \n",
       "2010-01-08  2586.792969  2614.535889  2583.846924  2614.370117  2614.268311   \n",
       "...                 ...          ...          ...          ...          ...   \n",
       "2020-12-22  6146.645996  6174.458984  6010.210938  6023.289063  6023.289063   \n",
       "2020-12-23  6061.848145  6104.354980  5853.261230  6008.708984  6008.708984   \n",
       "2020-12-28  6067.000000  6095.007813  5979.904785  6093.554199  6093.554199   \n",
       "2020-12-29  6112.720215  6143.870117  6026.705078  6036.173828  6036.173828   \n",
       "2020-12-30  6052.121094  6055.970215  5962.009766  5979.073242  5979.073242   \n",
       "\n",
       "               Volume  \n",
       "Date                   \n",
       "2010-01-04   18339300  \n",
       "2010-01-05   57043800  \n",
       "2010-01-06   51569100  \n",
       "2010-01-07   45510800  \n",
       "2010-01-08   73723500  \n",
       "...               ...  \n",
       "2020-12-22  250085200  \n",
       "2020-12-23  203528500  \n",
       "2020-12-28  180855700  \n",
       "2020-12-29  175135000  \n",
       "2020-12-30  170039300  \n",
       "\n",
       "[2679 rows x 6 columns]"
      ]
     },
     "execution_count": 2,
     "metadata": {},
     "output_type": "execute_result"
    }
   ],
   "source": [
    "#ambil data dari csv\n",
    "df = pd.read_csv('./Gabungan_IHSG_2010-2020.csv', header=0, index_col=0, parse_dates=True, squeeze=True)\n",
    "df\n",
    "#df = web.DataReader('^JKSE', data_source='yahoo', start='2010-01-01', end='2018-12-31') \n",
    "#df"
   ]
  },
  {
   "cell_type": "code",
   "execution_count": 3,
   "metadata": {},
   "outputs": [
    {
     "data": {
      "text/plain": [
       "(2679, 6)"
      ]
     },
     "execution_count": 3,
     "metadata": {},
     "output_type": "execute_result"
    }
   ],
   "source": [
    "df.shape"
   ]
  },
  {
   "cell_type": "code",
   "execution_count": 4,
   "metadata": {},
   "outputs": [
    {
     "name": "stderr",
     "output_type": "stream",
     "text": [
      "/Library/Frameworks/Python.framework/Versions/3.8/lib/python3.8/site-packages/pandas/plotting/_matplotlib/converter.py:103: FutureWarning: Using an implicitly registered datetime converter for a matplotlib plotting method. The converter was registered by pandas on import. Future versions of pandas will require you to explicitly register matplotlib converters.\n",
      "\n",
      "To register the converters:\n",
      "\t>>> from pandas.plotting import register_matplotlib_converters\n",
      "\t>>> register_matplotlib_converters()\n",
      "  warnings.warn(msg, FutureWarning)\n"
     ]
    },
    {
     "data": {
      "image/png": "[encoded data removed]",
      "text/plain": [
       "<Figure size 576x288 with 1 Axes>"
      ]
     },
     "metadata": {
      "needs_background": "light"
     },
     "output_type": "display_data"
    }
   ],
   "source": [
    "plt.figure(figsize=(8,4))\n",
    "plt.title('Harga Close IHSG')\n",
    "plt.plot(df['Close'])\n",
    "plt.xlabel('Date', fontsize=18)\n",
    "plt.ylabel('Harga Close (Rp)', fontsize=18)\n",
    "plt.show()"
   ]
  },
  {
   "cell_type": "code",
   "execution_count": 5,
   "metadata": {},
   "outputs": [
    {
     "data": {
      "text/plain": [
       "(2679, 5)"
      ]
     },
     "execution_count": 5,
     "metadata": {},
     "output_type": "execute_result"
    }
   ],
   "source": [
    "#Ambil data CLOSE saja\n",
    "data=df.filter(['Open', 'High', 'Low', 'Close', 'Adj Close'])\n",
    "dataset=data.values\n",
    "training_data_len=2192 #data dari 2010-2018\n",
    "#training_data_len=math.ceil(len(dataset)* .8)\n",
    "data.shape"
   ]
  },
  {
   "cell_type": "code",
   "execution_count": 6,
   "metadata": {},
   "outputs": [
    {
     "data": {
      "text/plain": [
       "array([[-2.35827546, -2.34286582, -2.33240983, -2.32133551, -2.32122182],\n",
       "       [-2.31631172, -2.31262684, -2.28934632, -2.29119657, -2.29108577],\n",
       "       [-2.28623643, -2.29645925, -2.27715633, -2.29319477, -2.29308389],\n",
       "       ...,\n",
       "       [ 1.19977167,  1.20255974,  1.14223954,  1.22919342,  1.22924069],\n",
       "       [ 1.24581534,  1.25178965,  1.18941511,  1.17128481,  1.17133481],\n",
       "       [ 1.1847875 ,  1.16322846,  1.12420102,  1.11365855,  1.11371128]])"
      ]
     },
     "execution_count": 6,
     "metadata": {},
     "output_type": "execute_result"
    }
   ],
   "source": [
    "#Scaling Data\n",
    "scaler=StandardScaler()\n",
    "scaled_data=scaler.fit_transform(dataset)\n",
    "scaled_data"
   ]
  },
  {
   "cell_type": "code",
   "execution_count": 7,
   "metadata": {},
   "outputs": [
    {
     "data": {
      "text/plain": [
       "(2192, 5)"
      ]
     },
     "execution_count": 7,
     "metadata": {},
     "output_type": "execute_result"
    }
   ],
   "source": [
    "#bikin scaled training dataset\n",
    "train_data=scaled_data[0:training_data_len, :]\n",
    "\n",
    "#split x_train & y_train\n",
    "x_train = []\n",
    "y_train = []\n",
    "\n",
    "train_data.shape"
   ]
  },
  {
   "cell_type": "code",
   "execution_count": 8,
   "metadata": {},
   "outputs": [],
   "source": [
    "n_future = 1\n",
    "n_past = 10\n",
    "\n",
    "#isi trainx dan trainy sesuai n nya\n",
    "for i in range(n_past, len(train_data) - n_future +1): # i = range dari 365 - 3965 (365, 3969-3-1)\n",
    "    x_train.append(train_data[i - n_past:i, 0:train_data.shape[1]]) #ambil data dari 365 hari yang lalu (0:365, 0:5)\n",
    "    y_train.append(train_data[i + n_future - 1:i + n_future, 0]) #ambil data buat prediksi (367:368, 0)"
   ]
  },
  {
   "cell_type": "code",
   "execution_count": 9,
   "metadata": {},
   "outputs": [],
   "source": [
    "#n_past=10\n",
    "#for i in range(n_past, len(train_data)):\n",
    "    #x_train.append(train_data[i-n_past:i, 0])\n",
    "    #y_train.append(train_data[i,0])"
   ]
  },
  {
   "cell_type": "code",
   "execution_count": 10,
   "metadata": {},
   "outputs": [
    {
     "data": {
      "text/plain": [
       "(2182, 10, 5)"
      ]
     },
     "execution_count": 10,
     "metadata": {},
     "output_type": "execute_result"
    }
   ],
   "source": [
    "#Convert ke Array\n",
    "x_train, y_train = np.array(x_train), np.array(y_train)\n",
    "x_train.shape"
   ]
  },
  {
   "cell_type": "code",
   "execution_count": 11,
   "metadata": {},
   "outputs": [],
   "source": [
    "n_fitur=5 #fitur close \n",
    "#x_train = np.reshape(x_train, (x_train.shape[0], x_train.shape[1],n_fitur))\n",
    "#x_train.shape"
   ]
  },
  {
   "cell_type": "code",
   "execution_count": 12,
   "metadata": {},
   "outputs": [],
   "source": [
    "#Building LSTM\n",
    "model = Sequential()\n",
    "model.add(LSTM(64, return_sequences=True, activation='relu', input_shape=(x_train.shape[1], x_train.shape[2])))\n",
    "model.add(LSTM(64, activation='relu',return_sequences=False))\n",
    "model.add(Dense(25))\n",
    "model.add(Dense(1))"
   ]
  },
  {
   "cell_type": "code",
   "execution_count": 13,
   "metadata": {},
   "outputs": [
    {
     "name": "stdout",
     "output_type": "stream",
     "text": [
      "Model: \"sequential_1\"\n",
      "_________________________________________________________________\n",
      "Layer (type)                 Output Shape              Param #   \n",
      "=================================================================\n",
      "lstm_1 (LSTM)                (None, 10, 64)            17920     \n",
      "_________________________________________________________________\n",
      "lstm_2 (LSTM)                (None, 64)                33024     \n",
      "_________________________________________________________________\n",
      "dense_1 (Dense)              (None, 25)                1625      \n",
      "_________________________________________________________________\n",
      "dense_2 (Dense)              (None, 1)                 26        \n",
      "=================================================================\n",
      "Total params: 52,595\n",
      "Trainable params: 52,595\n",
      "Non-trainable params: 0\n",
      "_________________________________________________________________\n"
     ]
    }
   ],
   "source": [
    "#Compile model\n",
    "model.compile(optimizer='adam', loss='mean_squared_error')\n",
    "model.summary()"
   ]
  },
  {
   "cell_type": "code",
   "execution_count": 14,
   "metadata": {
    "scrolled": false
   },
   "outputs": [
    {
     "name": "stdout",
     "output_type": "stream",
     "text": [
      "Epoch 1/50\n",
      "2182/2182 [==============================] - 1s 625us/step - loss: 0.1043\n",
      "Epoch 2/50\n",
      "2182/2182 [==============================] - 1s 292us/step - loss: 0.0058\n",
      "Epoch 3/50\n",
      "2182/2182 [==============================] - 1s 284us/step - loss: 0.0047\n",
      "Epoch 4/50\n",
      "2182/2182 [==============================] - 1s 282us/step - loss: 0.0041\n",
      "Epoch 5/50\n",
      "2182/2182 [==============================] - 1s 284us/step - loss: 0.0035\n",
      "Epoch 6/50\n",
      "2182/2182 [==============================] - 1s 281us/step - loss: 0.0030\n",
      "Epoch 7/50\n",
      "2182/2182 [==============================] - 1s 282us/step - loss: 0.0026\n",
      "Epoch 8/50\n",
      "2182/2182 [==============================] - 1s 280us/step - loss: 0.0025\n",
      "Epoch 9/50\n",
      "2182/2182 [==============================] - 1s 281us/step - loss: 0.0024\n",
      "Epoch 10/50\n",
      "2182/2182 [==============================] - 1s 308us/step - loss: 0.0023\n",
      "Epoch 11/50\n",
      "2182/2182 [==============================] - 1s 366us/step - loss: 0.0017\n",
      "Epoch 12/50\n",
      "2182/2182 [==============================] - 1s 366us/step - loss: 0.0014\n",
      "Epoch 13/50\n",
      "2182/2182 [==============================] - 1s 365us/step - loss: 0.0011\n",
      "Epoch 14/50\n",
      "2182/2182 [==============================] - 1s 368us/step - loss: 9.9278e-04\n",
      "Epoch 15/50\n",
      "2182/2182 [==============================] - 1s 389us/step - loss: 9.3853e-04\n",
      "Epoch 16/50\n",
      "2182/2182 [==============================] - 1s 353us/step - loss: 8.7419e-04\n",
      "Epoch 17/50\n",
      "2182/2182 [==============================] - 1s 336us/step - loss: 6.9418e-04\n",
      "Epoch 18/50\n",
      "2182/2182 [==============================] - 1s 333us/step - loss: 6.0036e-04\n",
      "Epoch 19/50\n",
      "2182/2182 [==============================] - 1s 339us/step - loss: 6.9731e-04\n",
      "Epoch 20/50\n",
      "2182/2182 [==============================] - 1s 320us/step - loss: 5.2605e-04\n",
      "Epoch 21/50\n",
      "2182/2182 [==============================] - 1s 304us/step - loss: 5.9635e-04\n",
      "Epoch 22/50\n",
      "2182/2182 [==============================] - 1s 290us/step - loss: 7.5565e-04\n",
      "Epoch 23/50\n",
      "2182/2182 [==============================] - 1s 299us/step - loss: 5.6283e-04\n",
      "Epoch 24/50\n",
      "2182/2182 [==============================] - 1s 298us/step - loss: 5.2780e-04\n",
      "Epoch 25/50\n",
      "2182/2182 [==============================] - 1s 361us/step - loss: 4.2195e-04\n",
      "Epoch 26/50\n",
      "2182/2182 [==============================] - 1s 370us/step - loss: 4.3122e-04\n",
      "Epoch 27/50\n",
      "2182/2182 [==============================] - 1s 377us/step - loss: 4.6479e-04\n",
      "Epoch 28/50\n",
      "2182/2182 [==============================] - 1s 374us/step - loss: 5.0723e-04\n",
      "Epoch 29/50\n",
      "2182/2182 [==============================] - 1s 379us/step - loss: 4.6633e-04\n",
      "Epoch 30/50\n",
      "2182/2182 [==============================] - 1s 330us/step - loss: 4.1567e-04\n",
      "Epoch 31/50\n",
      "2182/2182 [==============================] - 1s 294us/step - loss: 4.4228e-04\n",
      "Epoch 32/50\n",
      "2182/2182 [==============================] - 1s 287us/step - loss: 3.9342e-04\n",
      "Epoch 33/50\n",
      "2182/2182 [==============================] - 1s 289us/step - loss: 5.7876e-04\n",
      "Epoch 34/50\n",
      "2182/2182 [==============================] - 1s 284us/step - loss: 4.7027e-04\n",
      "Epoch 35/50\n",
      "2182/2182 [==============================] - 1s 283us/step - loss: 4.8014e-04\n",
      "Epoch 36/50\n",
      "2182/2182 [==============================] - 1s 287us/step - loss: 5.2112e-04\n",
      "Epoch 37/50\n",
      "2182/2182 [==============================] - 1s 287us/step - loss: 5.2118e-04\n",
      "Epoch 38/50\n",
      "2182/2182 [==============================] - 1s 296us/step - loss: 6.4649e-04\n",
      "Epoch 39/50\n",
      "2182/2182 [==============================] - 1s 308us/step - loss: 3.6189e-04\n",
      "Epoch 40/50\n",
      "2182/2182 [==============================] - 1s 361us/step - loss: 4.5658e-04\n",
      "Epoch 41/50\n",
      "2182/2182 [==============================] - 1s 377us/step - loss: 4.1955e-04\n",
      "Epoch 42/50\n",
      "2182/2182 [==============================] - 1s 376us/step - loss: 4.0741e-04\n",
      "Epoch 43/50\n",
      "2182/2182 [==============================] - 1s 381us/step - loss: 6.2331e-04\n",
      "Epoch 44/50\n",
      "2182/2182 [==============================] - 1s 386us/step - loss: 5.5236e-04\n",
      "Epoch 45/50\n",
      "2182/2182 [==============================] - 1s 314us/step - loss: 3.8847e-04\n",
      "Epoch 46/50\n",
      "2182/2182 [==============================] - 1s 295us/step - loss: 4.3317e-04\n",
      "Epoch 47/50\n",
      "2182/2182 [==============================] - 1s 291us/step - loss: 4.0003e-04\n",
      "Epoch 48/50\n",
      "2182/2182 [==============================] - 1s 293us/step - loss: 4.8245e-04\n",
      "Epoch 49/50\n",
      "2182/2182 [==============================] - 1s 310us/step - loss: 4.0297e-04\n",
      "Epoch 50/50\n",
      "2182/2182 [==============================] - 1s 297us/step - loss: 4.1186e-04\n"
     ]
    },
    {
     "data": {
      "text/plain": [
       "<keras.callbacks.callbacks.History at 0x7f9d3b5f5e20>"
      ]
     },
     "execution_count": 14,
     "metadata": {},
     "output_type": "execute_result"
    }
   ],
   "source": [
    "model.fit(x_train, y_train, batch_size=32, epochs=50)"
   ]
  },
  {
   "cell_type": "code",
   "execution_count": 15,
   "metadata": {},
   "outputs": [],
   "source": [
    "#Bikin testing data set\n",
    "test_data=scaled_data[training_data_len-n_past:, :]\n",
    "x_test=[]\n",
    "y_test=dataset[training_data_len:, -1:]\n",
    "for i in range(n_past, len(test_data)):\n",
    "    x_test.append(test_data[i-n_past:i,0:5])"
   ]
  },
  {
   "cell_type": "code",
   "execution_count": 16,
   "metadata": {
    "scrolled": true
   },
   "outputs": [],
   "source": [
    "#convert data ke numpy array\n",
    "x_test = np.array(x_test)\n",
    "# y_test_scaled = scaler.fit_transform(y_test)"
   ]
  },
  {
   "cell_type": "code",
   "execution_count": 17,
   "metadata": {},
   "outputs": [],
   "source": [
    "#reshape data\n",
    "# x_test= np.reshape(x_test, (x_test.shape[0], x_test.shape[1], n_fitur))"
   ]
  },
  {
   "cell_type": "code",
   "execution_count": 18,
   "metadata": {
    "scrolled": true
   },
   "outputs": [
    {
     "data": {
      "text/plain": [
       "(487,)"
      ]
     },
     "execution_count": 18,
     "metadata": {},
     "output_type": "execute_result"
    }
   ],
   "source": [
    "#prediksi dari model\n",
    "predictions=model.predict(x_test)\n",
    "predictions_copies = np.repeat(predictions, train_data.shape[1], axis=-1)\n",
    "predictions_inv=scaler.inverse_transform(predictions_copies)[:,0]\n",
    "predictions_inv.shape"
   ]
  },
  {
   "cell_type": "code",
   "execution_count": 19,
   "metadata": {},
   "outputs": [],
   "source": [
    "# predictions_scaled = scaler.fit_transform(predictions_copies)\n",
    "# rmse = np.sqrt(np.mean((predictions-y_test_scaled)**2))\n",
    "# rmse"
   ]
  },
  {
   "cell_type": "code",
   "execution_count": 20,
   "metadata": {},
   "outputs": [
    {
     "name": "stderr",
     "output_type": "stream",
     "text": [
      "<ipython-input-20-eda1a21e77b2>:4: SettingWithCopyWarning: \n",
      "A value is trying to be set on a copy of a slice from a DataFrame.\n",
      "Try using .loc[row_indexer,col_indexer] = value instead\n",
      "\n",
      "See the caveats in the documentation: http://pandas.pydata.org/pandas-docs/stable/user_guide/indexing.html#returning-a-view-versus-a-copy\n",
      "  valid['Predictions']=predictions_inv\n"
     ]
    },
    {
     "data": {
      "image/png": "[encoded data removed]",
      "text/plain": [
       "<Figure size 576x288 with 1 Axes>"
      ]
     },
     "metadata": {
      "needs_background": "light"
     },
     "output_type": "display_data"
    }
   ],
   "source": [
    "#Plot data\n",
    "train=data[:training_data_len]\n",
    "valid=data[training_data_len:]\n",
    "valid['Predictions']=predictions_inv\n",
    "\n",
    "#Visualisasi data\n",
    "plt.figure(figsize=(8,4))\n",
    "plt.title('Model')\n",
    "plt.xlabel('Tanggal', fontsize=18)\n",
    "plt.ylabel('Harga Close (Rp)', fontsize=18)\n",
    "plt.plot(train['Close'])\n",
    "plt.plot(valid[['Close', 'Predictions']])\n",
    "plt.legend(['Train', 'Close', 'Prediksi Close'], loc='lower right')\n",
    "plt.show()"
   ]
  },
  {
   "cell_type": "code",
   "execution_count": 21,
   "metadata": {
    "scrolled": false
   },
   "outputs": [
    {
     "data": {
      "text/html": [
       "<div>\n",
       "<style scoped>\n",
       "    .dataframe tbody tr th:only-of-type {\n",
       "        vertical-align: middle;\n",
       "    }\n",
       "\n",
       "    .dataframe tbody tr th {\n",
       "        vertical-align: top;\n",
       "    }\n",
       "\n",
       "    .dataframe thead th {\n",
       "        text-align: right;\n",
       "    }\n",
       "</style>\n",
       "<table border=\"1\" class=\"dataframe\">\n",
       "  <thead>\n",
       "    <tr style=\"text-align: right;\">\n",
       "      <th></th>\n",
       "      <th>Close</th>\n",
       "      <th>Predictions</th>\n",
       "    </tr>\n",
       "    <tr>\n",
       "      <th>Date</th>\n",
       "      <th></th>\n",
       "      <th></th>\n",
       "    </tr>\n",
       "  </thead>\n",
       "  <tbody>\n",
       "    <tr>\n",
       "      <th>2019-01-02</th>\n",
       "      <td>6181.174805</td>\n",
       "      <td>6182.698730</td>\n",
       "    </tr>\n",
       "    <tr>\n",
       "      <th>2019-01-03</th>\n",
       "      <td>6221.009766</td>\n",
       "      <td>6173.517578</td>\n",
       "    </tr>\n",
       "    <tr>\n",
       "      <th>2019-01-04</th>\n",
       "      <td>6274.540039</td>\n",
       "      <td>6212.381836</td>\n",
       "    </tr>\n",
       "    <tr>\n",
       "      <th>2019-01-07</th>\n",
       "      <td>6287.224121</td>\n",
       "      <td>6257.509277</td>\n",
       "    </tr>\n",
       "    <tr>\n",
       "      <th>2019-01-08</th>\n",
       "      <td>6262.847168</td>\n",
       "      <td>6289.173340</td>\n",
       "    </tr>\n",
       "    <tr>\n",
       "      <th>...</th>\n",
       "      <td>...</td>\n",
       "      <td>...</td>\n",
       "    </tr>\n",
       "    <tr>\n",
       "      <th>2020-12-22</th>\n",
       "      <td>6023.289063</td>\n",
       "      <td>6155.151367</td>\n",
       "    </tr>\n",
       "    <tr>\n",
       "      <th>2020-12-23</th>\n",
       "      <td>6008.708984</td>\n",
       "      <td>6004.316406</td>\n",
       "    </tr>\n",
       "    <tr>\n",
       "      <th>2020-12-28</th>\n",
       "      <td>6093.554199</td>\n",
       "      <td>5976.971680</td>\n",
       "    </tr>\n",
       "    <tr>\n",
       "      <th>2020-12-29</th>\n",
       "      <td>6036.173828</td>\n",
       "      <td>6076.151855</td>\n",
       "    </tr>\n",
       "    <tr>\n",
       "      <th>2020-12-30</th>\n",
       "      <td>5979.073242</td>\n",
       "      <td>6022.125000</td>\n",
       "    </tr>\n",
       "  </tbody>\n",
       "</table>\n",
       "<p>487 rows × 2 columns</p>\n",
       "</div>"
      ],
      "text/plain": [
       "                  Close  Predictions\n",
       "Date                                \n",
       "2019-01-02  6181.174805  6182.698730\n",
       "2019-01-03  6221.009766  6173.517578\n",
       "2019-01-04  6274.540039  6212.381836\n",
       "2019-01-07  6287.224121  6257.509277\n",
       "2019-01-08  6262.847168  6289.173340\n",
       "...                 ...          ...\n",
       "2020-12-22  6023.289063  6155.151367\n",
       "2020-12-23  6008.708984  6004.316406\n",
       "2020-12-28  6093.554199  5976.971680\n",
       "2020-12-29  6036.173828  6076.151855\n",
       "2020-12-30  5979.073242  6022.125000\n",
       "\n",
       "[487 rows x 2 columns]"
      ]
     },
     "execution_count": 21,
     "metadata": {},
     "output_type": "execute_result"
    }
   ],
   "source": [
    "valid[['Close','Predictions']]"
   ]
  },
  {
   "cell_type": "code",
   "execution_count": 22,
   "metadata": {},
   "outputs": [
    {
     "ename": "ValueError",
     "evalue": "Expected 2D array, got 1D array instead:\narray=[6182.6987 6173.5176 6212.382  6257.5093 6289.1733 6253.433  6277.347\n 6318.661  6358.108  6323.08   6396.437  6403.2876 6420.6694 6438.712\n 6447.6714 6455.409  6450.167  6462.841  6480.267  6448.5044 6435.036\n 6460.632  6527.0737 6526.6274 6473.464  6545.2324 6526.4263 6513.3726\n 6494.1216 6412.3984 6420.874  6414.986  6382.416  6490.7095 6483.434\n 6503.0635 6526.2656 6491.481  6526.1406 6527.8623 6516.0913 6434.1133\n 6502.263  6482.455  6427.539  6455.8047 6372.759  6372.2246 6349.213\n 6369.0073 6403.901  6450.6465 6498.7456 6471.101  6478.7676 6500.267\n 6517.2896 6394.1816 6477.717  6436.452  6475.5137 6456.9067 6449.8804\n 6472.11   6490.724  6470.1    6413.751  6479.9834 6467.7856 6404.1367\n 6405.891  6433.9614 6470.665  6504.063  6399.64   6462.735  6441.7314\n 6362.9824 6388.6704 6413.71   6447.1445 6360.532  6303.5225 6241.7417\n 6302.5605 6249.0083 6194.2085 6196.664  6129.4893 6056.5054 5983.9116\n 5889.92   5831.2236 5885.0024 5947.813  5923.684  6017.2607 6045.6304\n 6081.4062 6022.9526 6093.207  6174.6753 6271.0444 6278.583  6266.5723\n 6269.0444 6246.469  6188.722  6252.0723 6330.1064 6323.0063 6302.6855\n 6287.614  6324.0557 6308.1323 6349.5366 6355.954  6378.117  6378.9346\n 6354.229  6376.434  6370.4883 6343.272  6384.226  6405.604  6410.0396\n 6368.44   6422.7803 6394.3916 6391.968  6397.9487 6450.8467 6423.785\n 6401.175  6384.991  6401.6216 6315.379  6300.675  6369.5327 6373.896\n 6376.6562 6327.493  6165.048  6102.364  6210.595  6254.9155 6274.9746\n 6241.035  6205.351  6271.87   6224.422  6283.77   6292.612  6290.2446\n 6249.2617 6236.5845 6247.475  6192.4424 6277.3154 6271.9385 6284.689\n 6325.435  6283.5527 6260.774  6267.525  6306.6543 6307.0366 6321.89\n 6330.03   6371.0527 6339.042  6333.8887 6200.1655 6244.9263 6267.1255\n 6238.724  6225.9976 6202.899  6126.851  6139.2046 6222.491  6184.2617\n 6163.0894 6136.878  6048.566  6031.8506 6064.197  5987.939  6040.7905\n 6019.2314 6020.5635 6093.1973 6115.5894 6142.6685 6159.2344 6172.1187\n 6186.06   6194.7725 6213.124  6243.591  6323.8916 6238.111  6266.4175\n 6275.8506 6292.492  6218.653  6208.83   6183.32   6255.85   6205.0176\n 6152.945  6174.541  6140.747  6174.784  6135.035  6086.5464 6127.555\n 6111.609  6145.94   6142.943  6106.257  6096.717  6062.5986 6025.025\n 6017.864  5943.175  6002.919  6108.9854 6116.6357 6099.4023 6148.6226\n 6172.427  6186.8296 6176.8887 6176.8887 6135.7144 6199.2275 6205.074\n 6236.2544 6291.134  6236.54   6278.2373 6300.48   6316.1733 6325.964\n 6295.3936 6281.6924 6320.9565 6248.04   6279.4307 6217.3726 6275.4863\n 6270.5693 6290.3    6319.4565 6271.9126 6282.062  6288.8525 6242.8975\n 6238.793  6233.137  6246.6084 6240.9233 6122.6445 6118.0273 6115.002\n 6047.9126 5934.1436 5883.0396 5931.0273 5965.0054 5979.9463 5990.259\n 5938.025  5952.3027 5899.1475 5864.248  5856.881  5858.9946 5874.8105\n 5918.49   5931.066  5866.573  5791.896  5775.779  5675.623  5521.681\n 5402.563  5367.3784 5520.848  5620.5938 5624.537  5475.16   5111.2\n 5231.37   5134.9736 4883.742  4860.9033 4693.15   4468.95   4345.8457\n 4126.971  4152.715  3997.1729 3946.044  4253.769  4505.859  4389.802\n 4522.681  4460.128  4511.731  4624.1064 4788.5034 4765.565  4597.15\n 4625.858  4605.926  4685.493  4609.171  4454.4927 4611.576  4564.9053\n 4482.8755 4535.163  4583.255  4477.6494 4497.5547 4513.2383 4550.7744\n 4685.2837 4580.0835 4618.035  4591.6216 4582.872  4622.965  4564.745\n 4533.814  4496.6113 4486.3154 4497.369  4536.5034 4530.0645 4604.7974\n 4621.368  4694.537  4733.3906 4823.552  4915.693  4898.58   4912.966\n 5044.4    5018.122  4893.282  4834.414  4834.273  4809.1553 4952.6294\n 4978.451  4914.104  4934.57   4905.318  4869.01   4943.627  4880.454\n 4893.849  4883.605  4897.041  4899.6143 4950.8755 4963.9526 4977.497\n 4976.8765 5053.086  5040.6284 5018.9863 5050.1694 5065.7334 5067.1997\n 5086.762  5069.422  5038.167  5096.8037 5099.9517 5131.498  5070.4766\n 5103.875  5101.546  5129.714  5126.0435 4976.762  5060.7466 5104.4604\n 5161.423  5127.982  5152.055  5174.365  5212.6797 5225.8584 5232.719\n 5277.092  5262.4473 5265.6665 5318.0605 5326.682  5352.3086 5332.7725\n 5229.6846 5287.3257 5298.995  5262.5317 5221.028  5216.123  5235.156\n 5131.943  4876.2827 4962.951  5145.435  5085.659  5052.614  5028.3364\n 5046.214  4987.1343 4920.073  4905.129  4826.324  4928.3564 4899.4263\n 4868.524  4857.5005 4955.353  4902.8496 4945.7524 4994.723  4981.674\n 5026.528  5038.7324 5085.2847 5107.8105 5159.208  5091.7114 5087.722\n 5111.8975 5085.359  5087.779  5075.6685 5103.504  5129.49   5114.4673\n 5095.9526 5149.6587 5094.2173 5240.9697 5305.656  5340.3335 5448.09\n 5489.7944 5445.33   5446.4375 5481.8667 5516.744  5540.4717 5571.952\n 5561.559  5631.318  5683.926  5666.7417 5729.9297 5764.058  5587.661\n 5699.3784 5781.986  5802.8574 5790.0947 5910.353  5920.581  5919.496\n 5926.8516 5991.042  5987.5127 6092.5786 6091.0347 6093.0684 6155.1514\n 6004.3164 5976.9717 6076.152  6022.125 ].\nReshape your data either using array.reshape(-1, 1) if your data has a single feature or array.reshape(1, -1) if it contains a single sample.",
     "output_type": "error",
     "traceback": [
      "\u001b[0;31m---------------------------------------------------------------------------\u001b[0m",
      "\u001b[0;31mValueError\u001b[0m                                Traceback (most recent call last)",
      "\u001b[0;32m<ipython-input-22-e3f68db6a579>\u001b[0m in \u001b[0;36m<module>\u001b[0;34m\u001b[0m\n\u001b[1;32m      1\u001b[0m \u001b[0my_test_scaled\u001b[0m \u001b[0;34m=\u001b[0m \u001b[0mscaler\u001b[0m\u001b[0;34m.\u001b[0m\u001b[0mfit_transform\u001b[0m\u001b[0;34m(\u001b[0m\u001b[0my_test\u001b[0m\u001b[0;34m)\u001b[0m\u001b[0;34m\u001b[0m\u001b[0;34m\u001b[0m\u001b[0m\n\u001b[0;32m----> 2\u001b[0;31m \u001b[0mpredictions_scaled\u001b[0m \u001b[0;34m=\u001b[0m \u001b[0mscaler\u001b[0m\u001b[0;34m.\u001b[0m\u001b[0mfit_transform\u001b[0m\u001b[0;34m(\u001b[0m\u001b[0mpredictions_inv\u001b[0m\u001b[0;34m)\u001b[0m\u001b[0;34m\u001b[0m\u001b[0;34m\u001b[0m\u001b[0m\n\u001b[0m\u001b[1;32m      3\u001b[0m \u001b[0;31m# rmse = np.sqrt(np.mean((predictions_scaled-y_test_scaled)**2))\u001b[0m\u001b[0;34m\u001b[0m\u001b[0;34m\u001b[0m\u001b[0;34m\u001b[0m\u001b[0m\n\u001b[1;32m      4\u001b[0m \u001b[0mpredictions_scaled\u001b[0m\u001b[0;34m.\u001b[0m\u001b[0mshape\u001b[0m\u001b[0;34m\u001b[0m\u001b[0;34m\u001b[0m\u001b[0m\n",
      "\u001b[0;32m/Library/Frameworks/Python.framework/Versions/3.8/lib/python3.8/site-packages/sklearn/base.py\u001b[0m in \u001b[0;36mfit_transform\u001b[0;34m(self, X, y, **fit_params)\u001b[0m\n\u001b[1;32m    569\u001b[0m         \u001b[0;32mif\u001b[0m \u001b[0my\u001b[0m \u001b[0;32mis\u001b[0m \u001b[0;32mNone\u001b[0m\u001b[0;34m:\u001b[0m\u001b[0;34m\u001b[0m\u001b[0;34m\u001b[0m\u001b[0m\n\u001b[1;32m    570\u001b[0m             \u001b[0;31m# fit method of arity 1 (unsupervised transformation)\u001b[0m\u001b[0;34m\u001b[0m\u001b[0;34m\u001b[0m\u001b[0;34m\u001b[0m\u001b[0m\n\u001b[0;32m--> 571\u001b[0;31m             \u001b[0;32mreturn\u001b[0m \u001b[0mself\u001b[0m\u001b[0;34m.\u001b[0m\u001b[0mfit\u001b[0m\u001b[0;34m(\u001b[0m\u001b[0mX\u001b[0m\u001b[0;34m,\u001b[0m \u001b[0;34m**\u001b[0m\u001b[0mfit_params\u001b[0m\u001b[0;34m)\u001b[0m\u001b[0;34m.\u001b[0m\u001b[0mtransform\u001b[0m\u001b[0;34m(\u001b[0m\u001b[0mX\u001b[0m\u001b[0;34m)\u001b[0m\u001b[0;34m\u001b[0m\u001b[0;34m\u001b[0m\u001b[0m\n\u001b[0m\u001b[1;32m    572\u001b[0m         \u001b[0;32melse\u001b[0m\u001b[0;34m:\u001b[0m\u001b[0;34m\u001b[0m\u001b[0;34m\u001b[0m\u001b[0m\n\u001b[1;32m    573\u001b[0m             \u001b[0;31m# fit method of arity 2 (supervised transformation)\u001b[0m\u001b[0;34m\u001b[0m\u001b[0;34m\u001b[0m\u001b[0;34m\u001b[0m\u001b[0m\n",
      "\u001b[0;32m/Library/Frameworks/Python.framework/Versions/3.8/lib/python3.8/site-packages/sklearn/preprocessing/_data.py\u001b[0m in \u001b[0;36mfit\u001b[0;34m(self, X, y)\u001b[0m\n\u001b[1;32m    667\u001b[0m         \u001b[0;31m# Reset internal state before fitting\u001b[0m\u001b[0;34m\u001b[0m\u001b[0;34m\u001b[0m\u001b[0;34m\u001b[0m\u001b[0m\n\u001b[1;32m    668\u001b[0m         \u001b[0mself\u001b[0m\u001b[0;34m.\u001b[0m\u001b[0m_reset\u001b[0m\u001b[0;34m(\u001b[0m\u001b[0;34m)\u001b[0m\u001b[0;34m\u001b[0m\u001b[0;34m\u001b[0m\u001b[0m\n\u001b[0;32m--> 669\u001b[0;31m         \u001b[0;32mreturn\u001b[0m \u001b[0mself\u001b[0m\u001b[0;34m.\u001b[0m\u001b[0mpartial_fit\u001b[0m\u001b[0;34m(\u001b[0m\u001b[0mX\u001b[0m\u001b[0;34m,\u001b[0m \u001b[0my\u001b[0m\u001b[0;34m)\u001b[0m\u001b[0;34m\u001b[0m\u001b[0;34m\u001b[0m\u001b[0m\n\u001b[0m\u001b[1;32m    670\u001b[0m \u001b[0;34m\u001b[0m\u001b[0m\n\u001b[1;32m    671\u001b[0m     \u001b[0;32mdef\u001b[0m \u001b[0mpartial_fit\u001b[0m\u001b[0;34m(\u001b[0m\u001b[0mself\u001b[0m\u001b[0;34m,\u001b[0m \u001b[0mX\u001b[0m\u001b[0;34m,\u001b[0m \u001b[0my\u001b[0m\u001b[0;34m=\u001b[0m\u001b[0;32mNone\u001b[0m\u001b[0;34m)\u001b[0m\u001b[0;34m:\u001b[0m\u001b[0;34m\u001b[0m\u001b[0;34m\u001b[0m\u001b[0m\n",
      "\u001b[0;32m/Library/Frameworks/Python.framework/Versions/3.8/lib/python3.8/site-packages/sklearn/preprocessing/_data.py\u001b[0m in \u001b[0;36mpartial_fit\u001b[0;34m(self, X, y)\u001b[0m\n\u001b[1;32m    696\u001b[0m             \u001b[0mTransformer\u001b[0m \u001b[0minstance\u001b[0m\u001b[0;34m.\u001b[0m\u001b[0;34m\u001b[0m\u001b[0;34m\u001b[0m\u001b[0m\n\u001b[1;32m    697\u001b[0m         \"\"\"\n\u001b[0;32m--> 698\u001b[0;31m         X = check_array(X, accept_sparse=('csr', 'csc'),\n\u001b[0m\u001b[1;32m    699\u001b[0m                         \u001b[0mestimator\u001b[0m\u001b[0;34m=\u001b[0m\u001b[0mself\u001b[0m\u001b[0;34m,\u001b[0m \u001b[0mdtype\u001b[0m\u001b[0;34m=\u001b[0m\u001b[0mFLOAT_DTYPES\u001b[0m\u001b[0;34m,\u001b[0m\u001b[0;34m\u001b[0m\u001b[0;34m\u001b[0m\u001b[0m\n\u001b[1;32m    700\u001b[0m                         force_all_finite='allow-nan')\n",
      "\u001b[0;32m/Library/Frameworks/Python.framework/Versions/3.8/lib/python3.8/site-packages/sklearn/utils/validation.py\u001b[0m in \u001b[0;36mcheck_array\u001b[0;34m(array, accept_sparse, accept_large_sparse, dtype, order, copy, force_all_finite, ensure_2d, allow_nd, ensure_min_samples, ensure_min_features, warn_on_dtype, estimator)\u001b[0m\n\u001b[1;32m    550\u001b[0m             \u001b[0;31m# If input is 1D raise error\u001b[0m\u001b[0;34m\u001b[0m\u001b[0;34m\u001b[0m\u001b[0;34m\u001b[0m\u001b[0m\n\u001b[1;32m    551\u001b[0m             \u001b[0;32mif\u001b[0m \u001b[0marray\u001b[0m\u001b[0;34m.\u001b[0m\u001b[0mndim\u001b[0m \u001b[0;34m==\u001b[0m \u001b[0;36m1\u001b[0m\u001b[0;34m:\u001b[0m\u001b[0;34m\u001b[0m\u001b[0;34m\u001b[0m\u001b[0m\n\u001b[0;32m--> 552\u001b[0;31m                 raise ValueError(\n\u001b[0m\u001b[1;32m    553\u001b[0m                     \u001b[0;34m\"Expected 2D array, got 1D array instead:\\narray={}.\\n\"\u001b[0m\u001b[0;34m\u001b[0m\u001b[0;34m\u001b[0m\u001b[0m\n\u001b[1;32m    554\u001b[0m                     \u001b[0;34m\"Reshape your data either using array.reshape(-1, 1) if \"\u001b[0m\u001b[0;34m\u001b[0m\u001b[0;34m\u001b[0m\u001b[0m\n",
      "\u001b[0;31mValueError\u001b[0m: Expected 2D array, got 1D array instead:\narray=[6182.6987 6173.5176 6212.382  6257.5093 6289.1733 6253.433  6277.347\n 6318.661  6358.108  6323.08   6396.437  6403.2876 6420.6694 6438.712\n 6447.6714 6455.409  6450.167  6462.841  6480.267  6448.5044 6435.036\n 6460.632  6527.0737 6526.6274 6473.464  6545.2324 6526.4263 6513.3726\n 6494.1216 6412.3984 6420.874  6414.986  6382.416  6490.7095 6483.434\n 6503.0635 6526.2656 6491.481  6526.1406 6527.8623 6516.0913 6434.1133\n 6502.263  6482.455  6427.539  6455.8047 6372.759  6372.2246 6349.213\n 6369.0073 6403.901  6450.6465 6498.7456 6471.101  6478.7676 6500.267\n 6517.2896 6394.1816 6477.717  6436.452  6475.5137 6456.9067 6449.8804\n 6472.11   6490.724  6470.1    6413.751  6479.9834 6467.7856 6404.1367\n 6405.891  6433.9614 6470.665  6504.063  6399.64   6462.735  6441.7314\n 6362.9824 6388.6704 6413.71   6447.1445 6360.532  6303.5225 6241.7417\n 6302.5605 6249.0083 6194.2085 6196.664  6129.4893 6056.5054 5983.9116\n 5889.92   5831.2236 5885.0024 5947.813  5923.684  6017.2607 6045.6304\n 6081.4062 6022.9526 6093.207  6174.6753 6271.0444 6278.583  6266.5723\n 6269.0444 6246.469  6188.722  6252.0723 6330.1064 6323.0063 6302.6855\n 6287.614  6324.0557 6308.1323 6349.5366 6355.954  6378.117  6378.9346\n 6354.229  6376.434  6370.4883 6343.272  6384.226  6405.604  6410.0396\n 6368.44   6422.7803 6394.3916 6391.968  6397.9487 6450.8467 6423.785\n 6401.175  6384.991  6401.6216 6315.379  6300.675  6369.5327 6373.896\n 6376.6562 6327.493  6165.048  6102.364  6210.595  6254.9155 6274.9746\n 6241.035  6205.351  6271.87   6224.422  6283.77   6292.612  6290.2446\n 6249.2617 6236.5845 6247.475  6192.4424 6277.3154 6271.9385 6284.689\n 6325.435  6283.5527 6260.774  6267.525  6306.6543 6307.0366 6321.89\n 6330.03   6371.0527 6339.042  6333.8887 6200.1655 6244.9263 6267.1255\n 6238.724  6225.9976 6202.899  6126.851  6139.2046 6222.491  6184.2617\n 6163.0894 6136.878  6048.566  6031.8506 6064.197  5987.939  6040.7905\n 6019.2314 6020.5635 6093.1973 6115.5894 6142.6685 6159.2344 6172.1187\n 6186.06   6194.7725 6213.124  6243.591  6323.8916 6238.111  6266.4175\n 6275.8506 6292.492  6218.653  6208.83   6183.32   6255.85   6205.0176\n 6152.945  6174.541  6140.747  6174.784  6135.035  6086.5464 6127.555\n 6111.609  6145.94   6142.943  6106.257  6096.717  6062.5986 6025.025\n 6017.864  5943.175  6002.919  6108.9854 6116.6357 6099.4023 6148.6226\n 6172.427  6186.8296 6176.8887 6176.8887 6135.7144 6199.2275 6205.074\n 6236.2544 6291.134  6236.54   6278.2373 6300.48   6316.1733 6325.964\n 6295.3936 6281.6924 6320.9565 6248.04   6279.4307 6217.3726 6275.4863\n 6270.5693 6290.3    6319.4565 6271.9126 6282.062  6288.8525 6242.8975\n 6238.793  6233.137  6246.6084 6240.9233 6122.6445 6118.0273 6115.002\n 6047.9126 5934.1436 5883.0396 5931.0273 5965.0054 5979.9463 5990.259\n 5938.025  5952.3027 5899.1475 5864.248  5856.881  5858.9946 5874.8105\n 5918.49   5931.066  5866.573  5791.896  5775.779  5675.623  5521.681\n 5402.563  5367.3784 5520.848  5620.5938 5624.537  5475.16   5111.2\n 5231.37   5134.9736 4883.742  4860.9033 4693.15   4468.95   4345.8457\n 4126.971  4152.715  3997.1729 3946.044  4253.769  4505.859  4389.802\n 4522.681  4460.128  4511.731  4624.1064 4788.5034 4765.565  4597.15\n 4625.858  4605.926  4685.493  4609.171  4454.4927 4611.576  4564.9053\n 4482.8755 4535.163  4583.255  4477.6494 4497.5547 4513.2383 4550.7744\n 4685.2837 4580.0835 4618.035  4591.6216 4582.872  4622.965  4564.745\n 4533.814  4496.6113 4486.3154 4497.369  4536.5034 4530.0645 4604.7974\n 4621.368  4694.537  4733.3906 4823.552  4915.693  4898.58   4912.966\n 5044.4    5018.122  4893.282  4834.414  4834.273  4809.1553 4952.6294\n 4978.451  4914.104  4934.57   4905.318  4869.01   4943.627  4880.454\n 4893.849  4883.605  4897.041  4899.6143 4950.8755 4963.9526 4977.497\n 4976.8765 5053.086  5040.6284 5018.9863 5050.1694 5065.7334 5067.1997\n 5086.762  5069.422  5038.167  5096.8037 5099.9517 5131.498  5070.4766\n 5103.875  5101.546  5129.714  5126.0435 4976.762  5060.7466 5104.4604\n 5161.423  5127.982  5152.055  5174.365  5212.6797 5225.8584 5232.719\n 5277.092  5262.4473 5265.6665 5318.0605 5326.682  5352.3086 5332.7725\n 5229.6846 5287.3257 5298.995  5262.5317 5221.028  5216.123  5235.156\n 5131.943  4876.2827 4962.951  5145.435  5085.659  5052.614  5028.3364\n 5046.214  4987.1343 4920.073  4905.129  4826.324  4928.3564 4899.4263\n 4868.524  4857.5005 4955.353  4902.8496 4945.7524 4994.723  4981.674\n 5026.528  5038.7324 5085.2847 5107.8105 5159.208  5091.7114 5087.722\n 5111.8975 5085.359  5087.779  5075.6685 5103.504  5129.49   5114.4673\n 5095.9526 5149.6587 5094.2173 5240.9697 5305.656  5340.3335 5448.09\n 5489.7944 5445.33   5446.4375 5481.8667 5516.744  5540.4717 5571.952\n 5561.559  5631.318  5683.926  5666.7417 5729.9297 5764.058  5587.661\n 5699.3784 5781.986  5802.8574 5790.0947 5910.353  5920.581  5919.496\n 5926.8516 5991.042  5987.5127 6092.5786 6091.0347 6093.0684 6155.1514\n 6004.3164 5976.9717 6076.152  6022.125 ].\nReshape your data either using array.reshape(-1, 1) if your data has a single feature or array.reshape(1, -1) if it contains a single sample."
     ]
    }
   ],
   "source": [
    "y_test_scaled = scaler.fit_transform(y_test)\n",
    "predictions_scaled = scaler.fit_transform(predictions_inv)\n",
    "# rmse = np.sqrt(np.mean((predictions_scaled-y_test_scaled)**2))\n",
    "predictions_scaled.shape"
   ]
  },
  {
   "cell_type": "code",
   "execution_count": null,
   "metadata": {},
   "outputs": [],
   "source": [
    "from sklearn.metrics import mean_absolute_error\n",
    "predictions_scaled.shape\n",
    "mean_absolute_error(y_test_scaled, predictions_scaled)"
   ]
  },
  {
   "cell_type": "code",
   "execution_count": null,
   "metadata": {},
   "outputs": [],
   "source": [
    "%store rmse\n",
    "%store predictions"
   ]
  }
 ],
 "metadata": {
  "kernelspec": {
   "display_name": "Python 3",
   "language": "python",
   "name": "python3"
  },
  "language_info": {
   "codemirror_mode": {
    "name": "ipython",
    "version": 3
   },
   "file_extension": ".py",
   "mimetype": "text/x-python",
   "name": "python",
   "nbconvert_exporter": "python",
   "pygments_lexer": "ipython3",
   "version": "3.8.1"
  }
 },
 "nbformat": 4,
 "nbformat_minor": 4
}
