{
 "cells": [
  {
   "cell_type": "code",
   "execution_count": null,
   "metadata": {
    "colab": {
     "base_uri": "https://localhost:8080/"
    },
    "executionInfo": {
     "elapsed": 1309,
     "status": "ok",
     "timestamp": 1611853023304,
     "user": {
      "displayName": "Sabar Sautomo",
      "photoUrl": "https://lh3.googleusercontent.com/a-/AOh14GhCqBZrGQz63loThVKOoghftXO4crVw42m7td-ZEQ=s64",
      "userId": "11152206577099957818"
     },
     "user_tz": -420
    },
    "id": "U9NA4IGEwnh6",
    "outputId": "b3fc9e4b-3671-41de-d56b-b6cbf9af4523"
   },
   "outputs": [
    {
     "name": "stdout",
     "output_type": "stream",
     "text": [
      "Drive already mounted at /content/drive; to attempt to forcibly remount, call drive.mount(\"/content/drive\", force_remount=True).\n"
     ]
    }
   ],
   "source": [
    "from google.colab import drive\n",
    "drive.mount ('/content/drive')"
   ]
  },
  {
   "cell_type": "code",
   "execution_count": null,
   "metadata": {
    "id": "tX9RW8Vi9KJ_"
   },
   "outputs": [],
   "source": [
    "#!cp '/content/drive/My Drive/Colab Notebooks/preprocessing.py' .\n",
    "#import preprocessing"
   ]
  },
  {
   "cell_type": "code",
   "execution_count": null,
   "metadata": {
    "id": "vRvY-xliVeon"
   },
   "outputs": [],
   "source": [
    "import numpy as np \n",
    "\n",
    "\n",
    "# FUNCTION TO CREATE 1D DATA INTO TIME SERIES DATASET\n",
    "def new_dataset(dataset, step_size):\n",
    "\tdata_X, data_Y = [], []\n",
    "\tfor i in range(len(dataset)-step_size-1):\n",
    "\t\ta = dataset[i:(i+step_size), 0]\n",
    "\t\tdata_X.append(a)\n",
    "\t\tdata_Y.append(dataset[i + step_size, 0])\n",
    "\treturn np.array(data_X), np.array(data_Y)\n",
    "\n",
    "# THIS FUNCTION CAN BE USED TO CREATE A TIME SERIES DATASET FROM ANY 1D ARRAY\t"
   ]
  },
  {
   "cell_type": "code",
   "execution_count": null,
   "metadata": {
    "id": "0mEQ8rRxwk80"
   },
   "outputs": [],
   "source": [
    "# IMPORTING IMPORTANT LIBRARIES\n",
    "import pandas as pd\n",
    "import numpy as np\n",
    "from warnings import simplefilter\n",
    "simplefilter(action='ignore') "
   ]
  },
  {
   "cell_type": "code",
   "execution_count": null,
   "metadata": {
    "id": "P9rTbEoGPjGi"
   },
   "outputs": [],
   "source": [
    "# FOR REPRODUCIBILITY\n",
    "np.random.seed(7)"
   ]
  },
  {
   "cell_type": "code",
   "execution_count": null,
   "metadata": {
    "id": "UkaVPNORwk9N"
   },
   "outputs": [],
   "source": [
    "# IMPORTING DATASET \n",
    "df_set = pd.read_csv('/content/drive/My Drive/data_realisasi.csv')"
   ]
  },
  {
   "cell_type": "code",
   "execution_count": null,
   "metadata": {
    "colab": {
     "base_uri": "https://localhost:8080/",
     "height": 197
    },
    "executionInfo": {
     "elapsed": 2553,
     "status": "ok",
     "timestamp": 1611853024581,
     "user": {
      "displayName": "Sabar Sautomo",
      "photoUrl": "https://lh3.googleusercontent.com/a-/AOh14GhCqBZrGQz63loThVKOoghftXO4crVw42m7td-ZEQ=s64",
      "userId": "11152206577099957818"
     },
     "user_tz": -420
    },
    "id": "JGUjqnVwwk9u",
    "outputId": "6a5fa9e6-89ff-4701-c3ae-fd1499c37b33"
   },
   "outputs": [
    {
     "data": {
      "text/html": [
       "<div>\n",
       "<style scoped>\n",
       "    .dataframe tbody tr th:only-of-type {\n",
       "        vertical-align: middle;\n",
       "    }\n",
       "\n",
       "    .dataframe tbody tr th {\n",
       "        vertical-align: top;\n",
       "    }\n",
       "\n",
       "    .dataframe thead th {\n",
       "        text-align: right;\n",
       "    }\n",
       "</style>\n",
       "<table border=\"1\" class=\"dataframe\">\n",
       "  <thead>\n",
       "    <tr style=\"text-align: right;\">\n",
       "      <th></th>\n",
       "      <th>tanggal</th>\n",
       "      <th>tahun</th>\n",
       "      <th>bulan</th>\n",
       "      <th>tgl</th>\n",
       "      <th>weeks</th>\n",
       "      <th>jenbel</th>\n",
       "      <th>policy_1</th>\n",
       "      <th>policy_2</th>\n",
       "      <th>preal</th>\n",
       "    </tr>\n",
       "  </thead>\n",
       "  <tbody>\n",
       "    <tr>\n",
       "      <th>0</th>\n",
       "      <td>2018-01-02</td>\n",
       "      <td>2018</td>\n",
       "      <td>1</td>\n",
       "      <td>2</td>\n",
       "      <td>1</td>\n",
       "      <td>B51</td>\n",
       "      <td>0</td>\n",
       "      <td>0</td>\n",
       "      <td>3.4087</td>\n",
       "    </tr>\n",
       "    <tr>\n",
       "      <th>1</th>\n",
       "      <td>2018-01-02</td>\n",
       "      <td>2018</td>\n",
       "      <td>1</td>\n",
       "      <td>2</td>\n",
       "      <td>1</td>\n",
       "      <td>B52</td>\n",
       "      <td>0</td>\n",
       "      <td>0</td>\n",
       "      <td>0.0004</td>\n",
       "    </tr>\n",
       "    <tr>\n",
       "      <th>2</th>\n",
       "      <td>2018-01-02</td>\n",
       "      <td>2018</td>\n",
       "      <td>1</td>\n",
       "      <td>2</td>\n",
       "      <td>1</td>\n",
       "      <td>B57</td>\n",
       "      <td>0</td>\n",
       "      <td>0</td>\n",
       "      <td>0.1551</td>\n",
       "    </tr>\n",
       "    <tr>\n",
       "      <th>3</th>\n",
       "      <td>2018-01-03</td>\n",
       "      <td>2018</td>\n",
       "      <td>1</td>\n",
       "      <td>3</td>\n",
       "      <td>1</td>\n",
       "      <td>B51</td>\n",
       "      <td>0</td>\n",
       "      <td>0</td>\n",
       "      <td>0.3953</td>\n",
       "    </tr>\n",
       "    <tr>\n",
       "      <th>4</th>\n",
       "      <td>2018-01-03</td>\n",
       "      <td>2018</td>\n",
       "      <td>1</td>\n",
       "      <td>3</td>\n",
       "      <td>1</td>\n",
       "      <td>B52</td>\n",
       "      <td>0</td>\n",
       "      <td>0</td>\n",
       "      <td>0.0000</td>\n",
       "    </tr>\n",
       "  </tbody>\n",
       "</table>\n",
       "</div>"
      ],
      "text/plain": [
       "      tanggal  tahun  bulan  tgl  weeks jenbel  policy_1  policy_2   preal\n",
       "0  2018-01-02   2018      1    2      1    B51         0         0  3.4087\n",
       "1  2018-01-02   2018      1    2      1    B52         0         0  0.0004\n",
       "2  2018-01-02   2018      1    2      1    B57         0         0  0.1551\n",
       "3  2018-01-03   2018      1    3      1    B51         0         0  0.3953\n",
       "4  2018-01-03   2018      1    3      1    B52         0         0  0.0000"
      ]
     },
     "execution_count": 7,
     "metadata": {
      "tags": []
     },
     "output_type": "execute_result"
    }
   ],
   "source": [
    "df_set.head()"
   ]
  },
  {
   "cell_type": "code",
   "execution_count": null,
   "metadata": {
    "colab": {
     "base_uri": "https://localhost:8080/"
    },
    "executionInfo": {
     "elapsed": 2545,
     "status": "ok",
     "timestamp": 1611853024581,
     "user": {
      "displayName": "Sabar Sautomo",
      "photoUrl": "https://lh3.googleusercontent.com/a-/AOh14GhCqBZrGQz63loThVKOoghftXO4crVw42m7td-ZEQ=s64",
      "userId": "11152206577099957818"
     },
     "user_tz": -420
    },
    "id": "b_NO7T4E3EA9",
    "outputId": "2d64a5ff-93a5-4892-b887-69a789744308"
   },
   "outputs": [
    {
     "data": {
      "text/plain": [
       "<bound method DataFrame.info of          tanggal  tahun  bulan  tgl  weeks jenbel  policy_1  policy_2   preal\n",
       "0     2018-01-02   2018      1    2      1    B51         0         0  3.4087\n",
       "1     2018-01-02   2018      1    2      1    B52         0         0  0.0004\n",
       "2     2018-01-02   2018      1    2      1    B57         0         0  0.1551\n",
       "3     2018-01-03   2018      1    3      1    B51         0         0  0.3953\n",
       "4     2018-01-03   2018      1    3      1    B52         0         0  0.0000\n",
       "...          ...    ...    ...  ...    ...    ...       ...       ...     ...\n",
       "2803  2020-11-30   2020     11   30     49    B57         0         0  0.0103\n",
       "2804  2020-12-01   2020     12    1     49    B51         1         0  3.5727\n",
       "2805  2020-12-01   2020     12    1     49    B52         1         0  0.2309\n",
       "2806  2020-12-01   2020     12    1     49    B53         1         0  0.1325\n",
       "2807  2020-12-01   2020     12    1     49    B57         1         0  0.0011\n",
       "\n",
       "[2808 rows x 9 columns]>"
      ]
     },
     "execution_count": 8,
     "metadata": {
      "tags": []
     },
     "output_type": "execute_result"
    }
   ],
   "source": [
    "pd.set_option('display.max_columns', None) \n",
    "df_set.info"
   ]
  },
  {
   "cell_type": "code",
   "execution_count": null,
   "metadata": {
    "colab": {
     "base_uri": "https://localhost:8080/",
     "height": 197
    },
    "executionInfo": {
     "elapsed": 2538,
     "status": "ok",
     "timestamp": 1611853024582,
     "user": {
      "displayName": "Sabar Sautomo",
      "photoUrl": "https://lh3.googleusercontent.com/a-/AOh14GhCqBZrGQz63loThVKOoghftXO4crVw42m7td-ZEQ=s64",
      "userId": "11152206577099957818"
     },
     "user_tz": -420
    },
    "id": "8sazdZCFwk-G",
    "outputId": "5fb81f63-4b3b-4af3-bb2d-c258b1c52642"
   },
   "outputs": [
    {
     "data": {
      "text/html": [
       "<div>\n",
       "<style scoped>\n",
       "    .dataframe tbody tr th:only-of-type {\n",
       "        vertical-align: middle;\n",
       "    }\n",
       "\n",
       "    .dataframe tbody tr th {\n",
       "        vertical-align: top;\n",
       "    }\n",
       "\n",
       "    .dataframe thead th {\n",
       "        text-align: right;\n",
       "    }\n",
       "</style>\n",
       "<table border=\"1\" class=\"dataframe\">\n",
       "  <thead>\n",
       "    <tr style=\"text-align: right;\">\n",
       "      <th></th>\n",
       "      <th>tanggal</th>\n",
       "      <th>tahun</th>\n",
       "      <th>bulan</th>\n",
       "      <th>tgl</th>\n",
       "      <th>weeks</th>\n",
       "      <th>jenbel</th>\n",
       "      <th>policy_1</th>\n",
       "      <th>policy_2</th>\n",
       "      <th>preal</th>\n",
       "    </tr>\n",
       "  </thead>\n",
       "  <tbody>\n",
       "    <tr>\n",
       "      <th>1</th>\n",
       "      <td>2018-01-02</td>\n",
       "      <td>2018</td>\n",
       "      <td>1</td>\n",
       "      <td>2</td>\n",
       "      <td>1</td>\n",
       "      <td>B52</td>\n",
       "      <td>0</td>\n",
       "      <td>0</td>\n",
       "      <td>0.0004</td>\n",
       "    </tr>\n",
       "    <tr>\n",
       "      <th>4</th>\n",
       "      <td>2018-01-03</td>\n",
       "      <td>2018</td>\n",
       "      <td>1</td>\n",
       "      <td>3</td>\n",
       "      <td>1</td>\n",
       "      <td>B52</td>\n",
       "      <td>0</td>\n",
       "      <td>0</td>\n",
       "      <td>0.0000</td>\n",
       "    </tr>\n",
       "    <tr>\n",
       "      <th>6</th>\n",
       "      <td>2018-01-04</td>\n",
       "      <td>2018</td>\n",
       "      <td>1</td>\n",
       "      <td>4</td>\n",
       "      <td>1</td>\n",
       "      <td>B52</td>\n",
       "      <td>0</td>\n",
       "      <td>0</td>\n",
       "      <td>0.0002</td>\n",
       "    </tr>\n",
       "    <tr>\n",
       "      <th>8</th>\n",
       "      <td>2018-01-05</td>\n",
       "      <td>2018</td>\n",
       "      <td>1</td>\n",
       "      <td>5</td>\n",
       "      <td>1</td>\n",
       "      <td>B52</td>\n",
       "      <td>0</td>\n",
       "      <td>0</td>\n",
       "      <td>0.0007</td>\n",
       "    </tr>\n",
       "    <tr>\n",
       "      <th>11</th>\n",
       "      <td>2018-01-08</td>\n",
       "      <td>2018</td>\n",
       "      <td>1</td>\n",
       "      <td>8</td>\n",
       "      <td>2</td>\n",
       "      <td>B52</td>\n",
       "      <td>0</td>\n",
       "      <td>0</td>\n",
       "      <td>0.0015</td>\n",
       "    </tr>\n",
       "  </tbody>\n",
       "</table>\n",
       "</div>"
      ],
      "text/plain": [
       "       tanggal  tahun  bulan  tgl  weeks jenbel  policy_1  policy_2   preal\n",
       "1   2018-01-02   2018      1    2      1    B52         0         0  0.0004\n",
       "4   2018-01-03   2018      1    3      1    B52         0         0  0.0000\n",
       "6   2018-01-04   2018      1    4      1    B52         0         0  0.0002\n",
       "8   2018-01-05   2018      1    5      1    B52         0         0  0.0007\n",
       "11  2018-01-08   2018      1    8      2    B52         0         0  0.0015"
      ]
     },
     "execution_count": 9,
     "metadata": {
      "tags": []
     },
     "output_type": "execute_result"
    }
   ],
   "source": [
    "dataset = df_set[df_set.jenbel=='B52']\n",
    "dataset.sort_values('tanggal')\n",
    "dataset.head()"
   ]
  },
  {
   "cell_type": "code",
   "execution_count": null,
   "metadata": {
    "colab": {
     "base_uri": "https://localhost:8080/"
    },
    "executionInfo": {
     "elapsed": 2530,
     "status": "ok",
     "timestamp": 1611853024582,
     "user": {
      "displayName": "Sabar Sautomo",
      "photoUrl": "https://lh3.googleusercontent.com/a-/AOh14GhCqBZrGQz63loThVKOoghftXO4crVw42m7td-ZEQ=s64",
      "userId": "11152206577099957818"
     },
     "user_tz": -420
    },
    "id": "d7_SgEQ6U5oG",
    "outputId": "6cb5f1e5-71b7-4eb5-a8d5-6465c206ab46"
   },
   "outputs": [
    {
     "data": {
      "text/plain": [
       "policy_2   -0.015148\n",
       "tahun      -0.067968\n",
       "tgl         0.184405\n",
       "policy_1    0.309188\n",
       "bulan       0.515588\n",
       "weeks       0.529580\n",
       "preal       1.000000\n",
       "Name: preal, dtype: float64"
      ]
     },
     "execution_count": 10,
     "metadata": {
      "tags": []
     },
     "output_type": "execute_result"
    }
   ],
   "source": [
    "corr_matrix=dataset.corr()\n",
    "prosentase_corr = corr_matrix['preal']\n",
    "prosentase_corr.iloc[prosentase_corr.abs().argsort()]"
   ]
  },
  {
   "cell_type": "code",
   "execution_count": null,
   "metadata": {
    "id": "l-xW11EoVIJ4"
   },
   "outputs": [],
   "source": [
    "corr_matrix = dataset.corr()"
   ]
  },
  {
   "cell_type": "code",
   "execution_count": null,
   "metadata": {
    "colab": {
     "base_uri": "https://localhost:8080/",
     "height": 300
    },
    "executionInfo": {
     "elapsed": 4580,
     "status": "ok",
     "timestamp": 1611853026645,
     "user": {
      "displayName": "Sabar Sautomo",
      "photoUrl": "https://lh3.googleusercontent.com/a-/AOh14GhCqBZrGQz63loThVKOoghftXO4crVw42m7td-ZEQ=s64",
      "userId": "11152206577099957818"
     },
     "user_tz": -420
    },
    "id": "RIlEH0guVO8n",
    "outputId": "6d17a5dd-3c5e-469b-fa91-bd54809309de"
   },
   "outputs": [
    {
     "data": {
      "image/png": "[encoded data removed]",
      "text/plain": [
       "<Figure size 432x288 with 2 Axes>"
      ]
     },
     "metadata": {
      "needs_background": "light",
      "tags": []
     },
     "output_type": "display_data"
    }
   ],
   "source": [
    "import seaborn as sns\n",
    "palette = sns.diverging_palette(20, 220, n=256)\n",
    "sns.heatmap(corr_matrix, annot=True, fmt=\".2f\", cmap=palette, vmax=.3, center=0,\n",
    "            square=True, linewidths=.5);"
   ]
  },
  {
   "cell_type": "code",
   "execution_count": null,
   "metadata": {
    "id": "266vPfSSWy34"
   },
   "outputs": [],
   "source": [
    "dataset = dataset.drop(['tahun','policy_2'], axis=1)"
   ]
  },
  {
   "cell_type": "code",
   "execution_count": null,
   "metadata": {
    "colab": {
     "base_uri": "https://localhost:8080/",
     "height": 197
    },
    "executionInfo": {
     "elapsed": 4568,
     "status": "ok",
     "timestamp": 1611853026646,
     "user": {
      "displayName": "Sabar Sautomo",
      "photoUrl": "https://lh3.googleusercontent.com/a-/AOh14GhCqBZrGQz63loThVKOoghftXO4crVw42m7td-ZEQ=s64",
      "userId": "11152206577099957818"
     },
     "user_tz": -420
    },
    "id": "JABDMEkjmkQd",
    "outputId": "0584cb81-4a2f-486e-d774-32e0abf886d7"
   },
   "outputs": [
    {
     "data": {
      "text/html": [
       "<div>\n",
       "<style scoped>\n",
       "    .dataframe tbody tr th:only-of-type {\n",
       "        vertical-align: middle;\n",
       "    }\n",
       "\n",
       "    .dataframe tbody tr th {\n",
       "        vertical-align: top;\n",
       "    }\n",
       "\n",
       "    .dataframe thead th {\n",
       "        text-align: right;\n",
       "    }\n",
       "</style>\n",
       "<table border=\"1\" class=\"dataframe\">\n",
       "  <thead>\n",
       "    <tr style=\"text-align: right;\">\n",
       "      <th></th>\n",
       "      <th>tanggal</th>\n",
       "      <th>bulan</th>\n",
       "      <th>tgl</th>\n",
       "      <th>weeks</th>\n",
       "      <th>jenbel</th>\n",
       "      <th>policy_1</th>\n",
       "      <th>preal</th>\n",
       "    </tr>\n",
       "  </thead>\n",
       "  <tbody>\n",
       "    <tr>\n",
       "      <th>1</th>\n",
       "      <td>2018-01-02</td>\n",
       "      <td>1</td>\n",
       "      <td>2</td>\n",
       "      <td>1</td>\n",
       "      <td>B52</td>\n",
       "      <td>0</td>\n",
       "      <td>0.0004</td>\n",
       "    </tr>\n",
       "    <tr>\n",
       "      <th>4</th>\n",
       "      <td>2018-01-03</td>\n",
       "      <td>1</td>\n",
       "      <td>3</td>\n",
       "      <td>1</td>\n",
       "      <td>B52</td>\n",
       "      <td>0</td>\n",
       "      <td>0.0000</td>\n",
       "    </tr>\n",
       "    <tr>\n",
       "      <th>6</th>\n",
       "      <td>2018-01-04</td>\n",
       "      <td>1</td>\n",
       "      <td>4</td>\n",
       "      <td>1</td>\n",
       "      <td>B52</td>\n",
       "      <td>0</td>\n",
       "      <td>0.0002</td>\n",
       "    </tr>\n",
       "    <tr>\n",
       "      <th>8</th>\n",
       "      <td>2018-01-05</td>\n",
       "      <td>1</td>\n",
       "      <td>5</td>\n",
       "      <td>1</td>\n",
       "      <td>B52</td>\n",
       "      <td>0</td>\n",
       "      <td>0.0007</td>\n",
       "    </tr>\n",
       "    <tr>\n",
       "      <th>11</th>\n",
       "      <td>2018-01-08</td>\n",
       "      <td>1</td>\n",
       "      <td>8</td>\n",
       "      <td>2</td>\n",
       "      <td>B52</td>\n",
       "      <td>0</td>\n",
       "      <td>0.0015</td>\n",
       "    </tr>\n",
       "  </tbody>\n",
       "</table>\n",
       "</div>"
      ],
      "text/plain": [
       "       tanggal  bulan  tgl  weeks jenbel  policy_1   preal\n",
       "1   2018-01-02      1    2      1    B52         0  0.0004\n",
       "4   2018-01-03      1    3      1    B52         0  0.0000\n",
       "6   2018-01-04      1    4      1    B52         0  0.0002\n",
       "8   2018-01-05      1    5      1    B52         0  0.0007\n",
       "11  2018-01-08      1    8      2    B52         0  0.0015"
      ]
     },
     "execution_count": 14,
     "metadata": {
      "tags": []
     },
     "output_type": "execute_result"
    }
   ],
   "source": [
    "dataset.head()"
   ]
  },
  {
   "cell_type": "code",
   "execution_count": null,
   "metadata": {
    "id": "6WBE3WBAwk-x"
   },
   "outputs": [],
   "source": [
    "# CREATING OWN INDEX FOR FLEXIBILITY\n",
    "obs = np.arange(1, len(dataset) + 1, 1)\n",
    "# TAKING DIFFERENT INDICATORS FOR PREDICTION\n",
    "close_val = dataset[['preal']]"
   ]
  },
  {
   "cell_type": "code",
   "execution_count": null,
   "metadata": {
    "colab": {
     "base_uri": "https://localhost:8080/",
     "height": 483
    },
    "executionInfo": {
     "elapsed": 4557,
     "status": "ok",
     "timestamp": 1611853026648,
     "user": {
      "displayName": "Sabar Sautomo",
      "photoUrl": "https://lh3.googleusercontent.com/a-/AOh14GhCqBZrGQz63loThVKOoghftXO4crVw42m7td-ZEQ=s64",
      "userId": "11152206577099957818"
     },
     "user_tz": -420
    },
    "id": "-mxHtZotwk_Q",
    "outputId": "5a9db617-9a6f-4907-c339-69c793fddc34"
   },
   "outputs": [
    {
     "data": {
      "image/png": "[encoded data removed]",
      "text/plain": [
       "<Figure size 1152x576 with 1 Axes>"
      ]
     },
     "metadata": {
      "needs_background": "light",
      "tags": []
     },
     "output_type": "display_data"
    }
   ],
   "source": [
    "# PLOTTING ALL INDICATORS IN ONE PLOT\n",
    "import matplotlib.pyplot as plt\n",
    "plt.figure(figsize=(16,8))\n",
    "plt.plot(obs, close_val, 'g', label = 'realisasi')\n",
    "plt.legend(loc = 'upper left')\n",
    "plt.show()"
   ]
  },
  {
   "cell_type": "code",
   "execution_count": null,
   "metadata": {
    "id": "GCex4BiLwk_4"
   },
   "outputs": [],
   "source": [
    "# PREPARATION OF TIME SERIES DATASE\n",
    "import math\n",
    "from sklearn.preprocessing import MinMaxScaler\n",
    "OHLC_avg = np.reshape(close_val.values, (len(close_val),1)) # 1664\n",
    "scaler = MinMaxScaler(feature_range=(0, 1))\n",
    "OHLC_avg = scaler.fit_transform(close_val)\n",
    "#OHLC_avg"
   ]
  },
  {
   "cell_type": "code",
   "execution_count": null,
   "metadata": {
    "colab": {
     "base_uri": "https://localhost:8080/"
    },
    "executionInfo": {
     "elapsed": 4546,
     "status": "ok",
     "timestamp": 1611853026649,
     "user": {
      "displayName": "Sabar Sautomo",
      "photoUrl": "https://lh3.googleusercontent.com/a-/AOh14GhCqBZrGQz63loThVKOoghftXO4crVw42m7td-ZEQ=s64",
      "userId": "11152206577099957818"
     },
     "user_tz": -420
    },
    "id": "SqoQ5CjzwlAp",
    "outputId": "30d575af-9876-4aa0-a35e-b7ed3418352d"
   },
   "outputs": [
    {
     "data": {
      "text/plain": [
       "576"
      ]
     },
     "execution_count": 18,
     "metadata": {
      "tags": []
     },
     "output_type": "execute_result"
    }
   ],
   "source": [
    "# TRAIN-TEST SPLIT\n",
    "train_OHLC = int(len(OHLC_avg) * 0.80)\n",
    "test_OHLC = len(OHLC_avg) - train_OHLC\n",
    "train_OHLC, test_OHLC = OHLC_avg[0:train_OHLC,:], OHLC_avg[train_OHLC:len(OHLC_avg),:]\n",
    "len(train_OHLC)"
   ]
  },
  {
   "cell_type": "code",
   "execution_count": null,
   "metadata": {
    "colab": {
     "base_uri": "https://localhost:8080/"
    },
    "executionInfo": {
     "elapsed": 4541,
     "status": "ok",
     "timestamp": 1611853026650,
     "user": {
      "displayName": "Sabar Sautomo",
      "photoUrl": "https://lh3.googleusercontent.com/a-/AOh14GhCqBZrGQz63loThVKOoghftXO4crVw42m7td-ZEQ=s64",
      "userId": "11152206577099957818"
     },
     "user_tz": -420
    },
    "id": "oBjd-1toGfWJ",
    "outputId": "93a85c67-7b0a-48b1-88fb-6a3f3062bbea"
   },
   "outputs": [
    {
     "data": {
      "text/plain": [
       "(576, 1)"
      ]
     },
     "execution_count": 19,
     "metadata": {
      "tags": []
     },
     "output_type": "execute_result"
    }
   ],
   "source": [
    "train_OHLC.shape"
   ]
  },
  {
   "cell_type": "code",
   "execution_count": null,
   "metadata": {
    "id": "twjAssM6wlEQ"
   },
   "outputs": [],
   "source": [
    "# TIME-SERIES DATASET (FOR TIME T, VALUES FOR TIME T+1)\n",
    "trainX, trainY = new_dataset(train_OHLC, 1)\n",
    "testX, testY = new_dataset(test_OHLC, 1)\n",
    "#trainY"
   ]
  },
  {
   "cell_type": "code",
   "execution_count": null,
   "metadata": {
    "id": "uMObO4CGwlEd"
   },
   "outputs": [],
   "source": [
    "# RESHAPING TRAIN AND TEST DATA\n",
    "trainX = np.reshape(trainX, (trainX.shape[0], 1, trainX.shape[1]))\n",
    "testX = np.reshape(testX, (testX.shape[0], 1, testX.shape[1]))\n",
    "step_size = 1"
   ]
  },
  {
   "cell_type": "code",
   "execution_count": null,
   "metadata": {
    "id": "h25z5998wlEk"
   },
   "outputs": [],
   "source": [
    "from keras.models import Sequential\n",
    "from keras.layers import Dense, Activation\n",
    "from keras.layers import LSTM\n",
    "from keras.layers import Dropout "
   ]
  },
  {
   "cell_type": "code",
   "execution_count": null,
   "metadata": {
    "id": "iSea_-EswlEq"
   },
   "outputs": [],
   "source": [
    "# # LSTM MODEL\n",
    "# model = Sequential()\n",
    "# model.add(LSTM(32, input_shape=(1, step_size), return_sequences = True))\n",
    "# model.add(LSTM(16))\n",
    "# model.add(Dense(1))\n",
    "# model.add(Activation('linear'))"
   ]
  },
  {
   "cell_type": "code",
   "execution_count": null,
   "metadata": {
    "colab": {
     "base_uri": "https://localhost:8080/"
    },
    "executionInfo": {
     "elapsed": 22025,
     "status": "ok",
     "timestamp": 1611853044158,
     "user": {
      "displayName": "Sabar Sautomo",
      "photoUrl": "https://lh3.googleusercontent.com/a-/AOh14GhCqBZrGQz63loThVKOoghftXO4crVw42m7td-ZEQ=s64",
      "userId": "11152206577099957818"
     },
     "user_tz": -420
    },
    "id": "_lK1qC4RwlEx",
    "outputId": "add2d2b4-92e1-4851-d6d7-d1493d797498"
   },
   "outputs": [
    {
     "name": "stdout",
     "output_type": "stream",
     "text": [
      "Epoch 1/150\n",
      "12/12 [==============================] - 4s 6ms/step - loss: 0.0118\n",
      "Epoch 2/150\n",
      "12/12 [==============================] - 0s 6ms/step - loss: 0.0067\n",
      "Epoch 3/150\n",
      "12/12 [==============================] - 0s 6ms/step - loss: 0.0062\n",
      "Epoch 4/150\n",
      "12/12 [==============================] - 0s 5ms/step - loss: 0.0060\n",
      "Epoch 5/150\n",
      "12/12 [==============================] - 0s 6ms/step - loss: 0.0041\n",
      "Epoch 6/150\n",
      "12/12 [==============================] - 0s 6ms/step - loss: 0.0049\n",
      "Epoch 7/150\n",
      "12/12 [==============================] - 0s 5ms/step - loss: 0.0054\n",
      "Epoch 8/150\n",
      "12/12 [==============================] - 0s 5ms/step - loss: 0.0048\n",
      "Epoch 9/150\n",
      "12/12 [==============================] - 0s 6ms/step - loss: 0.0075\n",
      "Epoch 10/150\n",
      "12/12 [==============================] - 0s 6ms/step - loss: 0.0049\n",
      "Epoch 11/150\n",
      "12/12 [==============================] - 0s 5ms/step - loss: 0.0046\n",
      "Epoch 12/150\n",
      "12/12 [==============================] - 0s 6ms/step - loss: 0.0029\n",
      "Epoch 13/150\n",
      "12/12 [==============================] - 0s 5ms/step - loss: 0.0059\n",
      "Epoch 14/150\n",
      "12/12 [==============================] - 0s 5ms/step - loss: 0.0035\n",
      "Epoch 15/150\n",
      "12/12 [==============================] - 0s 5ms/step - loss: 0.0059\n",
      "Epoch 16/150\n",
      "12/12 [==============================] - 0s 6ms/step - loss: 0.0040\n",
      "Epoch 17/150\n",
      "12/12 [==============================] - 0s 6ms/step - loss: 0.0026\n",
      "Epoch 18/150\n",
      "12/12 [==============================] - 0s 5ms/step - loss: 0.0035\n",
      "Epoch 19/150\n",
      "12/12 [==============================] - 0s 5ms/step - loss: 0.0045\n",
      "Epoch 20/150\n",
      "12/12 [==============================] - 0s 6ms/step - loss: 0.0069\n",
      "Epoch 21/150\n",
      "12/12 [==============================] - 0s 5ms/step - loss: 0.0032\n",
      "Epoch 22/150\n",
      "12/12 [==============================] - 0s 5ms/step - loss: 0.0064\n",
      "Epoch 23/150\n",
      "12/12 [==============================] - 0s 6ms/step - loss: 0.0067\n",
      "Epoch 24/150\n",
      "12/12 [==============================] - 0s 5ms/step - loss: 0.0045\n",
      "Epoch 25/150\n",
      "12/12 [==============================] - 0s 5ms/step - loss: 0.0029\n",
      "Epoch 26/150\n",
      "12/12 [==============================] - 0s 6ms/step - loss: 0.0054\n",
      "Epoch 27/150\n",
      "12/12 [==============================] - 0s 6ms/step - loss: 0.0030\n",
      "Epoch 28/150\n",
      "12/12 [==============================] - 0s 5ms/step - loss: 0.0054\n",
      "Epoch 29/150\n",
      "12/12 [==============================] - 0s 6ms/step - loss: 0.0054\n",
      "Epoch 30/150\n",
      "12/12 [==============================] - 0s 5ms/step - loss: 0.0039\n",
      "Epoch 31/150\n",
      "12/12 [==============================] - 0s 5ms/step - loss: 0.0049\n",
      "Epoch 32/150\n",
      "12/12 [==============================] - 0s 6ms/step - loss: 0.0062\n",
      "Epoch 33/150\n",
      "12/12 [==============================] - 0s 6ms/step - loss: 0.0062\n",
      "Epoch 34/150\n",
      "12/12 [==============================] - 0s 6ms/step - loss: 0.0027\n",
      "Epoch 35/150\n",
      "12/12 [==============================] - 0s 5ms/step - loss: 0.0050\n",
      "Epoch 36/150\n",
      "12/12 [==============================] - 0s 5ms/step - loss: 0.0047\n",
      "Epoch 37/150\n",
      "12/12 [==============================] - 0s 6ms/step - loss: 0.0057\n",
      "Epoch 38/150\n",
      "12/12 [==============================] - 0s 6ms/step - loss: 0.0028\n",
      "Epoch 39/150\n",
      "12/12 [==============================] - 0s 5ms/step - loss: 0.0041\n",
      "Epoch 40/150\n",
      "12/12 [==============================] - 0s 6ms/step - loss: 0.0051\n",
      "Epoch 41/150\n",
      "12/12 [==============================] - 0s 6ms/step - loss: 0.0043\n",
      "Epoch 42/150\n",
      "12/12 [==============================] - 0s 5ms/step - loss: 0.0029\n",
      "Epoch 43/150\n",
      "12/12 [==============================] - 0s 5ms/step - loss: 0.0023\n",
      "Epoch 44/150\n",
      "12/12 [==============================] - 0s 6ms/step - loss: 0.0031\n",
      "Epoch 45/150\n",
      "12/12 [==============================] - 0s 5ms/step - loss: 0.0041\n",
      "Epoch 46/150\n",
      "12/12 [==============================] - 0s 6ms/step - loss: 0.0048\n",
      "Epoch 47/150\n",
      "12/12 [==============================] - 0s 5ms/step - loss: 0.0023\n",
      "Epoch 48/150\n",
      "12/12 [==============================] - 0s 6ms/step - loss: 0.0042\n",
      "Epoch 49/150\n",
      "12/12 [==============================] - 0s 6ms/step - loss: 0.0038\n",
      "Epoch 50/150\n",
      "12/12 [==============================] - 0s 6ms/step - loss: 0.0053\n",
      "Epoch 51/150\n",
      "12/12 [==============================] - 0s 6ms/step - loss: 0.0035\n",
      "Epoch 52/150\n",
      "12/12 [==============================] - 0s 5ms/step - loss: 0.0065\n",
      "Epoch 53/150\n",
      "12/12 [==============================] - 0s 5ms/step - loss: 0.0029\n",
      "Epoch 54/150\n",
      "12/12 [==============================] - 0s 6ms/step - loss: 0.0057\n",
      "Epoch 55/150\n",
      "12/12 [==============================] - 0s 6ms/step - loss: 0.0032\n",
      "Epoch 56/150\n",
      "12/12 [==============================] - 0s 6ms/step - loss: 0.0033\n",
      "Epoch 57/150\n",
      "12/12 [==============================] - 0s 5ms/step - loss: 0.0041\n",
      "Epoch 58/150\n",
      "12/12 [==============================] - 0s 5ms/step - loss: 0.0043\n",
      "Epoch 59/150\n",
      "12/12 [==============================] - 0s 5ms/step - loss: 0.0024\n",
      "Epoch 60/150\n",
      "12/12 [==============================] - 0s 6ms/step - loss: 0.0028\n",
      "Epoch 61/150\n",
      "12/12 [==============================] - 0s 6ms/step - loss: 0.0037\n",
      "Epoch 62/150\n",
      "12/12 [==============================] - 0s 6ms/step - loss: 0.0040\n",
      "Epoch 63/150\n",
      "12/12 [==============================] - 0s 5ms/step - loss: 0.0042\n",
      "Epoch 64/150\n",
      "12/12 [==============================] - 0s 5ms/step - loss: 0.0040\n",
      "Epoch 65/150\n",
      "12/12 [==============================] - 0s 6ms/step - loss: 0.0060\n",
      "Epoch 66/150\n",
      "12/12 [==============================] - 0s 5ms/step - loss: 0.0025\n",
      "Epoch 67/150\n",
      "12/12 [==============================] - 0s 6ms/step - loss: 0.0043\n",
      "Epoch 68/150\n",
      "12/12 [==============================] - 0s 6ms/step - loss: 0.0038\n",
      "Epoch 69/150\n",
      "12/12 [==============================] - 0s 6ms/step - loss: 0.0036\n",
      "Epoch 70/150\n",
      "12/12 [==============================] - 0s 6ms/step - loss: 0.0065\n",
      "Epoch 71/150\n",
      "12/12 [==============================] - 0s 5ms/step - loss: 0.0048\n",
      "Epoch 72/150\n",
      "12/12 [==============================] - 0s 6ms/step - loss: 0.0068\n",
      "Epoch 73/150\n",
      "12/12 [==============================] - 0s 5ms/step - loss: 0.0040\n",
      "Epoch 74/150\n",
      "12/12 [==============================] - 0s 5ms/step - loss: 0.0049\n",
      "Epoch 75/150\n",
      "12/12 [==============================] - 0s 6ms/step - loss: 0.0024\n",
      "Epoch 76/150\n",
      "12/12 [==============================] - 0s 6ms/step - loss: 0.0056\n",
      "Epoch 77/150\n",
      "12/12 [==============================] - 0s 6ms/step - loss: 0.0045\n",
      "Epoch 78/150\n",
      "12/12 [==============================] - 0s 5ms/step - loss: 0.0061\n",
      "Epoch 79/150\n",
      "12/12 [==============================] - 0s 6ms/step - loss: 0.0052\n",
      "Epoch 80/150\n",
      "12/12 [==============================] - 0s 5ms/step - loss: 0.0028\n",
      "Epoch 81/150\n",
      "12/12 [==============================] - 0s 6ms/step - loss: 0.0031\n",
      "Epoch 82/150\n",
      "12/12 [==============================] - 0s 6ms/step - loss: 0.0029\n",
      "Epoch 83/150\n",
      "12/12 [==============================] - 0s 6ms/step - loss: 0.0038\n",
      "Epoch 84/150\n",
      "12/12 [==============================] - 0s 6ms/step - loss: 0.0064\n",
      "Epoch 85/150\n",
      "12/12 [==============================] - 0s 7ms/step - loss: 0.0019\n",
      "Epoch 86/150\n",
      "12/12 [==============================] - 0s 7ms/step - loss: 0.0033\n",
      "Epoch 87/150\n",
      "12/12 [==============================] - 0s 7ms/step - loss: 0.0051\n",
      "Epoch 88/150\n",
      "12/12 [==============================] - 0s 6ms/step - loss: 0.0026\n",
      "Epoch 89/150\n",
      "12/12 [==============================] - 0s 6ms/step - loss: 0.0027\n",
      "Epoch 90/150\n",
      "12/12 [==============================] - 0s 6ms/step - loss: 0.0053\n",
      "Epoch 91/150\n",
      "12/12 [==============================] - 0s 6ms/step - loss: 0.0038\n",
      "Epoch 92/150\n",
      "12/12 [==============================] - 0s 6ms/step - loss: 0.0035\n",
      "Epoch 93/150\n",
      "12/12 [==============================] - 0s 5ms/step - loss: 0.0039\n",
      "Epoch 94/150\n",
      "12/12 [==============================] - 0s 6ms/step - loss: 0.0041\n",
      "Epoch 95/150\n",
      "12/12 [==============================] - 0s 6ms/step - loss: 0.0056\n",
      "Epoch 96/150\n",
      "12/12 [==============================] - 0s 6ms/step - loss: 0.0060\n",
      "Epoch 97/150\n",
      "12/12 [==============================] - 0s 6ms/step - loss: 0.0026\n",
      "Epoch 98/150\n",
      "12/12 [==============================] - 0s 6ms/step - loss: 0.0038\n",
      "Epoch 99/150\n",
      "12/12 [==============================] - 0s 6ms/step - loss: 0.0055\n",
      "Epoch 100/150\n",
      "12/12 [==============================] - 0s 5ms/step - loss: 0.0037\n",
      "Epoch 101/150\n",
      "12/12 [==============================] - 0s 6ms/step - loss: 0.0034\n",
      "Epoch 102/150\n",
      "12/12 [==============================] - 0s 6ms/step - loss: 0.0050\n",
      "Epoch 103/150\n",
      "12/12 [==============================] - 0s 5ms/step - loss: 0.0057\n",
      "Epoch 104/150\n",
      "12/12 [==============================] - 0s 5ms/step - loss: 0.0064\n",
      "Epoch 105/150\n",
      "12/12 [==============================] - 0s 6ms/step - loss: 0.0027\n",
      "Epoch 106/150\n",
      "12/12 [==============================] - 0s 6ms/step - loss: 0.0035\n",
      "Epoch 107/150\n",
      "12/12 [==============================] - 0s 6ms/step - loss: 0.0035\n",
      "Epoch 108/150\n",
      "12/12 [==============================] - 0s 5ms/step - loss: 0.0072\n",
      "Epoch 109/150\n",
      "12/12 [==============================] - 0s 6ms/step - loss: 0.0051\n",
      "Epoch 110/150\n",
      "12/12 [==============================] - 0s 7ms/step - loss: 0.0044\n",
      "Epoch 111/150\n",
      "12/12 [==============================] - 0s 7ms/step - loss: 0.0042\n",
      "Epoch 112/150\n",
      "12/12 [==============================] - 0s 7ms/step - loss: 0.0059\n",
      "Epoch 113/150\n",
      "12/12 [==============================] - 0s 6ms/step - loss: 0.0060\n",
      "Epoch 114/150\n",
      "12/12 [==============================] - 0s 6ms/step - loss: 0.0050\n",
      "Epoch 115/150\n",
      "12/12 [==============================] - 0s 5ms/step - loss: 0.0044\n",
      "Epoch 116/150\n",
      "12/12 [==============================] - 0s 6ms/step - loss: 0.0034\n",
      "Epoch 117/150\n",
      "12/12 [==============================] - 0s 5ms/step - loss: 0.0050\n",
      "Epoch 118/150\n",
      "12/12 [==============================] - 0s 6ms/step - loss: 0.0035\n",
      "Epoch 119/150\n",
      "12/12 [==============================] - 0s 6ms/step - loss: 0.0039\n",
      "Epoch 120/150\n",
      "12/12 [==============================] - 0s 5ms/step - loss: 0.0066\n",
      "Epoch 121/150\n",
      "12/12 [==============================] - 0s 5ms/step - loss: 0.0025\n",
      "Epoch 122/150\n",
      "12/12 [==============================] - 0s 6ms/step - loss: 0.0041\n",
      "Epoch 123/150\n",
      "12/12 [==============================] - 0s 6ms/step - loss: 0.0038\n",
      "Epoch 124/150\n",
      "12/12 [==============================] - 0s 5ms/step - loss: 0.0029\n",
      "Epoch 125/150\n",
      "12/12 [==============================] - 0s 6ms/step - loss: 0.0043\n",
      "Epoch 126/150\n",
      "12/12 [==============================] - 0s 5ms/step - loss: 0.0030\n",
      "Epoch 127/150\n",
      "12/12 [==============================] - 0s 6ms/step - loss: 0.0030\n",
      "Epoch 128/150\n",
      "12/12 [==============================] - 0s 5ms/step - loss: 0.0046\n",
      "Epoch 129/150\n",
      "12/12 [==============================] - 0s 6ms/step - loss: 0.0045\n",
      "Epoch 130/150\n",
      "12/12 [==============================] - 0s 6ms/step - loss: 0.0044\n",
      "Epoch 131/150\n",
      "12/12 [==============================] - 0s 6ms/step - loss: 0.0038\n",
      "Epoch 132/150\n",
      "12/12 [==============================] - 0s 5ms/step - loss: 0.0038\n",
      "Epoch 133/150\n",
      "12/12 [==============================] - 0s 6ms/step - loss: 0.0037\n",
      "Epoch 134/150\n",
      "12/12 [==============================] - 0s 6ms/step - loss: 0.0041\n",
      "Epoch 135/150\n",
      "12/12 [==============================] - 0s 6ms/step - loss: 0.0061\n",
      "Epoch 136/150\n",
      "12/12 [==============================] - 0s 6ms/step - loss: 0.0037\n",
      "Epoch 137/150\n",
      "12/12 [==============================] - 0s 7ms/step - loss: 0.0050\n",
      "Epoch 138/150\n",
      "12/12 [==============================] - 0s 6ms/step - loss: 0.0040\n",
      "Epoch 139/150\n",
      "12/12 [==============================] - 0s 7ms/step - loss: 0.0029\n",
      "Epoch 140/150\n",
      "12/12 [==============================] - 0s 6ms/step - loss: 0.0060\n",
      "Epoch 141/150\n",
      "12/12 [==============================] - 0s 6ms/step - loss: 0.0057\n",
      "Epoch 142/150\n",
      "12/12 [==============================] - 0s 7ms/step - loss: 0.0029\n",
      "Epoch 143/150\n",
      "12/12 [==============================] - 0s 7ms/step - loss: 0.0035\n",
      "Epoch 144/150\n",
      "12/12 [==============================] - 0s 7ms/step - loss: 0.0041\n",
      "Epoch 145/150\n",
      "12/12 [==============================] - 0s 6ms/step - loss: 0.0025\n",
      "Epoch 146/150\n",
      "12/12 [==============================] - 0s 6ms/step - loss: 0.0044\n",
      "Epoch 147/150\n",
      "12/12 [==============================] - 0s 6ms/step - loss: 0.0057\n",
      "Epoch 148/150\n",
      "12/12 [==============================] - 0s 5ms/step - loss: 0.0059\n",
      "Epoch 149/150\n",
      "12/12 [==============================] - 0s 5ms/step - loss: 0.0031\n",
      "Epoch 150/150\n",
      "12/12 [==============================] - 0s 6ms/step - loss: 0.0041\n"
     ]
    },
    {
     "data": {
      "text/plain": [
       "<tensorflow.python.keras.callbacks.History at 0x7fdf4b847668>"
      ]
     },
     "execution_count": 24,
     "metadata": {
      "tags": []
     },
     "output_type": "execute_result"
    }
   ],
   "source": [
    "# LSTM MODEL\n",
    "model = Sequential()\n",
    "model.add(LSTM(units = 150, return_sequences = True, input_shape=(1, step_size)))\n",
    "model.add(Dropout(0.221))\n",
    "\n",
    "# Add second LSTM layer dan Dropout regularisation\n",
    "model.add(LSTM(units = 150, return_sequences = True))\n",
    "model.add(Dropout(0.221))\n",
    "\n",
    "# Add third LSTM layer dan Dropout regularisation\n",
    "model.add(LSTM(units = 150, return_sequences = True))\n",
    "model.add(Dropout(0.221))\n",
    "\n",
    "# Add forth LSTM layer dan Dropout regularisation\n",
    "#model.add(LSTM(units = 150, return_sequences = True))\n",
    "#model.add(Dropout(0.221))\n",
    "\n",
    "model.add(Activation('relu'))\n",
    "# Output layer. Kita hanya memerlukan 1 unit karena ini forecasting regresi\n",
    "model.add(Dense(units = 1))\n",
    "\n",
    "# MODEL COMPILING AND TRAINING\n",
    "model.compile(loss='mean_squared_error', optimizer='adam') # Try SGD, adam, adagrad and compare!!!\n",
    "model.fit(trainX, trainY, epochs=150, batch_size=50)"
   ]
  },
  {
   "cell_type": "code",
   "execution_count": null,
   "metadata": {
    "colab": {
     "base_uri": "https://localhost:8080/"
    },
    "executionInfo": {
     "elapsed": 22020,
     "status": "ok",
     "timestamp": 1611853044159,
     "user": {
      "displayName": "Sabar Sautomo",
      "photoUrl": "https://lh3.googleusercontent.com/a-/AOh14GhCqBZrGQz63loThVKOoghftXO4crVw42m7td-ZEQ=s64",
      "userId": "11152206577099957818"
     },
     "user_tz": -420
    },
    "id": "ymcKXAGc0I4y",
    "outputId": "ff60b776-aea3-44a7-c707-74351cdaab80"
   },
   "outputs": [
    {
     "name": "stdout",
     "output_type": "stream",
     "text": [
      "Model: \"sequential\"\n",
      "_________________________________________________________________\n",
      "Layer (type)                 Output Shape              Param #   \n",
      "=================================================================\n",
      "lstm (LSTM)                  (None, 1, 150)            91200     \n",
      "_________________________________________________________________\n",
      "dropout (Dropout)            (None, 1, 150)            0         \n",
      "_________________________________________________________________\n",
      "lstm_1 (LSTM)                (None, 1, 150)            180600    \n",
      "_________________________________________________________________\n",
      "dropout_1 (Dropout)          (None, 1, 150)            0         \n",
      "_________________________________________________________________\n",
      "lstm_2 (LSTM)                (None, 1, 150)            180600    \n",
      "_________________________________________________________________\n",
      "dropout_2 (Dropout)          (None, 1, 150)            0         \n",
      "_________________________________________________________________\n",
      "activation (Activation)      (None, 1, 150)            0         \n",
      "_________________________________________________________________\n",
      "dense (Dense)                (None, 1, 1)              151       \n",
      "=================================================================\n",
      "Total params: 452,551\n",
      "Trainable params: 452,551\n",
      "Non-trainable params: 0\n",
      "_________________________________________________________________\n"
     ]
    }
   ],
   "source": [
    "model.summary()"
   ]
  },
  {
   "cell_type": "code",
   "execution_count": null,
   "metadata": {
    "id": "GEHbds4RwlFL"
   },
   "outputs": [],
   "source": [
    "# TRAIN & TEST PREDICTION\n",
    "trainPredict = model.predict(trainX)\n",
    "testPredict = model.predict(testX)"
   ]
  },
  {
   "cell_type": "code",
   "execution_count": null,
   "metadata": {
    "id": "MSX7zfrdv-bS"
   },
   "outputs": [],
   "source": [
    "trainY = scaler.inverse_transform([trainY])\n",
    "testY = scaler.inverse_transform([testY])"
   ]
  },
  {
   "cell_type": "code",
   "execution_count": null,
   "metadata": {
    "colab": {
     "base_uri": "https://localhost:8080/",
     "height": 35
    },
    "executionInfo": {
     "elapsed": 22725,
     "status": "ok",
     "timestamp": 1611853044880,
     "user": {
      "displayName": "Sabar Sautomo",
      "photoUrl": "https://lh3.googleusercontent.com/a-/AOh14GhCqBZrGQz63loThVKOoghftXO4crVw42m7td-ZEQ=s64",
      "userId": "11152206577099957818"
     },
     "user_tz": -420
    },
    "id": "4n1s_A_IwlFa",
    "outputId": "f5a7bd9c-6303-48e2-9b1e-026c56486683"
   },
   "outputs": [
    {
     "data": {
      "application/vnd.google.colaboratory.intrinsic+json": {
       "type": "string"
      },
      "text/plain": [
       "'MSE 0.23598773492588815'"
      ]
     },
     "execution_count": 28,
     "metadata": {
      "tags": []
     },
     "output_type": "execute_result"
    }
   ],
   "source": [
    "from sklearn.metrics import mean_squared_error\n",
    "from sklearn.metrics import mean_absolute_error\n",
    "from math import sqrt\n",
    "f'MSE {mean_squared_error(testY[0], testPredict[:,0])}'"
   ]
  },
  {
   "cell_type": "code",
   "execution_count": null,
   "metadata": {
    "colab": {
     "base_uri": "https://localhost:8080/",
     "height": 35
    },
    "executionInfo": {
     "elapsed": 22716,
     "status": "ok",
     "timestamp": 1611853044880,
     "user": {
      "displayName": "Sabar Sautomo",
      "photoUrl": "https://lh3.googleusercontent.com/a-/AOh14GhCqBZrGQz63loThVKOoghftXO4crVw42m7td-ZEQ=s64",
      "userId": "11152206577099957818"
     },
     "user_tz": -420
    },
    "id": "xHhykG8NP7aM",
    "outputId": "45d412ea-8b0b-49bc-8726-b50004c9092f"
   },
   "outputs": [
    {
     "data": {
      "application/vnd.google.colaboratory.intrinsic+json": {
       "type": "string"
      },
      "text/plain": [
       "'RMSE 0.48578568826787'"
      ]
     },
     "execution_count": 29,
     "metadata": {
      "tags": []
     },
     "output_type": "execute_result"
    }
   ],
   "source": [
    "f'RMSE {np.sqrt(mean_squared_error(testY[0], testPredict[:,0]))}'"
   ]
  },
  {
   "cell_type": "code",
   "execution_count": null,
   "metadata": {
    "colab": {
     "base_uri": "https://localhost:8080/",
     "height": 35
    },
    "executionInfo": {
     "elapsed": 22709,
     "status": "ok",
     "timestamp": 1611853044881,
     "user": {
      "displayName": "Sabar Sautomo",
      "photoUrl": "https://lh3.googleusercontent.com/a-/AOh14GhCqBZrGQz63loThVKOoghftXO4crVw42m7td-ZEQ=s64",
      "userId": "11152206577099957818"
     },
     "user_tz": -420
    },
    "id": "MOCyWgaTP-mw",
    "outputId": "c7358906-e803-41ea-82d8-339f731b5d43"
   },
   "outputs": [
    {
     "data": {
      "application/vnd.google.colaboratory.intrinsic+json": {
       "type": "string"
      },
      "text/plain": [
       "'MAE 0.3350733281645742'"
      ]
     },
     "execution_count": 30,
     "metadata": {
      "tags": []
     },
     "output_type": "execute_result"
    }
   ],
   "source": [
    "from sklearn.metrics import mean_absolute_error\n",
    "f'MAE {mean_absolute_error(testY[0], testPredict[:,0])}'"
   ]
  },
  {
   "cell_type": "code",
   "execution_count": null,
   "metadata": {
    "id": "SI-iVvQjwlFQ"
   },
   "outputs": [],
   "source": [
    "# DE-NORMALIZING FOR PLOTTING\n",
    "trainPredict = scaler.inverse_transform(np.reshape(trainPredict, (trainPredict.shape[0], trainPredict.shape[1])))\n",
    "testPredict = scaler.inverse_transform(np.reshape(testPredict, (testPredict.shape[0], testPredict.shape[1])))\n",
    "# testPredict"
   ]
  },
  {
   "cell_type": "code",
   "execution_count": null,
   "metadata": {
    "id": "Ndxr34RkwlFg"
   },
   "outputs": [],
   "source": [
    "# CREATING SIMILAR DATASET TO PLOT TRAINING PREDICTIONS\n",
    "trainPredictPlot = np.empty_like(OHLC_avg)\n",
    "trainPredictPlot[:, :] = np.nan\n",
    "trainPredictPlot[step_size:len(trainPredict)+step_size, :] = trainPredict"
   ]
  },
  {
   "cell_type": "code",
   "execution_count": null,
   "metadata": {
    "id": "jI61ptxQwlFo"
   },
   "outputs": [],
   "source": [
    "# CREATING SIMILAR DATASSET TO PLOT TEST PREDICTIONS\n",
    "testPredictPlot = np.empty_like(OHLC_avg)\n",
    "testPredictPlot[:, :] = np.nan\n",
    "testPredictPlot[len(trainPredict)+(step_size*2)+1:len(OHLC_avg)-1, :] = testPredict"
   ]
  },
  {
   "cell_type": "code",
   "execution_count": null,
   "metadata": {
    "colab": {
     "base_uri": "https://localhost:8080/",
     "height": 496
    },
    "executionInfo": {
     "elapsed": 24168,
     "status": "ok",
     "timestamp": 1611853046360,
     "user": {
      "displayName": "Sabar Sautomo",
      "photoUrl": "https://lh3.googleusercontent.com/a-/AOh14GhCqBZrGQz63loThVKOoghftXO4crVw42m7td-ZEQ=s64",
      "userId": "11152206577099957818"
     },
     "user_tz": -420
    },
    "id": "l15yvkfS3Xfw",
    "outputId": "cb4d9889-16ca-4826-f6c1-62249673aa23"
   },
   "outputs": [
    {
     "data": {
      "image/png": "[encoded data removed]",
      "text/plain": [
       "<Figure size 1152x576 with 1 Axes>"
      ]
     },
     "metadata": {
      "needs_background": "light",
      "tags": []
     },
     "output_type": "display_data"
    }
   ],
   "source": [
    "# DE-NORMALIZING MAIN DATASET \n",
    "test_OHLC = scaler.inverse_transform(test_OHLC)\n",
    "obs_ori = np.arange(1, len(dataset)*0.2+1, 1)\n",
    "obs_train = np.arange(1, len(dataset)*0.2-1, 1)\n",
    "\n",
    "# PLOT OF MAIN OHLC VALUES, TRAIN PREDICTIONS AND TEST PREDICTIONS\n",
    "plt.figure(figsize=(16,8))\n",
    "plt.plot(obs_ori,test_OHLC, 'r', label = 'original dataset')\n",
    "plt.plot(obs_train,testPredict, 'b', linestyle='dashed', label = 'predicted test set')\n",
    "plt.legend(loc = 'upper left')\n",
    "plt.xlabel('Time in Days')\n",
    "plt.ylabel('nilai Realisasi')\n",
    "plt.show()"
   ]
  },
  {
   "cell_type": "code",
   "execution_count": null,
   "metadata": {
    "colab": {
     "base_uri": "https://localhost:8080/",
     "height": 496
    },
    "executionInfo": {
     "elapsed": 24154,
     "status": "ok",
     "timestamp": 1611853046361,
     "user": {
      "displayName": "Sabar Sautomo",
      "photoUrl": "https://lh3.googleusercontent.com/a-/AOh14GhCqBZrGQz63loThVKOoghftXO4crVw42m7td-ZEQ=s64",
      "userId": "11152206577099957818"
     },
     "user_tz": -420
    },
    "id": "kXDy1SqKwlFx",
    "outputId": "62523e11-f9d4-40ea-cfc2-9acd9604ebef"
   },
   "outputs": [
    {
     "data": {
      "image/png": "[encoded data removed]",
      "text/plain": [
       "<Figure size 1152x576 with 1 Axes>"
      ]
     },
     "metadata": {
      "needs_background": "light",
      "tags": []
     },
     "output_type": "display_data"
    }
   ],
   "source": [
    "# DE-NORMALIZING MAIN DATASET \n",
    "OHLC_avg = scaler.inverse_transform(OHLC_avg)\n",
    "\n",
    "# PLOT OF MAIN OHLC VALUES, TRAIN PREDICTIONS AND TEST PREDICTIONS\n",
    "plt.figure(figsize=(16,8))\n",
    "plt.plot(OHLC_avg, 'g', label = 'original dataset')\n",
    "plt.plot(trainPredictPlot, 'r', label = 'training set')\n",
    "plt.plot(testPredictPlot, 'b', linestyle='dashed', label = 'predicted test set')\n",
    "plt.legend(loc = 'upper left')\n",
    "plt.xlabel('Time in Days')\n",
    "plt.ylabel('nilai Realisasi')\n",
    "plt.show()"
   ]
  }
 ],
 "metadata": {
  "accelerator": "GPU",
  "colab": {
   "collapsed_sections": [],
   "name": "LSTM3-selectedAtrr.ipynb",
   "provenance": [
    {
     "file_id": "12gnij_VE_lf39aoqX5c9-NY1w7CrO3dQ",
     "timestamp": 1611826991259
    },
    {
     "file_id": "1Nis4VKYETSpVUq8wpcLsSp-mjHe_O9gw",
     "timestamp": 1611826108662
    },
    {
     "file_id": "17cmTkN2MHw51KQKQMvV98tlbphLmWq8y",
     "timestamp": 1611825702007
    },
    {
     "file_id": "16kWzoBDe_AMLlIt1CD9x8_Zh3raou7Fi",
     "timestamp": 1611825234174
    },
    {
     "file_id": "1jahkqZQtTzW0WmVHQ5mxmp8X2ZW-UL64",
     "timestamp": 1611825021397
    },
    {
     "file_id": "1v0YTWCimqH7Qq0QMeTTvkokGVz41OXbe",
     "timestamp": 1611758428835
    },
    {
     "file_id": "1BXn7M5I9pCvs0DmPT0-1eJARiD_gU-Gc",
     "timestamp": 1611756740751
    }
   ]
  },
  "kernelspec": {
   "display_name": "Python 3",
   "language": "python",
   "name": "python3"
  },
  "language_info": {
   "codemirror_mode": {
    "name": "ipython",
    "version": 3
   },
   "file_extension": ".py",
   "mimetype": "text/x-python",
   "name": "python",
   "nbconvert_exporter": "python",
   "pygments_lexer": "ipython3",
   "version": "3.8.1"
  }
 },
 "nbformat": 4,
 "nbformat_minor": 1
}
