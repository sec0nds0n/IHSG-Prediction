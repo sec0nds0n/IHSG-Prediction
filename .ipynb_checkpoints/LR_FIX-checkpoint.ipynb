{
 "cells": [
  {
   "cell_type": "code",
   "execution_count": 1,
   "metadata": {},
   "outputs": [
    {
     "name": "stderr",
     "output_type": "stream",
     "text": [
      "Using TensorFlow backend.\n"
     ]
    }
   ],
   "source": [
    "#Import the libraries\n",
    "import math\n",
    "import pandas_datareader as web\n",
    "import numpy as np\n",
    "import pandas as pd\n",
    "import seaborn as sns\n",
    "from sklearn.preprocessing import MinMaxScaler\n",
    "from keras.models import Sequential, load_model\n",
    "from keras.layers import Dense, LSTM, Dropout\n",
    "from sklearn.preprocessing import StandardScaler\n",
    "import matplotlib.pyplot as plt"
   ]
  },
  {
   "cell_type": "code",
   "execution_count": 2,
   "metadata": {},
   "outputs": [
    {
     "data": {
      "text/html": [
       "<div>\n",
       "<style scoped>\n",
       "    .dataframe tbody tr th:only-of-type {\n",
       "        vertical-align: middle;\n",
       "    }\n",
       "\n",
       "    .dataframe tbody tr th {\n",
       "        vertical-align: top;\n",
       "    }\n",
       "\n",
       "    .dataframe thead th {\n",
       "        text-align: right;\n",
       "    }\n",
       "</style>\n",
       "<table border=\"1\" class=\"dataframe\">\n",
       "  <thead>\n",
       "    <tr style=\"text-align: right;\">\n",
       "      <th></th>\n",
       "      <th>Open</th>\n",
       "      <th>High</th>\n",
       "      <th>Low</th>\n",
       "      <th>Close</th>\n",
       "      <th>Adj Close</th>\n",
       "      <th>Volume</th>\n",
       "    </tr>\n",
       "    <tr>\n",
       "      <th>Date</th>\n",
       "      <th></th>\n",
       "      <th></th>\n",
       "      <th></th>\n",
       "      <th></th>\n",
       "      <th></th>\n",
       "      <th></th>\n",
       "    </tr>\n",
       "  </thead>\n",
       "  <tbody>\n",
       "    <tr>\n",
       "      <th>2010-01-04</th>\n",
       "      <td>2533.947998</td>\n",
       "      <td>2576.055908</td>\n",
       "      <td>2532.895996</td>\n",
       "      <td>2575.413086</td>\n",
       "      <td>2575.312988</td>\n",
       "      <td>18339300</td>\n",
       "    </tr>\n",
       "    <tr>\n",
       "      <th>2010-01-05</th>\n",
       "      <td>2575.616943</td>\n",
       "      <td>2606.069092</td>\n",
       "      <td>2575.616943</td>\n",
       "      <td>2605.277100</td>\n",
       "      <td>2605.175537</td>\n",
       "      <td>57043800</td>\n",
       "    </tr>\n",
       "    <tr>\n",
       "      <th>2010-01-06</th>\n",
       "      <td>2605.480957</td>\n",
       "      <td>2622.115967</td>\n",
       "      <td>2587.709961</td>\n",
       "      <td>2603.297119</td>\n",
       "      <td>2603.195557</td>\n",
       "      <td>51569100</td>\n",
       "    </tr>\n",
       "    <tr>\n",
       "      <th>2010-01-07</th>\n",
       "      <td>2603.500977</td>\n",
       "      <td>2611.603027</td>\n",
       "      <td>2570.272949</td>\n",
       "      <td>2586.895020</td>\n",
       "      <td>2586.794189</td>\n",
       "      <td>45510800</td>\n",
       "    </tr>\n",
       "    <tr>\n",
       "      <th>2010-01-08</th>\n",
       "      <td>2586.792969</td>\n",
       "      <td>2614.535889</td>\n",
       "      <td>2583.846924</td>\n",
       "      <td>2614.370117</td>\n",
       "      <td>2614.268311</td>\n",
       "      <td>73723500</td>\n",
       "    </tr>\n",
       "    <tr>\n",
       "      <th>...</th>\n",
       "      <td>...</td>\n",
       "      <td>...</td>\n",
       "      <td>...</td>\n",
       "      <td>...</td>\n",
       "      <td>...</td>\n",
       "      <td>...</td>\n",
       "    </tr>\n",
       "    <tr>\n",
       "      <th>2020-12-22</th>\n",
       "      <td>6146.645996</td>\n",
       "      <td>6174.458984</td>\n",
       "      <td>6010.210938</td>\n",
       "      <td>6023.289063</td>\n",
       "      <td>6023.289063</td>\n",
       "      <td>250085200</td>\n",
       "    </tr>\n",
       "    <tr>\n",
       "      <th>2020-12-23</th>\n",
       "      <td>6061.848145</td>\n",
       "      <td>6104.354980</td>\n",
       "      <td>5853.261230</td>\n",
       "      <td>6008.708984</td>\n",
       "      <td>6008.708984</td>\n",
       "      <td>203528500</td>\n",
       "    </tr>\n",
       "    <tr>\n",
       "      <th>2020-12-28</th>\n",
       "      <td>6067.000000</td>\n",
       "      <td>6095.007813</td>\n",
       "      <td>5979.904785</td>\n",
       "      <td>6093.554199</td>\n",
       "      <td>6093.554199</td>\n",
       "      <td>180855700</td>\n",
       "    </tr>\n",
       "    <tr>\n",
       "      <th>2020-12-29</th>\n",
       "      <td>6112.720215</td>\n",
       "      <td>6143.870117</td>\n",
       "      <td>6026.705078</td>\n",
       "      <td>6036.173828</td>\n",
       "      <td>6036.173828</td>\n",
       "      <td>175135000</td>\n",
       "    </tr>\n",
       "    <tr>\n",
       "      <th>2020-12-30</th>\n",
       "      <td>6052.121094</td>\n",
       "      <td>6055.970215</td>\n",
       "      <td>5962.009766</td>\n",
       "      <td>5979.073242</td>\n",
       "      <td>5979.073242</td>\n",
       "      <td>170039300</td>\n",
       "    </tr>\n",
       "  </tbody>\n",
       "</table>\n",
       "<p>2679 rows × 6 columns</p>\n",
       "</div>"
      ],
      "text/plain": [
       "                   Open         High          Low        Close    Adj Close  \\\n",
       "Date                                                                          \n",
       "2010-01-04  2533.947998  2576.055908  2532.895996  2575.413086  2575.312988   \n",
       "2010-01-05  2575.616943  2606.069092  2575.616943  2605.277100  2605.175537   \n",
       "2010-01-06  2605.480957  2622.115967  2587.709961  2603.297119  2603.195557   \n",
       "2010-01-07  2603.500977  2611.603027  2570.272949  2586.895020  2586.794189   \n",
       "2010-01-08  2586.792969  2614.535889  2583.846924  2614.370117  2614.268311   \n",
       "...                 ...          ...          ...          ...          ...   \n",
       "2020-12-22  6146.645996  6174.458984  6010.210938  6023.289063  6023.289063   \n",
       "2020-12-23  6061.848145  6104.354980  5853.261230  6008.708984  6008.708984   \n",
       "2020-12-28  6067.000000  6095.007813  5979.904785  6093.554199  6093.554199   \n",
       "2020-12-29  6112.720215  6143.870117  6026.705078  6036.173828  6036.173828   \n",
       "2020-12-30  6052.121094  6055.970215  5962.009766  5979.073242  5979.073242   \n",
       "\n",
       "               Volume  \n",
       "Date                   \n",
       "2010-01-04   18339300  \n",
       "2010-01-05   57043800  \n",
       "2010-01-06   51569100  \n",
       "2010-01-07   45510800  \n",
       "2010-01-08   73723500  \n",
       "...               ...  \n",
       "2020-12-22  250085200  \n",
       "2020-12-23  203528500  \n",
       "2020-12-28  180855700  \n",
       "2020-12-29  175135000  \n",
       "2020-12-30  170039300  \n",
       "\n",
       "[2679 rows x 6 columns]"
      ]
     },
     "execution_count": 2,
     "metadata": {},
     "output_type": "execute_result"
    }
   ],
   "source": [
    "#ambil data dari csv\n",
    "df = pd.read_csv('./Gabungan_IHSG_2010-2020.csv', header=0, index_col=0, parse_dates=True, squeeze=True)\n",
    "df\n",
    "#df = web.DataReader('^JKSE', data_source='yahoo', start='2010-01-01', end='2018-12-31') \n",
    "#df"
   ]
  },
  {
   "cell_type": "code",
   "execution_count": 3,
   "metadata": {},
   "outputs": [
    {
     "data": {
      "text/plain": [
       "(2679, 6)"
      ]
     },
     "execution_count": 3,
     "metadata": {},
     "output_type": "execute_result"
    }
   ],
   "source": [
    "df.shape"
   ]
  },
  {
   "cell_type": "code",
   "execution_count": 4,
   "metadata": {},
   "outputs": [
    {
     "name": "stderr",
     "output_type": "stream",
     "text": [
      "/Library/Frameworks/Python.framework/Versions/3.8/lib/python3.8/site-packages/pandas/plotting/_matplotlib/converter.py:103: FutureWarning: Using an implicitly registered datetime converter for a matplotlib plotting method. The converter was registered by pandas on import. Future versions of pandas will require you to explicitly register matplotlib converters.\n",
      "\n",
      "To register the converters:\n",
      "\t>>> from pandas.plotting import register_matplotlib_converters\n",
      "\t>>> register_matplotlib_converters()\n",
      "  warnings.warn(msg, FutureWarning)\n"
     ]
    },
    {
     "data": {
      "image/png": "[encoded data removed]",
      "text/plain": [
       "<Figure size 576x288 with 1 Axes>"
      ]
     },
     "metadata": {
      "needs_background": "light"
     },
     "output_type": "display_data"
    }
   ],
   "source": [
    "plt.figure(figsize=(8,4))\n",
    "plt.title('Harga Close IHSG')\n",
    "plt.plot(df['Close'])\n",
    "plt.xlabel('Date', fontsize=18)\n",
    "plt.ylabel('Harga Close (Rp)', fontsize=18)\n",
    "plt.show()"
   ]
  },
  {
   "cell_type": "code",
   "execution_count": 5,
   "metadata": {},
   "outputs": [
    {
     "data": {
      "text/plain": [
       "(2679, 5)"
      ]
     },
     "execution_count": 5,
     "metadata": {},
     "output_type": "execute_result"
    }
   ],
   "source": [
    "#Ambil data CLOSE saja\n",
    "data=df.filter(['Open', 'High', 'Low', 'Close', 'Adj Close'])\n",
    "dataset=data.values\n",
    "training_data_len=2192 #data dari 2010-2018\n",
    "#training_data_len=math.ceil(len(dataset)* .8)\n",
    "data.shape"
   ]
  },
  {
   "cell_type": "code",
   "execution_count": 6,
   "metadata": {},
   "outputs": [
    {
     "data": {
      "text/plain": [
       "array([[-2.35827546, -2.34286582, -2.33240983, -2.32133551, -2.32122182],\n",
       "       [-2.31631172, -2.31262684, -2.28934632, -2.29119657, -2.29108577],\n",
       "       [-2.28623643, -2.29645925, -2.27715633, -2.29319477, -2.29308389],\n",
       "       ...,\n",
       "       [ 1.19977167,  1.20255974,  1.14223954,  1.22919342,  1.22924069],\n",
       "       [ 1.24581534,  1.25178965,  1.18941511,  1.17128481,  1.17133481],\n",
       "       [ 1.1847875 ,  1.16322846,  1.12420102,  1.11365855,  1.11371128]])"
      ]
     },
     "execution_count": 6,
     "metadata": {},
     "output_type": "execute_result"
    }
   ],
   "source": [
    "#Scaling Data\n",
    "scaler=StandardScaler()\n",
    "scaled_data=scaler.fit_transform(dataset)\n",
    "scaled_data"
   ]
  },
  {
   "cell_type": "code",
   "execution_count": 7,
   "metadata": {},
   "outputs": [
    {
     "data": {
      "text/plain": [
       "(2192, 5)"
      ]
     },
     "execution_count": 7,
     "metadata": {},
     "output_type": "execute_result"
    }
   ],
   "source": [
    "#bikin scaled training dataset\n",
    "train_data=scaled_data[0:training_data_len, :]\n",
    "\n",
    "#split x_train & y_train\n",
    "x_train = []\n",
    "y_train = []\n",
    "\n",
    "train_data.shape"
   ]
  },
  {
   "cell_type": "code",
   "execution_count": 8,
   "metadata": {},
   "outputs": [],
   "source": [
    "n_future = 1\n",
    "n_past = 10\n",
    "\n",
    "#isi trainx dan trainy sesuai n nya\n",
    "for i in range(n_past, len(train_data) - n_future +1): # i = range dari 365 - 3965 (365, 3969-3-1)\n",
    "    x_train.append(train_data[i - n_past:i, 0:train_data.shape[1]]) #ambil data dari 365 hari yang lalu (0:365, 0:5)\n",
    "    y_train.append(train_data[i + n_future - 1:i + n_future, 0]) #ambil data buat prediksi (367:368, 0)"
   ]
  },
  {
   "cell_type": "code",
   "execution_count": 9,
   "metadata": {},
   "outputs": [],
   "source": [
    "#n_past=10\n",
    "#for i in range(n_past, len(train_data)):\n",
    "    #x_train.append(train_data[i-n_past:i, 0])\n",
    "    #y_train.append(train_data[i,0])"
   ]
  },
  {
   "cell_type": "code",
   "execution_count": 10,
   "metadata": {},
   "outputs": [
    {
     "data": {
      "text/plain": [
       "(2182, 10, 5)"
      ]
     },
     "execution_count": 10,
     "metadata": {},
     "output_type": "execute_result"
    }
   ],
   "source": [
    "#Convert ke Array\n",
    "x_train, y_train = np.array(x_train), np.array(y_train)\n",
    "x_train.shape"
   ]
  },
  {
   "cell_type": "code",
   "execution_count": 11,
   "metadata": {},
   "outputs": [],
   "source": [
    "n_fitur=5 #fitur close \n",
    "#x_train = np.reshape(x_train, (x_train.shape[0], x_train.shape[1],n_fitur))\n",
    "#x_train.shape"
   ]
  },
  {
   "cell_type": "code",
   "execution_count": 12,
   "metadata": {},
   "outputs": [],
   "source": [
    "#Building LSTM\n",
    "model = Sequential()\n",
    "model.add(LSTM(64, return_sequences=True, activation='relu', input_shape=(x_train.shape[1], x_train.shape[2])))\n",
    "model.add(LSTM(64, activation='relu',return_sequences=False))\n",
    "model.add(Dense(25))\n",
    "model.add(Dense(1))"
   ]
  },
  {
   "cell_type": "code",
   "execution_count": 13,
   "metadata": {},
   "outputs": [
    {
     "name": "stdout",
     "output_type": "stream",
     "text": [
      "Model: \"sequential_1\"\n",
      "_________________________________________________________________\n",
      "Layer (type)                 Output Shape              Param #   \n",
      "=================================================================\n",
      "lstm_1 (LSTM)                (None, 10, 64)            17920     \n",
      "_________________________________________________________________\n",
      "lstm_2 (LSTM)                (None, 64)                33024     \n",
      "_________________________________________________________________\n",
      "dense_1 (Dense)              (None, 25)                1625      \n",
      "_________________________________________________________________\n",
      "dense_2 (Dense)              (None, 1)                 26        \n",
      "=================================================================\n",
      "Total params: 52,595\n",
      "Trainable params: 52,595\n",
      "Non-trainable params: 0\n",
      "_________________________________________________________________\n"
     ]
    }
   ],
   "source": [
    "#Compile model\n",
    "model.compile(optimizer='adam', loss='mean_squared_error')\n",
    "model.summary()"
   ]
  },
  {
   "cell_type": "code",
   "execution_count": 14,
   "metadata": {
    "scrolled": false
   },
   "outputs": [
    {
     "name": "stdout",
     "output_type": "stream",
     "text": [
      "Epoch 1/50\n",
      "2182/2182 [==============================] - 2s 920us/step - loss: 0.1059\n",
      "Epoch 2/50\n",
      "2182/2182 [==============================] - 1s 344us/step - loss: 0.0060\n",
      "Epoch 3/50\n",
      "2182/2182 [==============================] - 1s 350us/step - loss: 0.0046\n",
      "Epoch 4/50\n",
      "2182/2182 [==============================] - 1s 347us/step - loss: 0.0041\n",
      "Epoch 5/50\n",
      "2182/2182 [==============================] - 1s 361us/step - loss: 0.0037\n",
      "Epoch 6/50\n",
      "2182/2182 [==============================] - 1s 390us/step - loss: 0.0034\n",
      "Epoch 7/50\n",
      "2182/2182 [==============================] - 1s 398us/step - loss: 0.0033\n",
      "Epoch 8/50\n",
      "2182/2182 [==============================] - 1s 384us/step - loss: 0.0029\n",
      "Epoch 9/50\n",
      "2182/2182 [==============================] - 1s 389us/step - loss: 0.0025\n",
      "Epoch 10/50\n",
      "2182/2182 [==============================] - 1s 414us/step - loss: 0.0021\n",
      "Epoch 11/50\n",
      "2182/2182 [==============================] - 1s 434us/step - loss: 0.0018\n",
      "Epoch 12/50\n",
      "2182/2182 [==============================] - 1s 450us/step - loss: 0.0013\n",
      "Epoch 13/50\n",
      "2182/2182 [==============================] - 1s 442us/step - loss: 0.0015\n",
      "Epoch 14/50\n",
      "2182/2182 [==============================] - 1s 430us/step - loss: 8.8057e-04\n",
      "Epoch 15/50\n",
      "2182/2182 [==============================] - 1s 399us/step - loss: 6.1496e-04\n",
      "Epoch 16/50\n",
      "2182/2182 [==============================] - 1s 385us/step - loss: 5.1270e-04\n",
      "Epoch 17/50\n",
      "2182/2182 [==============================] - 1s 390us/step - loss: 7.9172e-04\n",
      "Epoch 18/50\n",
      "2182/2182 [==============================] - 1s 373us/step - loss: 6.5504e-04\n",
      "Epoch 19/50\n",
      "2182/2182 [==============================] - 1s 372us/step - loss: 6.0023e-04\n",
      "Epoch 20/50\n",
      "2182/2182 [==============================] - 1s 401us/step - loss: 5.5120e-04\n",
      "Epoch 21/50\n",
      "2182/2182 [==============================] - 1s 376us/step - loss: 5.8907e-04\n",
      "Epoch 22/50\n",
      "2182/2182 [==============================] - 1s 383us/step - loss: 6.2003e-04\n",
      "Epoch 23/50\n",
      "2182/2182 [==============================] - 1s 427us/step - loss: 4.1354e-04\n",
      "Epoch 24/50\n",
      "2182/2182 [==============================] - 1s 433us/step - loss: 5.2860e-04\n",
      "Epoch 25/50\n",
      "2182/2182 [==============================] - 1s 428us/step - loss: 4.4840e-04\n",
      "Epoch 26/50\n",
      "2182/2182 [==============================] - 1s 426us/step - loss: 5.9332e-04\n",
      "Epoch 27/50\n",
      "2182/2182 [==============================] - 1s 417us/step - loss: 4.4986e-04\n",
      "Epoch 28/50\n",
      "2182/2182 [==============================] - 1s 367us/step - loss: 4.0528e-04\n",
      "Epoch 29/50\n",
      "2182/2182 [==============================] - 1s 361us/step - loss: 4.8348e-04\n",
      "Epoch 30/50\n",
      "2182/2182 [==============================] - 1s 370us/step - loss: 4.9498e-04\n",
      "Epoch 31/50\n",
      "2182/2182 [==============================] - 1s 369us/step - loss: 5.0987e-04\n",
      "Epoch 32/50\n",
      "2182/2182 [==============================] - 1s 375us/step - loss: 6.3520e-04\n",
      "Epoch 33/50\n",
      "2182/2182 [==============================] - 1s 372us/step - loss: 7.2351e-04\n",
      "Epoch 34/50\n",
      "2182/2182 [==============================] - 1s 380us/step - loss: 4.0885e-04\n",
      "Epoch 35/50\n",
      "2182/2182 [==============================] - 1s 430us/step - loss: 4.2537e-04\n",
      "Epoch 36/50\n",
      "2182/2182 [==============================] - 1s 452us/step - loss: 4.2376e-04\n",
      "Epoch 37/50\n",
      "2182/2182 [==============================] - 1s 447us/step - loss: 3.7269e-04\n",
      "Epoch 38/50\n",
      "2182/2182 [==============================] - 1s 467us/step - loss: 6.1168e-04\n",
      "Epoch 39/50\n",
      "2182/2182 [==============================] - 1s 466us/step - loss: 4.7929e-04\n",
      "Epoch 40/50\n",
      "2182/2182 [==============================] - 1s 447us/step - loss: 4.6477e-04\n",
      "Epoch 41/50\n",
      "2182/2182 [==============================] - 1s 410us/step - loss: 4.7528e-04\n",
      "Epoch 42/50\n",
      "2182/2182 [==============================] - 1s 423us/step - loss: 3.8944e-04\n",
      "Epoch 43/50\n",
      "2182/2182 [==============================] - 1s 407us/step - loss: 4.6934e-04\n",
      "Epoch 44/50\n",
      "2182/2182 [==============================] - 1s 406us/step - loss: 4.3408e-04\n",
      "Epoch 45/50\n",
      "2182/2182 [==============================] - 1s 418us/step - loss: 3.6436e-04\n",
      "Epoch 46/50\n",
      "2182/2182 [==============================] - 1s 459us/step - loss: 4.5895e-04\n",
      "Epoch 47/50\n",
      "2182/2182 [==============================] - 1s 456us/step - loss: 5.6927e-04\n",
      "Epoch 48/50\n",
      "2182/2182 [==============================] - 1s 520us/step - loss: 3.8697e-04\n",
      "Epoch 49/50\n",
      "2182/2182 [==============================] - 1s 456us/step - loss: 4.9288e-04\n",
      "Epoch 50/50\n",
      "2182/2182 [==============================] - 1s 462us/step - loss: 4.5813e-04\n"
     ]
    },
    {
     "data": {
      "text/plain": [
       "<keras.callbacks.callbacks.History at 0x7fa5a2353b20>"
      ]
     },
     "execution_count": 14,
     "metadata": {},
     "output_type": "execute_result"
    }
   ],
   "source": [
    "model.fit(x_train, y_train, batch_size=32, epochs=50)"
   ]
  },
  {
   "cell_type": "code",
   "execution_count": 15,
   "metadata": {},
   "outputs": [],
   "source": [
    "#Bikin testing data set\n",
    "test_data=scaled_data[training_data_len-n_past:, :]\n",
    "x_test=[]\n",
    "y_test=dataset[training_data_len:, -1:]\n",
    "for i in range(n_past, len(test_data)):\n",
    "    x_test.append(test_data[i-n_past:i,0:5])"
   ]
  },
  {
   "cell_type": "code",
   "execution_count": 16,
   "metadata": {
    "scrolled": true
   },
   "outputs": [],
   "source": [
    "#convert data ke numpy array\n",
    "x_test = np.array(x_test)\n",
    "# y_test_scaled = scaler.fit_transform(y_test)"
   ]
  },
  {
   "cell_type": "code",
   "execution_count": 17,
   "metadata": {},
   "outputs": [],
   "source": [
    "#reshape data\n",
    "# x_test= np.reshape(x_test, (x_test.shape[0], x_test.shape[1], n_fitur))"
   ]
  },
  {
   "cell_type": "code",
   "execution_count": 18,
   "metadata": {
    "scrolled": true
   },
   "outputs": [],
   "source": [
    "#prediksi dari model\n",
    "predictions=model.predict(x_test)\n",
    "predictions_copies = np.repeat(predictions, train_data.shape[1], axis=-1)\n",
    "predictions=scaler.inverse_transform(predictions_copies)[:,0]"
   ]
  },
  {
   "cell_type": "code",
   "execution_count": 19,
   "metadata": {},
   "outputs": [],
   "source": [
    "# predictions_scaled = scaler.fit_transform(predictions_copies)\n",
    "# rmse = np.sqrt(np.mean((predictions-y_test_scaled)**2))\n",
    "# rmse"
   ]
  },
  {
   "cell_type": "code",
   "execution_count": 20,
   "metadata": {},
   "outputs": [
    {
     "name": "stderr",
     "output_type": "stream",
     "text": [
      "<ipython-input-20-0cb65da84504>:4: SettingWithCopyWarning: \n",
      "A value is trying to be set on a copy of a slice from a DataFrame.\n",
      "Try using .loc[row_indexer,col_indexer] = value instead\n",
      "\n",
      "See the caveats in the documentation: http://pandas.pydata.org/pandas-docs/stable/user_guide/indexing.html#returning-a-view-versus-a-copy\n",
      "  valid['Predictions']=predictions\n"
     ]
    },
    {
     "data": {
      "image/png": "[encoded data removed]",
      "text/plain": [
       "<Figure size 576x288 with 1 Axes>"
      ]
     },
     "metadata": {
      "needs_background": "light"
     },
     "output_type": "display_data"
    }
   ],
   "source": [
    "#Plot data\n",
    "train=data[:training_data_len]\n",
    "valid=data[training_data_len:]\n",
    "valid['Predictions']=predictions\n",
    "\n",
    "#Visualisasi data\n",
    "plt.figure(figsize=(8,4))\n",
    "plt.title('Model')\n",
    "plt.xlabel('Tanggal', fontsize=18)\n",
    "plt.ylabel('Harga Close (Rp)', fontsize=18)\n",
    "plt.plot(train['Close'])\n",
    "plt.plot(valid[['Close', 'Predictions']])\n",
    "plt.legend(['Train', 'Close', 'Prediksi Close'], loc='lower right')\n",
    "plt.show()"
   ]
  },
  {
   "cell_type": "code",
   "execution_count": 21,
   "metadata": {
    "scrolled": false
   },
   "outputs": [
    {
     "data": {
      "text/html": [
       "<div>\n",
       "<style scoped>\n",
       "    .dataframe tbody tr th:only-of-type {\n",
       "        vertical-align: middle;\n",
       "    }\n",
       "\n",
       "    .dataframe tbody tr th {\n",
       "        vertical-align: top;\n",
       "    }\n",
       "\n",
       "    .dataframe thead th {\n",
       "        text-align: right;\n",
       "    }\n",
       "</style>\n",
       "<table border=\"1\" class=\"dataframe\">\n",
       "  <thead>\n",
       "    <tr style=\"text-align: right;\">\n",
       "      <th></th>\n",
       "      <th>Close</th>\n",
       "      <th>Predictions</th>\n",
       "    </tr>\n",
       "    <tr>\n",
       "      <th>Date</th>\n",
       "      <th></th>\n",
       "      <th></th>\n",
       "    </tr>\n",
       "  </thead>\n",
       "  <tbody>\n",
       "    <tr>\n",
       "      <th>2019-01-02</th>\n",
       "      <td>6181.174805</td>\n",
       "      <td>6170.431641</td>\n",
       "    </tr>\n",
       "    <tr>\n",
       "      <th>2019-01-03</th>\n",
       "      <td>6221.009766</td>\n",
       "      <td>6159.187500</td>\n",
       "    </tr>\n",
       "    <tr>\n",
       "      <th>2019-01-04</th>\n",
       "      <td>6274.540039</td>\n",
       "      <td>6195.781250</td>\n",
       "    </tr>\n",
       "    <tr>\n",
       "      <th>2019-01-07</th>\n",
       "      <td>6287.224121</td>\n",
       "      <td>6243.022949</td>\n",
       "    </tr>\n",
       "    <tr>\n",
       "      <th>2019-01-08</th>\n",
       "      <td>6262.847168</td>\n",
       "      <td>6275.636719</td>\n",
       "    </tr>\n",
       "    <tr>\n",
       "      <th>...</th>\n",
       "      <td>...</td>\n",
       "      <td>...</td>\n",
       "    </tr>\n",
       "    <tr>\n",
       "      <th>2020-12-22</th>\n",
       "      <td>6023.289063</td>\n",
       "      <td>6149.132324</td>\n",
       "    </tr>\n",
       "    <tr>\n",
       "      <th>2020-12-23</th>\n",
       "      <td>6008.708984</td>\n",
       "      <td>6011.834473</td>\n",
       "    </tr>\n",
       "    <tr>\n",
       "      <th>2020-12-28</th>\n",
       "      <td>6093.554199</td>\n",
       "      <td>5980.995117</td>\n",
       "    </tr>\n",
       "    <tr>\n",
       "      <th>2020-12-29</th>\n",
       "      <td>6036.173828</td>\n",
       "      <td>6068.252930</td>\n",
       "    </tr>\n",
       "    <tr>\n",
       "      <th>2020-12-30</th>\n",
       "      <td>5979.073242</td>\n",
       "      <td>6024.934082</td>\n",
       "    </tr>\n",
       "  </tbody>\n",
       "</table>\n",
       "<p>487 rows × 2 columns</p>\n",
       "</div>"
      ],
      "text/plain": [
       "                  Close  Predictions\n",
       "Date                                \n",
       "2019-01-02  6181.174805  6170.431641\n",
       "2019-01-03  6221.009766  6159.187500\n",
       "2019-01-04  6274.540039  6195.781250\n",
       "2019-01-07  6287.224121  6243.022949\n",
       "2019-01-08  6262.847168  6275.636719\n",
       "...                 ...          ...\n",
       "2020-12-22  6023.289063  6149.132324\n",
       "2020-12-23  6008.708984  6011.834473\n",
       "2020-12-28  6093.554199  5980.995117\n",
       "2020-12-29  6036.173828  6068.252930\n",
       "2020-12-30  5979.073242  6024.934082\n",
       "\n",
       "[487 rows x 2 columns]"
      ]
     },
     "execution_count": 21,
     "metadata": {},
     "output_type": "execute_result"
    }
   ],
   "source": [
    "valid[['Close','Predictions']]"
   ]
  },
  {
   "cell_type": "code",
   "execution_count": 22,
   "metadata": {},
   "outputs": [
    {
     "data": {
      "text/plain": [
       "0.1004110733230816"
      ]
     },
     "execution_count": 22,
     "metadata": {},
     "output_type": "execute_result"
    }
   ],
   "source": [
    "y_test_scaled = scaler.fit_transform(y_test)\n",
    "predictions_scaled = scaler.fit_transform(predictions_copies)\n",
    "rmse = np.sqrt(np.mean((predictions_scaled-y_test_scaled)**2))\n",
    "rmse"
   ]
  }
 ],
 "metadata": {
  "kernelspec": {
   "display_name": "Python 3",
   "language": "python",
   "name": "python3"
  },
  "language_info": {
   "codemirror_mode": {
    "name": "ipython",
    "version": 3
   },
   "file_extension": ".py",
   "mimetype": "text/x-python",
   "name": "python",
   "nbconvert_exporter": "python",
   "pygments_lexer": "ipython3",
   "version": "3.8.1"
  }
 },
 "nbformat": 4,
 "nbformat_minor": 4
}
