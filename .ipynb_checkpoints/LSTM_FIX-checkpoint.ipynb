{
 "cells": [
  {
   "cell_type": "code",
   "execution_count": 1,
   "metadata": {},
   "outputs": [
    {
     "name": "stderr",
     "output_type": "stream",
     "text": [
      "Using TensorFlow backend.\n"
     ]
    }
   ],
   "source": [
    "#Import the libraries\n",
    "import math\n",
    "import pandas_datareader as web\n",
    "import numpy as np\n",
    "import pandas as pd\n",
    "import seaborn as sns\n",
    "from sklearn.preprocessing import MinMaxScaler\n",
    "from keras.models import Sequential, load_model\n",
    "from keras.layers import Dense, LSTM, Dropout\n",
    "from sklearn.preprocessing import StandardScaler\n",
    "import matplotlib.pyplot as plt"
   ]
  },
  {
   "cell_type": "code",
   "execution_count": 2,
   "metadata": {},
   "outputs": [
    {
     "data": {
      "text/html": [
       "<div>\n",
       "<style scoped>\n",
       "    .dataframe tbody tr th:only-of-type {\n",
       "        vertical-align: middle;\n",
       "    }\n",
       "\n",
       "    .dataframe tbody tr th {\n",
       "        vertical-align: top;\n",
       "    }\n",
       "\n",
       "    .dataframe thead th {\n",
       "        text-align: right;\n",
       "    }\n",
       "</style>\n",
       "<table border=\"1\" class=\"dataframe\">\n",
       "  <thead>\n",
       "    <tr style=\"text-align: right;\">\n",
       "      <th></th>\n",
       "      <th>Open</th>\n",
       "      <th>High</th>\n",
       "      <th>Low</th>\n",
       "      <th>Close</th>\n",
       "      <th>Adj Close</th>\n",
       "      <th>Volume</th>\n",
       "    </tr>\n",
       "    <tr>\n",
       "      <th>Date</th>\n",
       "      <th></th>\n",
       "      <th></th>\n",
       "      <th></th>\n",
       "      <th></th>\n",
       "      <th></th>\n",
       "      <th></th>\n",
       "    </tr>\n",
       "  </thead>\n",
       "  <tbody>\n",
       "    <tr>\n",
       "      <th>2010-01-04</th>\n",
       "      <td>2533.947998</td>\n",
       "      <td>2576.055908</td>\n",
       "      <td>2532.895996</td>\n",
       "      <td>2575.413086</td>\n",
       "      <td>2575.312988</td>\n",
       "      <td>18339300</td>\n",
       "    </tr>\n",
       "    <tr>\n",
       "      <th>2010-01-05</th>\n",
       "      <td>2575.616943</td>\n",
       "      <td>2606.069092</td>\n",
       "      <td>2575.616943</td>\n",
       "      <td>2605.277100</td>\n",
       "      <td>2605.175537</td>\n",
       "      <td>57043800</td>\n",
       "    </tr>\n",
       "    <tr>\n",
       "      <th>2010-01-06</th>\n",
       "      <td>2605.480957</td>\n",
       "      <td>2622.115967</td>\n",
       "      <td>2587.709961</td>\n",
       "      <td>2603.297119</td>\n",
       "      <td>2603.195557</td>\n",
       "      <td>51569100</td>\n",
       "    </tr>\n",
       "    <tr>\n",
       "      <th>2010-01-07</th>\n",
       "      <td>2603.500977</td>\n",
       "      <td>2611.603027</td>\n",
       "      <td>2570.272949</td>\n",
       "      <td>2586.895020</td>\n",
       "      <td>2586.794189</td>\n",
       "      <td>45510800</td>\n",
       "    </tr>\n",
       "    <tr>\n",
       "      <th>2010-01-08</th>\n",
       "      <td>2586.792969</td>\n",
       "      <td>2614.535889</td>\n",
       "      <td>2583.846924</td>\n",
       "      <td>2614.370117</td>\n",
       "      <td>2614.268311</td>\n",
       "      <td>73723500</td>\n",
       "    </tr>\n",
       "    <tr>\n",
       "      <th>...</th>\n",
       "      <td>...</td>\n",
       "      <td>...</td>\n",
       "      <td>...</td>\n",
       "      <td>...</td>\n",
       "      <td>...</td>\n",
       "      <td>...</td>\n",
       "    </tr>\n",
       "    <tr>\n",
       "      <th>2020-12-22</th>\n",
       "      <td>6146.645996</td>\n",
       "      <td>6174.458984</td>\n",
       "      <td>6010.210938</td>\n",
       "      <td>6023.289063</td>\n",
       "      <td>6023.289063</td>\n",
       "      <td>250085200</td>\n",
       "    </tr>\n",
       "    <tr>\n",
       "      <th>2020-12-23</th>\n",
       "      <td>6061.848145</td>\n",
       "      <td>6104.354980</td>\n",
       "      <td>5853.261230</td>\n",
       "      <td>6008.708984</td>\n",
       "      <td>6008.708984</td>\n",
       "      <td>203528500</td>\n",
       "    </tr>\n",
       "    <tr>\n",
       "      <th>2020-12-28</th>\n",
       "      <td>6067.000000</td>\n",
       "      <td>6095.007813</td>\n",
       "      <td>5979.904785</td>\n",
       "      <td>6093.554199</td>\n",
       "      <td>6093.554199</td>\n",
       "      <td>180855700</td>\n",
       "    </tr>\n",
       "    <tr>\n",
       "      <th>2020-12-29</th>\n",
       "      <td>6112.720215</td>\n",
       "      <td>6143.870117</td>\n",
       "      <td>6026.705078</td>\n",
       "      <td>6036.173828</td>\n",
       "      <td>6036.173828</td>\n",
       "      <td>175135000</td>\n",
       "    </tr>\n",
       "    <tr>\n",
       "      <th>2020-12-30</th>\n",
       "      <td>6052.121094</td>\n",
       "      <td>6055.970215</td>\n",
       "      <td>5962.009766</td>\n",
       "      <td>5979.073242</td>\n",
       "      <td>5979.073242</td>\n",
       "      <td>170039300</td>\n",
       "    </tr>\n",
       "  </tbody>\n",
       "</table>\n",
       "<p>2679 rows × 6 columns</p>\n",
       "</div>"
      ],
      "text/plain": [
       "                   Open         High          Low        Close    Adj Close  \\\n",
       "Date                                                                          \n",
       "2010-01-04  2533.947998  2576.055908  2532.895996  2575.413086  2575.312988   \n",
       "2010-01-05  2575.616943  2606.069092  2575.616943  2605.277100  2605.175537   \n",
       "2010-01-06  2605.480957  2622.115967  2587.709961  2603.297119  2603.195557   \n",
       "2010-01-07  2603.500977  2611.603027  2570.272949  2586.895020  2586.794189   \n",
       "2010-01-08  2586.792969  2614.535889  2583.846924  2614.370117  2614.268311   \n",
       "...                 ...          ...          ...          ...          ...   \n",
       "2020-12-22  6146.645996  6174.458984  6010.210938  6023.289063  6023.289063   \n",
       "2020-12-23  6061.848145  6104.354980  5853.261230  6008.708984  6008.708984   \n",
       "2020-12-28  6067.000000  6095.007813  5979.904785  6093.554199  6093.554199   \n",
       "2020-12-29  6112.720215  6143.870117  6026.705078  6036.173828  6036.173828   \n",
       "2020-12-30  6052.121094  6055.970215  5962.009766  5979.073242  5979.073242   \n",
       "\n",
       "               Volume  \n",
       "Date                   \n",
       "2010-01-04   18339300  \n",
       "2010-01-05   57043800  \n",
       "2010-01-06   51569100  \n",
       "2010-01-07   45510800  \n",
       "2010-01-08   73723500  \n",
       "...               ...  \n",
       "2020-12-22  250085200  \n",
       "2020-12-23  203528500  \n",
       "2020-12-28  180855700  \n",
       "2020-12-29  175135000  \n",
       "2020-12-30  170039300  \n",
       "\n",
       "[2679 rows x 6 columns]"
      ]
     },
     "execution_count": 2,
     "metadata": {},
     "output_type": "execute_result"
    }
   ],
   "source": [
    "#ambil data dari csv\n",
    "df = pd.read_csv('./Gabungan_IHSG_2010-2020.csv', header=0, index_col=0, parse_dates=True, squeeze=True)\n",
    "df\n",
    "#df = web.DataReader('^JKSE', data_source='yahoo', start='2010-01-01', end='2018-12-31') \n",
    "#df"
   ]
  },
  {
   "cell_type": "code",
   "execution_count": 3,
   "metadata": {},
   "outputs": [
    {
     "data": {
      "text/plain": [
       "(2679, 6)"
      ]
     },
     "execution_count": 3,
     "metadata": {},
     "output_type": "execute_result"
    }
   ],
   "source": [
    "df.shape"
   ]
  },
  {
   "cell_type": "code",
   "execution_count": 4,
   "metadata": {},
   "outputs": [
    {
     "name": "stderr",
     "output_type": "stream",
     "text": [
      "/Library/Frameworks/Python.framework/Versions/3.8/lib/python3.8/site-packages/pandas/plotting/_matplotlib/converter.py:103: FutureWarning: Using an implicitly registered datetime converter for a matplotlib plotting method. The converter was registered by pandas on import. Future versions of pandas will require you to explicitly register matplotlib converters.\n",
      "\n",
      "To register the converters:\n",
      "\t>>> from pandas.plotting import register_matplotlib_converters\n",
      "\t>>> register_matplotlib_converters()\n",
      "  warnings.warn(msg, FutureWarning)\n"
     ]
    },
    {
     "data": {
      "image/png": "[encoded data removed]",
      "text/plain": [
       "<Figure size 576x288 with 1 Axes>"
      ]
     },
     "metadata": {
      "needs_background": "light"
     },
     "output_type": "display_data"
    }
   ],
   "source": [
    "plt.figure(figsize=(8,4))\n",
    "plt.title('Harga Close IHSG')\n",
    "plt.plot(df['Close'])\n",
    "plt.xlabel('Date', fontsize=18)\n",
    "plt.ylabel('Harga Close (Rp)', fontsize=18)\n",
    "plt.show()"
   ]
  },
  {
   "cell_type": "code",
   "execution_count": 5,
   "metadata": {},
   "outputs": [
    {
     "data": {
      "text/plain": [
       "(2679, 5)"
      ]
     },
     "execution_count": 5,
     "metadata": {},
     "output_type": "execute_result"
    }
   ],
   "source": [
    "#Ambil data CLOSE saja\n",
    "data=df.filter(['Open', 'High', 'Low', 'Close', 'Adj Close'])\n",
    "dataset=data.values\n",
    "training_data_len=2192 #data dari 2010-2018\n",
    "#training_data_len=math.ceil(len(dataset)* .8)\n",
    "data.shape"
   ]
  },
  {
   "cell_type": "code",
   "execution_count": 6,
   "metadata": {},
   "outputs": [
    {
     "data": {
      "text/plain": [
       "array([[-2.35827546, -2.34286582, -2.33240983, -2.32133551, -2.32122182],\n",
       "       [-2.31631172, -2.31262684, -2.28934632, -2.29119657, -2.29108577],\n",
       "       [-2.28623643, -2.29645925, -2.27715633, -2.29319477, -2.29308389],\n",
       "       ...,\n",
       "       [ 1.19977167,  1.20255974,  1.14223954,  1.22919342,  1.22924069],\n",
       "       [ 1.24581534,  1.25178965,  1.18941511,  1.17128481,  1.17133481],\n",
       "       [ 1.1847875 ,  1.16322846,  1.12420102,  1.11365855,  1.11371128]])"
      ]
     },
     "execution_count": 6,
     "metadata": {},
     "output_type": "execute_result"
    }
   ],
   "source": [
    "#Scaling Data\n",
    "scaler=StandardScaler()\n",
    "scaled_data=scaler.fit_transform(dataset)\n",
    "scaled_data"
   ]
  },
  {
   "cell_type": "code",
   "execution_count": 7,
   "metadata": {},
   "outputs": [
    {
     "data": {
      "text/plain": [
       "(2192, 5)"
      ]
     },
     "execution_count": 7,
     "metadata": {},
     "output_type": "execute_result"
    }
   ],
   "source": [
    "#bikin scaled training dataset\n",
    "train_data=scaled_data[0:training_data_len, :]\n",
    "\n",
    "#split x_train & y_train\n",
    "x_train = []\n",
    "y_train = []\n",
    "\n",
    "train_data.shape"
   ]
  },
  {
   "cell_type": "code",
   "execution_count": 8,
   "metadata": {},
   "outputs": [],
   "source": [
    "n_future = 1\n",
    "n_past = 10\n",
    "\n",
    "#isi trainx dan trainy sesuai n nya\n",
    "for i in range(n_past, len(train_data) - n_future +1): # i = range dari 365 - 3965 (365, 3969-3-1)\n",
    "    x_train.append(train_data[i - n_past:i, 0:train_data.shape[1]]) #ambil data dari 365 hari yang lalu (0:365, 0:5)\n",
    "    y_train.append(train_data[i + n_future - 1:i + n_future, 0]) #ambil data buat prediksi (367:368, 0)"
   ]
  },
  {
   "cell_type": "code",
   "execution_count": 9,
   "metadata": {},
   "outputs": [],
   "source": [
    "#n_past=10\n",
    "#for i in range(n_past, len(train_data)):\n",
    "    #x_train.append(train_data[i-n_past:i, 0])\n",
    "    #y_train.append(train_data[i,0])"
   ]
  },
  {
   "cell_type": "code",
   "execution_count": 10,
   "metadata": {},
   "outputs": [
    {
     "data": {
      "text/plain": [
       "(2182, 10, 5)"
      ]
     },
     "execution_count": 10,
     "metadata": {},
     "output_type": "execute_result"
    }
   ],
   "source": [
    "#Convert ke Array\n",
    "x_train, y_train = np.array(x_train), np.array(y_train)\n",
    "x_train.shape"
   ]
  },
  {
   "cell_type": "code",
   "execution_count": 11,
   "metadata": {},
   "outputs": [],
   "source": [
    "n_fitur=5 #fitur close \n",
    "#x_train = np.reshape(x_train, (x_train.shape[0], x_train.shape[1],n_fitur))\n",
    "#x_train.shape"
   ]
  },
  {
   "cell_type": "code",
   "execution_count": 12,
   "metadata": {},
   "outputs": [],
   "source": [
    "#Building LSTM\n",
    "model = Sequential()\n",
    "model.add(LSTM(64, return_sequences=True, activation='relu', input_shape=(x_train.shape[1], x_train.shape[2])))\n",
    "model.add(LSTM(64, activation='relu',return_sequences=False))\n",
    "model.add(Dense(25))\n",
    "model.add(Dense(1))"
   ]
  },
  {
   "cell_type": "code",
   "execution_count": 13,
   "metadata": {},
   "outputs": [
    {
     "name": "stdout",
     "output_type": "stream",
     "text": [
      "Model: \"sequential_1\"\n",
      "_________________________________________________________________\n",
      "Layer (type)                 Output Shape              Param #   \n",
      "=================================================================\n",
      "lstm_1 (LSTM)                (None, 10, 64)            17920     \n",
      "_________________________________________________________________\n",
      "lstm_2 (LSTM)                (None, 64)                33024     \n",
      "_________________________________________________________________\n",
      "dense_1 (Dense)              (None, 25)                1625      \n",
      "_________________________________________________________________\n",
      "dense_2 (Dense)              (None, 1)                 26        \n",
      "=================================================================\n",
      "Total params: 52,595\n",
      "Trainable params: 52,595\n",
      "Non-trainable params: 0\n",
      "_________________________________________________________________\n"
     ]
    }
   ],
   "source": [
    "#Compile model\n",
    "model.compile(optimizer='adam', loss='mean_squared_error')\n",
    "model.summary()"
   ]
  },
  {
   "cell_type": "code",
   "execution_count": 14,
   "metadata": {
    "scrolled": false
   },
   "outputs": [
    {
     "name": "stdout",
     "output_type": "stream",
     "text": [
      "Epoch 1/50\n",
      "2182/2182 [==============================] - 2s 762us/step - loss: 0.1234\n",
      "Epoch 2/50\n",
      "2182/2182 [==============================] - 1s 364us/step - loss: 0.0061\n",
      "Epoch 3/50\n",
      "2182/2182 [==============================] - 1s 371us/step - loss: 0.0047\n",
      "Epoch 4/50\n",
      "2182/2182 [==============================] - 1s 321us/step - loss: 0.0037\n",
      "Epoch 5/50\n",
      "2182/2182 [==============================] - 1s 320us/step - loss: 0.0032\n",
      "Epoch 6/50\n",
      "2182/2182 [==============================] - 1s 316us/step - loss: 0.0031\n",
      "Epoch 7/50\n",
      "2182/2182 [==============================] - 1s 314us/step - loss: 0.0028\n",
      "Epoch 8/50\n",
      "2182/2182 [==============================] - 1s 312us/step - loss: 0.0025\n",
      "Epoch 9/50\n",
      "2182/2182 [==============================] - 1s 299us/step - loss: 0.0021\n",
      "Epoch 10/50\n",
      "2182/2182 [==============================] - 1s 308us/step - loss: 0.0018\n",
      "Epoch 11/50\n",
      "2182/2182 [==============================] - 1s 320us/step - loss: 0.0013\n",
      "Epoch 12/50\n",
      "2182/2182 [==============================] - 1s 329us/step - loss: 0.0013\n",
      "Epoch 13/50\n",
      "2182/2182 [==============================] - 1s 338us/step - loss: 0.0011\n",
      "Epoch 14/50\n",
      "2182/2182 [==============================] - 1s 377us/step - loss: 8.6114e-04\n",
      "Epoch 15/50\n",
      "2182/2182 [==============================] - 1s 394us/step - loss: 8.4106e-04\n",
      "Epoch 16/50\n",
      "2182/2182 [==============================] - 1s 404us/step - loss: 6.0104e-04\n",
      "Epoch 17/50\n",
      "2182/2182 [==============================] - 1s 396us/step - loss: 6.1649e-04\n",
      "Epoch 18/50\n",
      "2182/2182 [==============================] - 1s 389us/step - loss: 5.6152e-04\n",
      "Epoch 19/50\n",
      "2182/2182 [==============================] - 1s 357us/step - loss: 6.0754e-04\n",
      "Epoch 20/50\n",
      "2182/2182 [==============================] - 1s 329us/step - loss: 5.2072e-04\n",
      "Epoch 21/50\n",
      "2182/2182 [==============================] - 1s 322us/step - loss: 4.5633e-04\n",
      "Epoch 22/50\n",
      "2182/2182 [==============================] - 1s 322us/step - loss: 6.3527e-04\n",
      "Epoch 23/50\n",
      "2182/2182 [==============================] - 1s 332us/step - loss: 4.1311e-04\n",
      "Epoch 24/50\n",
      "2182/2182 [==============================] - 1s 331us/step - loss: 5.3227e-04\n",
      "Epoch 25/50\n",
      "2182/2182 [==============================] - 1s 340us/step - loss: 4.5699e-04\n",
      "Epoch 26/50\n",
      "2182/2182 [==============================] - 1s 340us/step - loss: 5.8636e-04\n",
      "Epoch 27/50\n",
      "2182/2182 [==============================] - 1s 366us/step - loss: 5.0779e-04\n",
      "Epoch 28/50\n",
      "2182/2182 [==============================] - 1s 406us/step - loss: 4.6979e-04\n",
      "Epoch 29/50\n",
      "2182/2182 [==============================] - 1s 402us/step - loss: 6.2722e-04\n",
      "Epoch 30/50\n",
      "2182/2182 [==============================] - 1s 403us/step - loss: 4.1775e-04\n",
      "Epoch 31/50\n",
      "2182/2182 [==============================] - 1s 400us/step - loss: 4.1333e-04\n",
      "Epoch 32/50\n",
      "2182/2182 [==============================] - 1s 389us/step - loss: 3.9827e-04\n",
      "Epoch 33/50\n",
      "2182/2182 [==============================] - 1s 348us/step - loss: 3.8446e-04\n",
      "Epoch 34/50\n",
      "2182/2182 [==============================] - 1s 343us/step - loss: 4.9747e-04\n",
      "Epoch 35/50\n",
      "2182/2182 [==============================] - 1s 331us/step - loss: 3.5996e-04\n",
      "Epoch 36/50\n",
      "2182/2182 [==============================] - 1s 351us/step - loss: 3.8202e-04\n",
      "Epoch 37/50\n",
      "2182/2182 [==============================] - 1s 370us/step - loss: 3.4803e-04\n",
      "Epoch 38/50\n",
      "2182/2182 [==============================] - 1s 365us/step - loss: 4.0109e-04\n",
      "Epoch 39/50\n",
      "2182/2182 [==============================] - 1s 371us/step - loss: 4.1904e-04\n",
      "Epoch 40/50\n",
      "2182/2182 [==============================] - 1s 393us/step - loss: 4.1895e-04\n",
      "Epoch 41/50\n",
      "2182/2182 [==============================] - 1s 421us/step - loss: 4.8357e-04\n",
      "Epoch 42/50\n",
      "2182/2182 [==============================] - 1s 416us/step - loss: 5.1932e-04\n",
      "Epoch 43/50\n",
      "2182/2182 [==============================] - 1s 416us/step - loss: 4.6439e-04\n",
      "Epoch 44/50\n",
      "2182/2182 [==============================] - 1s 422us/step - loss: 4.5765e-04\n",
      "Epoch 45/50\n",
      "2182/2182 [==============================] - 1s 395us/step - loss: 4.1628e-04\n",
      "Epoch 46/50\n",
      "2182/2182 [==============================] - 1s 347us/step - loss: 3.7659e-04\n",
      "Epoch 47/50\n",
      "2182/2182 [==============================] - 1s 358us/step - loss: 4.6587e-04\n",
      "Epoch 48/50\n",
      "2182/2182 [==============================] - 1s 353us/step - loss: 4.4384e-04\n",
      "Epoch 49/50\n",
      "2182/2182 [==============================] - 1s 336us/step - loss: 4.0215e-04\n",
      "Epoch 50/50\n",
      "2182/2182 [==============================] - 1s 319us/step - loss: 3.7186e-04\n"
     ]
    },
    {
     "data": {
      "text/plain": [
       "<keras.callbacks.callbacks.History at 0x7f94c858c6d0>"
      ]
     },
     "execution_count": 14,
     "metadata": {},
     "output_type": "execute_result"
    }
   ],
   "source": [
    "model.fit(x_train, y_train, batch_size=32, epochs=50)"
   ]
  },
  {
   "cell_type": "code",
   "execution_count": 15,
   "metadata": {},
   "outputs": [],
   "source": [
    "#Bikin testing data set\n",
    "test_data=scaled_data[training_data_len-n_past:, :]\n",
    "x_test=[]\n",
    "y_test=dataset[training_data_len:, -1:]\n",
    "for i in range(n_past, len(test_data)):\n",
    "    x_test.append(test_data[i-n_past:i,0:5])"
   ]
  },
  {
   "cell_type": "code",
   "execution_count": 16,
   "metadata": {
    "scrolled": true
   },
   "outputs": [],
   "source": [
    "#convert data ke numpy array\n",
    "x_test = np.array(x_test)\n",
    "# y_test_scaled = scaler.fit_transform(y_test)"
   ]
  },
  {
   "cell_type": "code",
   "execution_count": 17,
   "metadata": {},
   "outputs": [],
   "source": [
    "#reshape data\n",
    "# x_test= np.reshape(x_test, (x_test.shape[0], x_test.shape[1], n_fitur))"
   ]
  },
  {
   "cell_type": "code",
   "execution_count": 18,
   "metadata": {
    "scrolled": true
   },
   "outputs": [
    {
     "data": {
      "text/plain": [
       "array([6200.253 , 6190.3804, 6231.6055, 6277.03  , 6306.108 , 6268.902 ,\n",
       "       6291.2915, 6336.2905, 6374.1   , 6339.5415, 6418.4873, 6420.665 ,\n",
       "       6440.114 , 6457.7427, 6466.965 , 6476.845 , 6471.3213, 6486.415 ,\n",
       "       6503.0557, 6471.8364, 6458.935 , 6484.9736, 6549.5894, 6549.401 ,\n",
       "       6495.003 , 6570.2354, 6546.805 , 6537.573 , 6520.2544, 6436.151 ,\n",
       "       6446.0015, 6438.859 , 6403.85  , 6518.8022, 6505.771 , 6529.079 ,\n",
       "       6550.037 , 6513.96  , 6550.3857, 6550.8096, 6540.812 , 6457.4595,\n",
       "       6530.4663, 6505.488 , 6449.7285, 6482.878 , 6392.2783, 6398.013 ,\n",
       "       6372.2114, 6393.1963, 6430.0396, 6476.4385, 6521.85  , 6492.651 ,\n",
       "       6499.919 , 6522.102 , 6538.8247, 6410.888 , 6507.5723, 6456.2236,\n",
       "       6500.7305, 6480.818 , 6475.281 , 6498.423 , 6514.38  , 6493.767 ,\n",
       "       6436.903 , 6507.2925, 6489.2197, 6425.471 , 6432.491 , 6458.5576,\n",
       "       6495.521 , 6530.306 , 6414.883 , 6491.236 , 6460.2114, 6381.293 ,\n",
       "       6418.3413, 6439.191 , 6471.609 , 6382.5283, 6325.833 , 6262.3506,\n",
       "       6328.1978, 6267.124 , 6215.674 , 6222.442 , 6148.7905, 6072.055 ,\n",
       "       6003.3896, 5906.9478, 5847.1636, 5905.2046, 5966.2837, 5938.702 ,\n",
       "       6038.0376, 6062.2817, 6101.1226, 6038.246 , 6111.7183, 6196.6494,\n",
       "       6279.289 , 6295.769 , 6278.4414, 6282.0283, 6262.785 , 6204.529 ,\n",
       "       6273.2056, 6350.39  , 6339.982 , 6320.036 , 6303.634 , 6343.3584,\n",
       "       6323.7505, 6371.725 , 6374.3384, 6398.9556, 6398.8794, 6373.5747,\n",
       "       6397.9956, 6389.6587, 6363.188 , 6409.6416, 6427.1973, 6433.164 ,\n",
       "       6388.3306, 6447.1123, 6412.712 , 6412.7505, 6420.7505, 6474.87  ,\n",
       "       6445.36  , 6423.004 , 6405.793 , 6424.1797, 6332.449 , 6323.99  ,\n",
       "       6396.898 , 6394.598 , 6399.635 , 6348.103 , 6183.6235, 6122.102 ,\n",
       "       6235.855 , 6275.794 , 6292.798 , 6259.5923, 6222.7407, 6292.3857,\n",
       "       6244.238 , 6303.566 , 6310.233 , 6307.2695, 6267.0347, 6253.4556,\n",
       "       6266.048 , 6211.62  , 6301.5654, 6289.137 , 6303.7266, 6345.77  ,\n",
       "       6300.2544, 6277.4277, 6283.8213, 6325.33  , 6324.3564, 6341.4746,\n",
       "       6349.5884, 6394.2134, 6356.6567, 6351.087 , 6215.2056, 6267.971 ,\n",
       "       6289.5845, 6255.8833, 6246.7   , 6222.704 , 6143.852 , 6158.9995,\n",
       "       6245.9795, 6199.027 , 6181.3193, 6154.778 , 6066.7207, 6048.3765,\n",
       "       6082.256 , 6005.3066, 6056.318 , 6036.3115, 6037.5166, 6115.481 ,\n",
       "       6132.933 , 6161.38  , 6176.2876, 6189.0854, 6202.3486, 6211.7905,\n",
       "       6230.684 , 6261.8237, 6343.9   , 6255.791 , 6280.1045, 6291.012 ,\n",
       "       6308.143 , 6236.9756, 6225.199 , 6201.331 , 6278.3936, 6220.4624,\n",
       "       6170.818 , 6192.746 , 6158.4395, 6194.219 , 6152.526 , 6105.2134,\n",
       "       6146.6406, 6128.998 , 6164.3975, 6162.244 , 6124.005 , 6115.3364,\n",
       "       6080.556 , 6042.246 , 6035.0845, 5961.443 , 6022.1206, 6132.641 ,\n",
       "       6132.188 , 6115.973 , 6166.666 , 6190.7046, 6202.9937, 6192.9443,\n",
       "       6193.381 , 6152.691 , 6216.4536, 6222.4917, 6253.1226, 6306.831 ,\n",
       "       6254.0015, 6295.4316, 6316.0234, 6332.463 , 6342.964 , 6311.8247,\n",
       "       6298.921 , 6340.779 , 6263.9033, 6301.061 , 6233.185 , 6298.8804,\n",
       "       6288.838 , 6310.1553, 6340.602 , 6290.725 , 6300.568 , 6305.9077,\n",
       "       6259.4126, 6256.3315, 6252.01  , 6264.9077, 6259.329 , 6140.392 ,\n",
       "       6133.731 , 6135.4136, 6061.527 , 5955.0205, 5898.0283, 5949.624 ,\n",
       "       5982.35  , 5995.141 , 6006.104 , 5956.429 , 5969.2715, 5917.602 ,\n",
       "       5882.3755, 5875.349 , 5877.445 , 5894.867 , 5936.4995, 5949.1084,\n",
       "       5884.87  , 5810.069 , 5794.883 , 5695.9614, 5542.444 , 5418.6074,\n",
       "       5386.0337, 5528.3423, 5634.3076, 5638.006 , 5485.2456, 5128.674 ,\n",
       "       5236.1724, 5149.906 , 4897.467 , 4869.4243, 4701.0234, 4466.7886,\n",
       "       4336.118 , 4115.746 , 4155.7314, 3989.811 , 3939.9163, 4309.714 ,\n",
       "       4546.1562, 4357.945 , 4528.3286, 4450.006 , 4492.9336, 4605.584 ,\n",
       "       4784.282 , 4768.4673, 4592.6494, 4622.465 , 4604.751 , 4687.3555,\n",
       "       4613.698 , 4452.4575, 4624.72  , 4564.76  , 4482.254 , 4542.269 ,\n",
       "       4585.5264, 4478.6157, 4499.3096, 4513.701 , 4554.5737, 4699.316 ,\n",
       "       4581.5767, 4621.3843, 4593.397 , 4585.1206, 4627.258 , 4568.069 ,\n",
       "       4536.1367, 4499.6567, 4489.4375, 4498.8955, 4543.4263, 4528.8574,\n",
       "       4614.0396, 4623.484 , 4705.5054, 4736.42  , 4834.8574, 4922.648 ,\n",
       "       4905.666 , 4914.695 , 5055.939 , 5024.433 , 4897.6816, 4835.4907,\n",
       "       4837.8076, 4812.939 , 4963.207 , 4980.2837, 4917.2847, 4938.2417,\n",
       "       4909.2554, 4873.251 , 4952.804 , 4883.203 , 4898.0356, 4885.5938,\n",
       "       4902.583 , 4903.215 , 4957.766 , 4969.047 , 4983.321 , 4981.8438,\n",
       "       5065.115 , 5047.06  , 5023.729 , 5055.9116, 5069.991 , 5074.2373,\n",
       "       5091.983 , 5075.0005, 5044.199 , 5105.784 , 5105.2314, 5139.352 ,\n",
       "       5076.1406, 5108.902 , 5108.708 , 5137.273 , 5134.586 , 4988.023 ,\n",
       "       5063.496 , 5111.9897, 5170.0083, 5134.8735, 5155.7544, 5183.813 ,\n",
       "       5222.911 , 5237.0293, 5239.8755, 5288.175 , 5270.5327, 5271.5825,\n",
       "       5329.0903, 5334.3066, 5361.5093, 5340.9766, 5238.7686, 5294.004 ,\n",
       "       5307.945 , 5272.0366, 5228.2144, 5222.8804, 5243.3604, 5141.7563,\n",
       "       4886.781 , 4975.849 , 5150.994 , 5091.8555, 5054.3687, 5033.3823,\n",
       "       5049.976 , 4993.9824, 4923.4478, 4911.452 , 4829.0977, 4935.0405,\n",
       "       4903.1016, 4870.641 , 4858.542 , 4962.421 , 4906.5996, 4950.0776,\n",
       "       5000.5054, 4988.0605, 5033.23  , 5046.0186, 5093.031 , 5117.32  ,\n",
       "       5168.428 , 5099.093 , 5091.43  , 5117.516 , 5091.55  , 5093.113 ,\n",
       "       5080.409 , 5109.4863, 5137.879 , 5121.6177, 5103.605 , 5156.914 ,\n",
       "       5102.168 , 5252.223 , 5317.2905, 5349.92  , 5455.468 , 5499.1553,\n",
       "       5451.1606, 5452.5435, 5491.519 , 5527.8447, 5550.996 , 5584.6035,\n",
       "       5574.3364, 5644.879 , 5696.881 , 5681.835 , 5743.3   , 5777.046 ,\n",
       "       5605.436 , 5713.378 , 5799.5728, 5817.643 , 5803.0127, 5926.858 ,\n",
       "       5935.105 , 5934.7534, 5940.332 , 6010.9883, 6003.503 , 6114.368 ,\n",
       "       6109.7183, 6108.216 , 6173.9316, 6019.676 , 5997.773 , 6093.0317,\n",
       "       6038.908 ], dtype=float32)"
      ]
     },
     "execution_count": 18,
     "metadata": {},
     "output_type": "execute_result"
    }
   ],
   "source": [
    "#prediksi dari model\n",
    "predictions=model.predict(x_test)\n",
    "predictions_copies = np.repeat(predictions, train_data.shape[1], axis=-1)\n",
    "predictions=scaler.inverse_transform(predictions_copies)[:,0]\n",
    "predictions"
   ]
  },
  {
   "cell_type": "code",
   "execution_count": 19,
   "metadata": {},
   "outputs": [],
   "source": [
    "# predictions_scaled = scaler.fit_transform(predictions_copies)\n",
    "# rmse = np.sqrt(np.mean((predictions-y_test_scaled)**2))\n",
    "# rmse"
   ]
  },
  {
   "cell_type": "code",
   "execution_count": 20,
   "metadata": {},
   "outputs": [
    {
     "name": "stderr",
     "output_type": "stream",
     "text": [
      "<ipython-input-20-0cb65da84504>:4: SettingWithCopyWarning: \n",
      "A value is trying to be set on a copy of a slice from a DataFrame.\n",
      "Try using .loc[row_indexer,col_indexer] = value instead\n",
      "\n",
      "See the caveats in the documentation: http://pandas.pydata.org/pandas-docs/stable/user_guide/indexing.html#returning-a-view-versus-a-copy\n",
      "  valid['Predictions']=predictions\n"
     ]
    },
    {
     "data": {
      "image/png": "[encoded data removed]",
      "text/plain": [
       "<Figure size 576x288 with 1 Axes>"
      ]
     },
     "metadata": {
      "needs_background": "light"
     },
     "output_type": "display_data"
    }
   ],
   "source": [
    "#Plot data\n",
    "train=data[:training_data_len]\n",
    "valid=data[training_data_len:]\n",
    "valid['Predictions']=predictions\n",
    "\n",
    "#Visualisasi data\n",
    "plt.figure(figsize=(8,4))\n",
    "plt.title('Model')\n",
    "plt.xlabel('Tanggal', fontsize=18)\n",
    "plt.ylabel('Harga Close (Rp)', fontsize=18)\n",
    "plt.plot(train['Close'])\n",
    "plt.plot(valid[['Close', 'Predictions']])\n",
    "plt.legend(['Train', 'Close', 'Prediksi Close'], loc='lower right')\n",
    "plt.show()"
   ]
  },
  {
   "cell_type": "code",
   "execution_count": 21,
   "metadata": {
    "scrolled": false
   },
   "outputs": [
    {
     "data": {
      "text/html": [
       "<div>\n",
       "<style scoped>\n",
       "    .dataframe tbody tr th:only-of-type {\n",
       "        vertical-align: middle;\n",
       "    }\n",
       "\n",
       "    .dataframe tbody tr th {\n",
       "        vertical-align: top;\n",
       "    }\n",
       "\n",
       "    .dataframe thead th {\n",
       "        text-align: right;\n",
       "    }\n",
       "</style>\n",
       "<table border=\"1\" class=\"dataframe\">\n",
       "  <thead>\n",
       "    <tr style=\"text-align: right;\">\n",
       "      <th></th>\n",
       "      <th>Open</th>\n",
       "      <th>High</th>\n",
       "      <th>Low</th>\n",
       "      <th>Close</th>\n",
       "      <th>Adj Close</th>\n",
       "      <th>Predictions</th>\n",
       "    </tr>\n",
       "    <tr>\n",
       "      <th>Date</th>\n",
       "      <th></th>\n",
       "      <th></th>\n",
       "      <th></th>\n",
       "      <th></th>\n",
       "      <th></th>\n",
       "      <th></th>\n",
       "    </tr>\n",
       "  </thead>\n",
       "  <tbody>\n",
       "    <tr>\n",
       "      <th>2019-01-02</th>\n",
       "      <td>6197.871094</td>\n",
       "      <td>6205.895020</td>\n",
       "      <td>6164.833984</td>\n",
       "      <td>6181.174805</td>\n",
       "      <td>6181.174805</td>\n",
       "      <td>6200.252930</td>\n",
       "    </tr>\n",
       "    <tr>\n",
       "      <th>2019-01-03</th>\n",
       "      <td>6176.151855</td>\n",
       "      <td>6221.009766</td>\n",
       "      <td>6176.151855</td>\n",
       "      <td>6221.009766</td>\n",
       "      <td>6221.009766</td>\n",
       "      <td>6190.380371</td>\n",
       "    </tr>\n",
       "    <tr>\n",
       "      <th>2019-01-04</th>\n",
       "      <td>6211.096191</td>\n",
       "      <td>6274.540039</td>\n",
       "      <td>6200.854004</td>\n",
       "      <td>6274.540039</td>\n",
       "      <td>6274.540039</td>\n",
       "      <td>6231.605469</td>\n",
       "    </tr>\n",
       "    <tr>\n",
       "      <th>2019-01-07</th>\n",
       "      <td>6317.625977</td>\n",
       "      <td>6354.757813</td>\n",
       "      <td>6287.224121</td>\n",
       "      <td>6287.224121</td>\n",
       "      <td>6287.224121</td>\n",
       "      <td>6277.029785</td>\n",
       "    </tr>\n",
       "    <tr>\n",
       "      <th>2019-01-08</th>\n",
       "      <td>6292.263184</td>\n",
       "      <td>6316.240234</td>\n",
       "      <td>6251.375977</td>\n",
       "      <td>6262.847168</td>\n",
       "      <td>6262.847168</td>\n",
       "      <td>6306.107910</td>\n",
       "    </tr>\n",
       "    <tr>\n",
       "      <th>...</th>\n",
       "      <td>...</td>\n",
       "      <td>...</td>\n",
       "      <td>...</td>\n",
       "      <td>...</td>\n",
       "      <td>...</td>\n",
       "      <td>...</td>\n",
       "    </tr>\n",
       "    <tr>\n",
       "      <th>2020-12-22</th>\n",
       "      <td>6146.645996</td>\n",
       "      <td>6174.458984</td>\n",
       "      <td>6010.210938</td>\n",
       "      <td>6023.289063</td>\n",
       "      <td>6023.289063</td>\n",
       "      <td>6173.931641</td>\n",
       "    </tr>\n",
       "    <tr>\n",
       "      <th>2020-12-23</th>\n",
       "      <td>6061.848145</td>\n",
       "      <td>6104.354980</td>\n",
       "      <td>5853.261230</td>\n",
       "      <td>6008.708984</td>\n",
       "      <td>6008.708984</td>\n",
       "      <td>6019.675781</td>\n",
       "    </tr>\n",
       "    <tr>\n",
       "      <th>2020-12-28</th>\n",
       "      <td>6067.000000</td>\n",
       "      <td>6095.007813</td>\n",
       "      <td>5979.904785</td>\n",
       "      <td>6093.554199</td>\n",
       "      <td>6093.554199</td>\n",
       "      <td>5997.772949</td>\n",
       "    </tr>\n",
       "    <tr>\n",
       "      <th>2020-12-29</th>\n",
       "      <td>6112.720215</td>\n",
       "      <td>6143.870117</td>\n",
       "      <td>6026.705078</td>\n",
       "      <td>6036.173828</td>\n",
       "      <td>6036.173828</td>\n",
       "      <td>6093.031738</td>\n",
       "    </tr>\n",
       "    <tr>\n",
       "      <th>2020-12-30</th>\n",
       "      <td>6052.121094</td>\n",
       "      <td>6055.970215</td>\n",
       "      <td>5962.009766</td>\n",
       "      <td>5979.073242</td>\n",
       "      <td>5979.073242</td>\n",
       "      <td>6038.908203</td>\n",
       "    </tr>\n",
       "  </tbody>\n",
       "</table>\n",
       "<p>487 rows × 6 columns</p>\n",
       "</div>"
      ],
      "text/plain": [
       "                   Open         High          Low        Close    Adj Close  \\\n",
       "Date                                                                          \n",
       "2019-01-02  6197.871094  6205.895020  6164.833984  6181.174805  6181.174805   \n",
       "2019-01-03  6176.151855  6221.009766  6176.151855  6221.009766  6221.009766   \n",
       "2019-01-04  6211.096191  6274.540039  6200.854004  6274.540039  6274.540039   \n",
       "2019-01-07  6317.625977  6354.757813  6287.224121  6287.224121  6287.224121   \n",
       "2019-01-08  6292.263184  6316.240234  6251.375977  6262.847168  6262.847168   \n",
       "...                 ...          ...          ...          ...          ...   \n",
       "2020-12-22  6146.645996  6174.458984  6010.210938  6023.289063  6023.289063   \n",
       "2020-12-23  6061.848145  6104.354980  5853.261230  6008.708984  6008.708984   \n",
       "2020-12-28  6067.000000  6095.007813  5979.904785  6093.554199  6093.554199   \n",
       "2020-12-29  6112.720215  6143.870117  6026.705078  6036.173828  6036.173828   \n",
       "2020-12-30  6052.121094  6055.970215  5962.009766  5979.073242  5979.073242   \n",
       "\n",
       "            Predictions  \n",
       "Date                     \n",
       "2019-01-02  6200.252930  \n",
       "2019-01-03  6190.380371  \n",
       "2019-01-04  6231.605469  \n",
       "2019-01-07  6277.029785  \n",
       "2019-01-08  6306.107910  \n",
       "...                 ...  \n",
       "2020-12-22  6173.931641  \n",
       "2020-12-23  6019.675781  \n",
       "2020-12-28  5997.772949  \n",
       "2020-12-29  6093.031738  \n",
       "2020-12-30  6038.908203  \n",
       "\n",
       "[487 rows x 6 columns]"
      ]
     },
     "execution_count": 21,
     "metadata": {},
     "output_type": "execute_result"
    }
   ],
   "source": [
    "valid"
   ]
  },
  {
   "cell_type": "code",
   "execution_count": 22,
   "metadata": {},
   "outputs": [
    {
     "data": {
      "text/plain": [
       "0.10104990227865589"
      ]
     },
     "execution_count": 22,
     "metadata": {},
     "output_type": "execute_result"
    }
   ],
   "source": [
    "y_test_scaled = scaler.fit_transform(y_test)\n",
    "predictions_scaled = scaler.fit_transform(predictions_copies)\n",
    "rmse = np.sqrt(np.mean((predictions_scaled-y_test_scaled)**2))\n",
    "rmse"
   ]
  }
 ],
 "metadata": {
  "kernelspec": {
   "display_name": "Python 3",
   "language": "python",
   "name": "python3"
  },
  "language_info": {
   "codemirror_mode": {
    "name": "ipython",
    "version": 3
   },
   "file_extension": ".py",
   "mimetype": "text/x-python",
   "name": "python",
   "nbconvert_exporter": "python",
   "pygments_lexer": "ipython3",
   "version": "3.8.1"
  }
 },
 "nbformat": 4,
 "nbformat_minor": 4
}
