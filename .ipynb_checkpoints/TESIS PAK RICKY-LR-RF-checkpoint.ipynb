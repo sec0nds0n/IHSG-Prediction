{
 "cells": [
  {
   "cell_type": "code",
   "execution_count": 42,
   "metadata": {},
   "outputs": [],
   "source": [
    "#Import the libraries\n",
    "import math\n",
    "import pandas_datareader as web\n",
    "import numpy as np\n",
    "import pandas as pd\n",
    "import seaborn as sns\n",
    "from sklearn.preprocessing import MinMaxScaler\n",
    "from keras.models import Sequential, load_model\n",
    "from keras.layers import Dense, LSTM, Dropout\n",
    "from sklearn.preprocessing import StandardScaler\n",
    "import matplotlib.pyplot as plt"
   ]
  },
  {
   "cell_type": "code",
   "execution_count": 43,
   "metadata": {},
   "outputs": [
    {
     "data": {
      "text/html": [
       "<div>\n",
       "<style scoped>\n",
       "    .dataframe tbody tr th:only-of-type {\n",
       "        vertical-align: middle;\n",
       "    }\n",
       "\n",
       "    .dataframe tbody tr th {\n",
       "        vertical-align: top;\n",
       "    }\n",
       "\n",
       "    .dataframe thead th {\n",
       "        text-align: right;\n",
       "    }\n",
       "</style>\n",
       "<table border=\"1\" class=\"dataframe\">\n",
       "  <thead>\n",
       "    <tr style=\"text-align: right;\">\n",
       "      <th></th>\n",
       "      <th>High</th>\n",
       "      <th>Low</th>\n",
       "      <th>Open</th>\n",
       "      <th>Close</th>\n",
       "      <th>Volume</th>\n",
       "      <th>Adj Close</th>\n",
       "    </tr>\n",
       "    <tr>\n",
       "      <th>Date</th>\n",
       "      <th></th>\n",
       "      <th></th>\n",
       "      <th></th>\n",
       "      <th></th>\n",
       "      <th></th>\n",
       "      <th></th>\n",
       "    </tr>\n",
       "  </thead>\n",
       "  <tbody>\n",
       "    <tr>\n",
       "      <th>2010-01-04</th>\n",
       "      <td>2576.055908</td>\n",
       "      <td>2532.895996</td>\n",
       "      <td>2533.947998</td>\n",
       "      <td>2575.413086</td>\n",
       "      <td>18339300.0</td>\n",
       "      <td>2575.413086</td>\n",
       "    </tr>\n",
       "    <tr>\n",
       "      <th>2010-01-05</th>\n",
       "      <td>2606.069092</td>\n",
       "      <td>2575.616943</td>\n",
       "      <td>2575.616943</td>\n",
       "      <td>2605.277100</td>\n",
       "      <td>57043800.0</td>\n",
       "      <td>2605.277100</td>\n",
       "    </tr>\n",
       "    <tr>\n",
       "      <th>2010-01-06</th>\n",
       "      <td>2622.115967</td>\n",
       "      <td>2587.709961</td>\n",
       "      <td>2605.480957</td>\n",
       "      <td>2603.297119</td>\n",
       "      <td>51569100.0</td>\n",
       "      <td>2603.297119</td>\n",
       "    </tr>\n",
       "    <tr>\n",
       "      <th>2010-01-07</th>\n",
       "      <td>2611.603027</td>\n",
       "      <td>2570.272949</td>\n",
       "      <td>2603.500977</td>\n",
       "      <td>2586.895020</td>\n",
       "      <td>45510800.0</td>\n",
       "      <td>2586.895020</td>\n",
       "    </tr>\n",
       "    <tr>\n",
       "      <th>2010-01-08</th>\n",
       "      <td>2614.535889</td>\n",
       "      <td>2583.846924</td>\n",
       "      <td>2586.792969</td>\n",
       "      <td>2614.370117</td>\n",
       "      <td>73723500.0</td>\n",
       "      <td>2614.370117</td>\n",
       "    </tr>\n",
       "    <tr>\n",
       "      <th>...</th>\n",
       "      <td>...</td>\n",
       "      <td>...</td>\n",
       "      <td>...</td>\n",
       "      <td>...</td>\n",
       "      <td>...</td>\n",
       "      <td>...</td>\n",
       "    </tr>\n",
       "    <tr>\n",
       "      <th>2018-12-20</th>\n",
       "      <td>6160.413086</td>\n",
       "      <td>6112.055176</td>\n",
       "      <td>6144.936035</td>\n",
       "      <td>6147.875977</td>\n",
       "      <td>64812900.0</td>\n",
       "      <td>6147.875977</td>\n",
       "    </tr>\n",
       "    <tr>\n",
       "      <th>2018-12-21</th>\n",
       "      <td>6165.284180</td>\n",
       "      <td>6110.609863</td>\n",
       "      <td>6117.835938</td>\n",
       "      <td>6163.596191</td>\n",
       "      <td>59446800.0</td>\n",
       "      <td>6163.596191</td>\n",
       "    </tr>\n",
       "    <tr>\n",
       "      <th>2018-12-26</th>\n",
       "      <td>6144.604980</td>\n",
       "      <td>6094.412109</td>\n",
       "      <td>6126.652832</td>\n",
       "      <td>6127.850098</td>\n",
       "      <td>53220400.0</td>\n",
       "      <td>6127.850098</td>\n",
       "    </tr>\n",
       "    <tr>\n",
       "      <th>2018-12-27</th>\n",
       "      <td>6191.703125</td>\n",
       "      <td>6157.652832</td>\n",
       "      <td>6173.518066</td>\n",
       "      <td>6190.643066</td>\n",
       "      <td>65545500.0</td>\n",
       "      <td>6190.643066</td>\n",
       "    </tr>\n",
       "    <tr>\n",
       "      <th>2018-12-28</th>\n",
       "      <td>6212.125000</td>\n",
       "      <td>6176.630859</td>\n",
       "      <td>6200.296875</td>\n",
       "      <td>6194.498047</td>\n",
       "      <td>69954900.0</td>\n",
       "      <td>6194.498047</td>\n",
       "    </tr>\n",
       "  </tbody>\n",
       "</table>\n",
       "<p>2193 rows × 6 columns</p>\n",
       "</div>"
      ],
      "text/plain": [
       "                   High          Low         Open        Close      Volume  \\\n",
       "Date                                                                         \n",
       "2010-01-04  2576.055908  2532.895996  2533.947998  2575.413086  18339300.0   \n",
       "2010-01-05  2606.069092  2575.616943  2575.616943  2605.277100  57043800.0   \n",
       "2010-01-06  2622.115967  2587.709961  2605.480957  2603.297119  51569100.0   \n",
       "2010-01-07  2611.603027  2570.272949  2603.500977  2586.895020  45510800.0   \n",
       "2010-01-08  2614.535889  2583.846924  2586.792969  2614.370117  73723500.0   \n",
       "...                 ...          ...          ...          ...         ...   \n",
       "2018-12-20  6160.413086  6112.055176  6144.936035  6147.875977  64812900.0   \n",
       "2018-12-21  6165.284180  6110.609863  6117.835938  6163.596191  59446800.0   \n",
       "2018-12-26  6144.604980  6094.412109  6126.652832  6127.850098  53220400.0   \n",
       "2018-12-27  6191.703125  6157.652832  6173.518066  6190.643066  65545500.0   \n",
       "2018-12-28  6212.125000  6176.630859  6200.296875  6194.498047  69954900.0   \n",
       "\n",
       "              Adj Close  \n",
       "Date                     \n",
       "2010-01-04  2575.413086  \n",
       "2010-01-05  2605.277100  \n",
       "2010-01-06  2603.297119  \n",
       "2010-01-07  2586.895020  \n",
       "2010-01-08  2614.370117  \n",
       "...                 ...  \n",
       "2018-12-20  6147.875977  \n",
       "2018-12-21  6163.596191  \n",
       "2018-12-26  6127.850098  \n",
       "2018-12-27  6190.643066  \n",
       "2018-12-28  6194.498047  \n",
       "\n",
       "[2193 rows x 6 columns]"
      ]
     },
     "execution_count": 43,
     "metadata": {},
     "output_type": "execute_result"
    }
   ],
   "source": [
    "#ambil data dari csv\n",
    "# df = pd.read_csv('./IHSG_2010-2020.csv', header=0, index_col=0, parse_dates=True, squeeze=True)\n",
    "# df\n",
    "df = web.DataReader('^JKSE', data_source='yahoo', start='2010-01-01', end='2018-12-31'\n",
    "                   ) \n",
    "df"
   ]
  },
  {
   "cell_type": "code",
   "execution_count": 44,
   "metadata": {},
   "outputs": [
    {
     "data": {
      "text/plain": [
       "High         0.0\n",
       "Low          0.0\n",
       "Open         0.0\n",
       "Close        0.0\n",
       "Volume       0.0\n",
       "Adj Close    0.0\n",
       "dtype: float64"
      ]
     },
     "execution_count": 44,
     "metadata": {},
     "output_type": "execute_result"
    }
   ],
   "source": [
    "#mendeteksi null\n",
    "df_missing = df.isnull()\n",
    "#menghitung jumlah True yang ada dari hasil deteksi null menggunakan isnull()\n",
    "#Boolean True pada fungsi aritmatika dihitung bernilai 1, sehingga sum() bisa digunakan untuk menghitung jumlah missing value\n",
    "jmlMissing = df_missing.sum()\n",
    "#persentase\n",
    "persenMissing = (jmlMissing/df.shape[0])*100\n",
    "persenMissing"
   ]
  },
  {
   "cell_type": "code",
   "execution_count": 45,
   "metadata": {},
   "outputs": [
    {
     "data": {
      "image/png": "[encoded data removed]",
      "text/plain": [
       "<Figure size 1080x720 with 1 Axes>"
      ]
     },
     "metadata": {
      "needs_background": "light"
     },
     "output_type": "display_data"
    }
   ],
   "source": [
    "# visualisasi\n",
    "plt.figure(figsize=(15,10))\n",
    "plt.plot(df.index, df['Open'])\n",
    "plt.xlabel('Tahun',fontsize=24)\n",
    "plt.ylabel('Harga (Open) ($)',fontsize=24)\n",
    "\n",
    "plt.show()"
   ]
  },
  {
   "cell_type": "code",
   "execution_count": 46,
   "metadata": {},
   "outputs": [],
   "source": [
    "#conver ke date\n",
    "# indeks = range(1, len(df)+1)\n",
    "train_dates = pd.to_datetime(df.index)\n",
    "# train_dates = train_dates.to_series(index=indeks)\n",
    "# train_dates"
   ]
  },
  {
   "cell_type": "code",
   "execution_count": 47,
   "metadata": {},
   "outputs": [
    {
     "data": {
      "text/html": [
       "<div>\n",
       "<style scoped>\n",
       "    .dataframe tbody tr th:only-of-type {\n",
       "        vertical-align: middle;\n",
       "    }\n",
       "\n",
       "    .dataframe tbody tr th {\n",
       "        vertical-align: top;\n",
       "    }\n",
       "\n",
       "    .dataframe thead th {\n",
       "        text-align: right;\n",
       "    }\n",
       "</style>\n",
       "<table border=\"1\" class=\"dataframe\">\n",
       "  <thead>\n",
       "    <tr style=\"text-align: right;\">\n",
       "      <th></th>\n",
       "      <th>Open</th>\n",
       "      <th>High</th>\n",
       "      <th>Low</th>\n",
       "      <th>Close</th>\n",
       "      <th>Adj Close</th>\n",
       "    </tr>\n",
       "    <tr>\n",
       "      <th>Date</th>\n",
       "      <th></th>\n",
       "      <th></th>\n",
       "      <th></th>\n",
       "      <th></th>\n",
       "      <th></th>\n",
       "    </tr>\n",
       "  </thead>\n",
       "  <tbody>\n",
       "    <tr>\n",
       "      <th>2010-01-04</th>\n",
       "      <td>2533.947998</td>\n",
       "      <td>2576.055908</td>\n",
       "      <td>2532.895996</td>\n",
       "      <td>2575.413086</td>\n",
       "      <td>2575.413086</td>\n",
       "    </tr>\n",
       "    <tr>\n",
       "      <th>2010-01-05</th>\n",
       "      <td>2575.616943</td>\n",
       "      <td>2606.069092</td>\n",
       "      <td>2575.616943</td>\n",
       "      <td>2605.277100</td>\n",
       "      <td>2605.277100</td>\n",
       "    </tr>\n",
       "    <tr>\n",
       "      <th>2010-01-06</th>\n",
       "      <td>2605.480957</td>\n",
       "      <td>2622.115967</td>\n",
       "      <td>2587.709961</td>\n",
       "      <td>2603.297119</td>\n",
       "      <td>2603.297119</td>\n",
       "    </tr>\n",
       "    <tr>\n",
       "      <th>2010-01-07</th>\n",
       "      <td>2603.500977</td>\n",
       "      <td>2611.603027</td>\n",
       "      <td>2570.272949</td>\n",
       "      <td>2586.895020</td>\n",
       "      <td>2586.895020</td>\n",
       "    </tr>\n",
       "    <tr>\n",
       "      <th>2010-01-08</th>\n",
       "      <td>2586.792969</td>\n",
       "      <td>2614.535889</td>\n",
       "      <td>2583.846924</td>\n",
       "      <td>2614.370117</td>\n",
       "      <td>2614.370117</td>\n",
       "    </tr>\n",
       "    <tr>\n",
       "      <th>...</th>\n",
       "      <td>...</td>\n",
       "      <td>...</td>\n",
       "      <td>...</td>\n",
       "      <td>...</td>\n",
       "      <td>...</td>\n",
       "    </tr>\n",
       "    <tr>\n",
       "      <th>2018-12-20</th>\n",
       "      <td>6144.936035</td>\n",
       "      <td>6160.413086</td>\n",
       "      <td>6112.055176</td>\n",
       "      <td>6147.875977</td>\n",
       "      <td>6147.875977</td>\n",
       "    </tr>\n",
       "    <tr>\n",
       "      <th>2018-12-21</th>\n",
       "      <td>6117.835938</td>\n",
       "      <td>6165.284180</td>\n",
       "      <td>6110.609863</td>\n",
       "      <td>6163.596191</td>\n",
       "      <td>6163.596191</td>\n",
       "    </tr>\n",
       "    <tr>\n",
       "      <th>2018-12-26</th>\n",
       "      <td>6126.652832</td>\n",
       "      <td>6144.604980</td>\n",
       "      <td>6094.412109</td>\n",
       "      <td>6127.850098</td>\n",
       "      <td>6127.850098</td>\n",
       "    </tr>\n",
       "    <tr>\n",
       "      <th>2018-12-27</th>\n",
       "      <td>6173.518066</td>\n",
       "      <td>6191.703125</td>\n",
       "      <td>6157.652832</td>\n",
       "      <td>6190.643066</td>\n",
       "      <td>6190.643066</td>\n",
       "    </tr>\n",
       "    <tr>\n",
       "      <th>2018-12-28</th>\n",
       "      <td>6200.296875</td>\n",
       "      <td>6212.125000</td>\n",
       "      <td>6176.630859</td>\n",
       "      <td>6194.498047</td>\n",
       "      <td>6194.498047</td>\n",
       "    </tr>\n",
       "  </tbody>\n",
       "</table>\n",
       "<p>2193 rows × 5 columns</p>\n",
       "</div>"
      ],
      "text/plain": [
       "                   Open         High          Low        Close    Adj Close\n",
       "Date                                                                       \n",
       "2010-01-04  2533.947998  2576.055908  2532.895996  2575.413086  2575.413086\n",
       "2010-01-05  2575.616943  2606.069092  2575.616943  2605.277100  2605.277100\n",
       "2010-01-06  2605.480957  2622.115967  2587.709961  2603.297119  2603.297119\n",
       "2010-01-07  2603.500977  2611.603027  2570.272949  2586.895020  2586.895020\n",
       "2010-01-08  2586.792969  2614.535889  2583.846924  2614.370117  2614.370117\n",
       "...                 ...          ...          ...          ...          ...\n",
       "2018-12-20  6144.936035  6160.413086  6112.055176  6147.875977  6147.875977\n",
       "2018-12-21  6117.835938  6165.284180  6110.609863  6163.596191  6163.596191\n",
       "2018-12-26  6126.652832  6144.604980  6094.412109  6127.850098  6127.850098\n",
       "2018-12-27  6173.518066  6191.703125  6157.652832  6190.643066  6190.643066\n",
       "2018-12-28  6200.296875  6212.125000  6176.630859  6194.498047  6194.498047\n",
       "\n",
       "[2193 rows x 5 columns]"
      ]
     },
     "execution_count": 47,
     "metadata": {},
     "output_type": "execute_result"
    }
   ],
   "source": [
    "#ambil fiturnya doang\n",
    "fitur = df[['Open', 'High', 'Low', 'Close', 'Adj Close']]\n",
    "fitur"
   ]
  },
  {
   "cell_type": "code",
   "execution_count": 48,
   "metadata": {},
   "outputs": [],
   "source": [
    "#ambil nilai dari fitur\n",
    "training_data = fitur.astype(float)\n",
    "# print(training_data.shape[1])"
   ]
  },
  {
   "cell_type": "code",
   "execution_count": 49,
   "metadata": {
    "scrolled": true
   },
   "outputs": [
    {
     "data": {
      "text/plain": [
       "<matplotlib.axes._subplots.AxesSubplot at 0x7ff0376e2970>"
      ]
     },
     "execution_count": 49,
     "metadata": {},
     "output_type": "execute_result"
    },
    {
     "data": {
      "text/plain": [
       "<Figure size 1152x432 with 0 Axes>"
      ]
     },
     "metadata": {},
     "output_type": "display_data"
    },
    {
     "data": {
      "image/png": "[encoded data removed]",
      "text/plain": [
       "<Figure size 432x288 with 1 Axes>"
      ]
     },
     "metadata": {
      "needs_background": "light"
     },
     "output_type": "display_data"
    }
   ],
   "source": [
    "#cek print\n",
    "# training_data\n",
    "plt.figure(figsize=(16, 6))\n",
    "training_data.plot.line()"
   ]
  },
  {
   "cell_type": "code",
   "execution_count": 50,
   "metadata": {
    "scrolled": true
   },
   "outputs": [],
   "source": [
    "#scaling biar gap harganya gk jauh2 amat\n",
    "scaler = StandardScaler()\n",
    "scaler = scaler.fit(training_data)\n",
    "scaled = scaler.transform(training_data)"
   ]
  },
  {
   "cell_type": "code",
   "execution_count": 51,
   "metadata": {},
   "outputs": [],
   "source": [
    "#ambil nilai sebelumnya (x) untuk dapet nilai prediksi (y)\n",
    "trainX = []\n",
    "trainY = []"
   ]
  },
  {
   "cell_type": "code",
   "execution_count": 52,
   "metadata": {},
   "outputs": [],
   "source": [
    "#sesuaikan harinya\n",
    "n_future = 7\n",
    "n_past = 30 \n",
    "\n",
    "#isi trainx dan trainy sesuai n nya\n",
    "for i in range(n_past, len(scaled) - n_future +1): # i = range dari 365 - 3965 (365, 3969-3-1)\n",
    "    trainX.append(scaled[i - n_past:i, 0:scaled.shape[1]]) #ambil data dari 365 hari yang lalu (0:365, 0:5)\n",
    "    trainY.append(scaled[i + n_future - 1:i + n_future, 0]) #ambil data buat prediksi (367:368, 0)"
   ]
  },
  {
   "cell_type": "code",
   "execution_count": 53,
   "metadata": {},
   "outputs": [],
   "source": [
    "#ubah list ke array\n",
    "trainX, trainY = np.array(trainX), np.array(trainY)"
   ]
  },
  {
   "cell_type": "code",
   "execution_count": 54,
   "metadata": {},
   "outputs": [
    {
     "name": "stdout",
     "output_type": "stream",
     "text": [
      "trainX shape == (2157, 30, 5).\n",
      "trainY shape == (2157, 1).\n"
     ]
    }
   ],
   "source": [
    "#jumlah data, jumlah hari sebelumnya\n",
    "print('trainX shape == {}.'.format(trainX.shape))\n",
    "print('trainY shape == {}.'.format(trainY.shape))"
   ]
  },
  {
   "cell_type": "markdown",
   "metadata": {},
   "source": [
    "## ------ AKHIR PREPROCESSING ------"
   ]
  },
  {
   "cell_type": "markdown",
   "metadata": {},
   "source": [
    "## ------ LINEAR REGRESSION ------"
   ]
  },
  {
   "cell_type": "code",
   "execution_count": 55,
   "metadata": {},
   "outputs": [
    {
     "data": {
      "text/plain": [
       "LinearRegression(copy_X=True, fit_intercept=True, n_jobs=None, normalize=False)"
      ]
     },
     "execution_count": 55,
     "metadata": {},
     "output_type": "execute_result"
    }
   ],
   "source": [
    "from sklearn import linear_model\n",
    "from sklearn.metrics import accuracy_score\n",
    "\n",
    "nsamples, nx, ny = trainX.shape\n",
    "d2_trainX = trainX.reshape((nsamples,nx*ny))\n",
    "\n",
    "regr = linear_model.LinearRegression()\n",
    "regr.fit(d2_trainX, trainY)"
   ]
  },
  {
   "cell_type": "code",
   "execution_count": 56,
   "metadata": {},
   "outputs": [],
   "source": [
    "#buat data testing\n",
    "test_data = scaled[len(scaled) - n_past: , : ]\n",
    "x_test = []\n",
    "y_test =  trainY[len(scaled) : , : ] #Get all of the rows from index 1603 to the rest and all of the columns (in this case it's only column 'Close'), so 2003 - 1603 = 400 rows of data\n",
    "for i in range(n_past,len(test_data)):\n",
    "    x_test.append(test_data[i-n_past:i,0])"
   ]
  },
  {
   "cell_type": "code",
   "execution_count": 57,
   "metadata": {},
   "outputs": [],
   "source": [
    "#Convert x_test to a numpy array \n",
    "x_test = np.array(x_test)"
   ]
  },
  {
   "cell_type": "code",
   "execution_count": 58,
   "metadata": {},
   "outputs": [
    {
     "data": {
      "text/plain": [
       "(7, 1)"
      ]
     },
     "execution_count": 58,
     "metadata": {},
     "output_type": "execute_result"
    }
   ],
   "source": [
    "n_future=7\n",
    "forecast_period_dates = pd.date_range(list(train_dates)[-1], periods=n_future, freq='1d').tolist()\n",
    "\n",
    "forecast = regr.predict(d2_trainX[-n_future:]) #prediksi\n",
    "forecast.shape"
   ]
  },
  {
   "cell_type": "code",
   "execution_count": 59,
   "metadata": {},
   "outputs": [
    {
     "data": {
      "text/plain": [
       "array([6144.58201012, 6084.04194267, 6050.55801582, 6065.52176571,\n",
       "       6103.26245113, 6126.88158018, 6083.30749244])"
      ]
     },
     "execution_count": 59,
     "metadata": {},
     "output_type": "execute_result"
    }
   ],
   "source": [
    "forecast_copies = np.repeat(forecast, training_data.shape[1], axis=-1)\n",
    "y_pred_future_lr = scaler.inverse_transform(forecast_copies)[:,0]\n",
    "y_pred_future_lr"
   ]
  },
  {
   "cell_type": "code",
   "execution_count": 60,
   "metadata": {},
   "outputs": [],
   "source": [
    "#plot si y prediksi sesuai dengan tanggalnya\n",
    "forecast_dates = []\n",
    "for time_i in forecast_period_dates:\n",
    "    forecast_dates.append(time_i.date())\n",
    "    \n",
    "df_forecast = pd.DataFrame({'Date':np.array(forecast_dates), 'Open':y_pred_future_lr})\n",
    "df_forecast['Date']=pd.to_datetime(df_forecast['Date'])\n",
    "\n",
    "original = {'Date': df.index,\n",
    "        'Open': df['Open']\n",
    "        }\n",
    "original = pd.DataFrame(original, columns = ['Date', 'Open'])\n",
    "# original = df[['Date', 'Open']]\n",
    "original['Date']=pd.to_datetime(original['Date'])\n",
    "original = original.loc[original['Date'] >= '2010-12-30']\n"
   ]
  },
  {
   "cell_type": "code",
   "execution_count": 61,
   "metadata": {},
   "outputs": [
    {
     "data": {
      "text/plain": [
       "<matplotlib.axes._subplots.AxesSubplot at 0x7ff0379d1850>"
      ]
     },
     "execution_count": 61,
     "metadata": {},
     "output_type": "execute_result"
    },
    {
     "data": {
      "image/png": "[encoded data removed]",
      "text/plain": [
       "<Figure size 1152x576 with 1 Axes>"
      ]
     },
     "metadata": {
      "needs_background": "light"
     },
     "output_type": "display_data"
    }
   ],
   "source": [
    "plt.figure(figsize=(16, 8))\n",
    "sns.lineplot(df_forecast['Date'], df_forecast['Open'])\n",
    "sns.lineplot(original['Date'], original['Open'])"
   ]
  },
  {
   "cell_type": "code",
   "execution_count": 62,
   "metadata": {},
   "outputs": [
    {
     "data": {
      "text/html": [
       "<div>\n",
       "<style scoped>\n",
       "    .dataframe tbody tr th:only-of-type {\n",
       "        vertical-align: middle;\n",
       "    }\n",
       "\n",
       "    .dataframe tbody tr th {\n",
       "        vertical-align: top;\n",
       "    }\n",
       "\n",
       "    .dataframe thead th {\n",
       "        text-align: right;\n",
       "    }\n",
       "</style>\n",
       "<table border=\"1\" class=\"dataframe\">\n",
       "  <thead>\n",
       "    <tr style=\"text-align: right;\">\n",
       "      <th></th>\n",
       "      <th>Date</th>\n",
       "      <th>Open</th>\n",
       "    </tr>\n",
       "  </thead>\n",
       "  <tbody>\n",
       "    <tr>\n",
       "      <th>0</th>\n",
       "      <td>2018-12-28</td>\n",
       "      <td>6144.582010</td>\n",
       "    </tr>\n",
       "    <tr>\n",
       "      <th>1</th>\n",
       "      <td>2018-12-29</td>\n",
       "      <td>6084.041943</td>\n",
       "    </tr>\n",
       "    <tr>\n",
       "      <th>2</th>\n",
       "      <td>2018-12-30</td>\n",
       "      <td>6050.558016</td>\n",
       "    </tr>\n",
       "    <tr>\n",
       "      <th>3</th>\n",
       "      <td>2018-12-31</td>\n",
       "      <td>6065.521766</td>\n",
       "    </tr>\n",
       "    <tr>\n",
       "      <th>4</th>\n",
       "      <td>2019-01-01</td>\n",
       "      <td>6103.262451</td>\n",
       "    </tr>\n",
       "    <tr>\n",
       "      <th>5</th>\n",
       "      <td>2019-01-02</td>\n",
       "      <td>6126.881580</td>\n",
       "    </tr>\n",
       "    <tr>\n",
       "      <th>6</th>\n",
       "      <td>2019-01-03</td>\n",
       "      <td>6083.307492</td>\n",
       "    </tr>\n",
       "  </tbody>\n",
       "</table>\n",
       "</div>"
      ],
      "text/plain": [
       "        Date         Open\n",
       "0 2018-12-28  6144.582010\n",
       "1 2018-12-29  6084.041943\n",
       "2 2018-12-30  6050.558016\n",
       "3 2018-12-31  6065.521766\n",
       "4 2019-01-01  6103.262451\n",
       "5 2019-01-02  6126.881580\n",
       "6 2019-01-03  6083.307492"
      ]
     },
     "execution_count": 62,
     "metadata": {},
     "output_type": "execute_result"
    }
   ],
   "source": [
    "df_forecast"
   ]
  },
  {
   "cell_type": "code",
   "execution_count": 63,
   "metadata": {},
   "outputs": [
    {
     "name": "stderr",
     "output_type": "stream",
     "text": [
      "<ipython-input-63-4d6917336c8e>:2: SettingWithCopyWarning: \n",
      "A value is trying to be set on a copy of a slice from a DataFrame.\n",
      "Try using .loc[row_indexer,col_indexer] = value instead\n",
      "\n",
      "See the caveats in the documentation: http://pandas.pydata.org/pandas-docs/stable/user_guide/indexing.html#returning-a-view-versus-a-copy\n",
      "  cek['Prediksi LR'] = y_pred_future_lr\n"
     ]
    },
    {
     "data": {
      "text/html": [
       "<div>\n",
       "<style scoped>\n",
       "    .dataframe tbody tr th:only-of-type {\n",
       "        vertical-align: middle;\n",
       "    }\n",
       "\n",
       "    .dataframe tbody tr th {\n",
       "        vertical-align: top;\n",
       "    }\n",
       "\n",
       "    .dataframe thead th {\n",
       "        text-align: right;\n",
       "    }\n",
       "</style>\n",
       "<table border=\"1\" class=\"dataframe\">\n",
       "  <thead>\n",
       "    <tr style=\"text-align: right;\">\n",
       "      <th></th>\n",
       "      <th>Open</th>\n",
       "      <th>Prediksi LR</th>\n",
       "    </tr>\n",
       "    <tr>\n",
       "      <th>Date</th>\n",
       "      <th></th>\n",
       "      <th></th>\n",
       "    </tr>\n",
       "  </thead>\n",
       "  <tbody>\n",
       "    <tr>\n",
       "      <th>2018-12-18</th>\n",
       "      <td>6056.232910</td>\n",
       "      <td>6144.582010</td>\n",
       "    </tr>\n",
       "    <tr>\n",
       "      <th>2018-12-19</th>\n",
       "      <td>6076.294922</td>\n",
       "      <td>6084.041943</td>\n",
       "    </tr>\n",
       "    <tr>\n",
       "      <th>2018-12-20</th>\n",
       "      <td>6144.936035</td>\n",
       "      <td>6050.558016</td>\n",
       "    </tr>\n",
       "    <tr>\n",
       "      <th>2018-12-21</th>\n",
       "      <td>6117.835938</td>\n",
       "      <td>6065.521766</td>\n",
       "    </tr>\n",
       "    <tr>\n",
       "      <th>2018-12-26</th>\n",
       "      <td>6126.652832</td>\n",
       "      <td>6103.262451</td>\n",
       "    </tr>\n",
       "    <tr>\n",
       "      <th>2018-12-27</th>\n",
       "      <td>6173.518066</td>\n",
       "      <td>6126.881580</td>\n",
       "    </tr>\n",
       "    <tr>\n",
       "      <th>2018-12-28</th>\n",
       "      <td>6200.296875</td>\n",
       "      <td>6083.307492</td>\n",
       "    </tr>\n",
       "  </tbody>\n",
       "</table>\n",
       "</div>"
      ],
      "text/plain": [
       "                   Open  Prediksi LR\n",
       "Date                                \n",
       "2018-12-18  6056.232910  6144.582010\n",
       "2018-12-19  6076.294922  6084.041943\n",
       "2018-12-20  6144.936035  6050.558016\n",
       "2018-12-21  6117.835938  6065.521766\n",
       "2018-12-26  6126.652832  6103.262451\n",
       "2018-12-27  6173.518066  6126.881580\n",
       "2018-12-28  6200.296875  6083.307492"
      ]
     },
     "execution_count": 63,
     "metadata": {},
     "output_type": "execute_result"
    }
   ],
   "source": [
    "cek = fitur[-7:]\n",
    "cek['Prediksi LR'] = y_pred_future_lr\n",
    "cek = cek[['Open', 'Prediksi LR']]\n",
    "cek "
   ]
  },
  {
   "cell_type": "code",
   "execution_count": 64,
   "metadata": {},
   "outputs": [
    {
     "data": {
      "text/plain": [
       "71.63214591403757"
      ]
     },
     "execution_count": 64,
     "metadata": {},
     "output_type": "execute_result"
    }
   ],
   "source": [
    "rmse_lr=np.sqrt(np.mean(((cek['Prediksi LR'] - cek['Open'])**2)))\n",
    "rmse_lr"
   ]
  },
  {
   "cell_type": "markdown",
   "metadata": {},
   "source": [
    "## ------ RANDOM FOREST ------"
   ]
  },
  {
   "cell_type": "code",
   "execution_count": null,
   "metadata": {},
   "outputs": [
    {
     "name": "stderr",
     "output_type": "stream",
     "text": [
      "<ipython-input-65-3a88f589a68f>:8: DataConversionWarning: A column-vector y was passed when a 1d array was expected. Please change the shape of y to (n_samples,), for example using ravel().\n",
      "  rf.fit(d2_trainX, trainY)\n"
     ]
    }
   ],
   "source": [
    "from sklearn.ensemble import RandomForestRegressor\n",
    "from sklearn.metrics import accuracy_score\n",
    "\n",
    "nsamples, nx, ny = trainX.shape\n",
    "d2_trainX = trainX.reshape((nsamples,nx*ny))\n",
    "\n",
    "rf = RandomForestRegressor(n_estimators = 1000, random_state = 42)\n",
    "rf.fit(d2_trainX, trainY)"
   ]
  },
  {
   "cell_type": "code",
   "execution_count": null,
   "metadata": {},
   "outputs": [],
   "source": [
    "#buat data testing\n",
    "test_data = scaled[len(scaled) - n_past: , : ]\n",
    "x_test = []\n",
    "y_test =  trainY[len(scaled) : , : ] #Get all of the rows from index 1603 to the rest and all of the columns (in this case it's only column 'Close'), so 2003 - 1603 = 400 rows of data\n",
    "for i in range(n_past,len(test_data)):\n",
    "    x_test.append(test_data[i-n_past:i,0])"
   ]
  },
  {
   "cell_type": "code",
   "execution_count": null,
   "metadata": {},
   "outputs": [],
   "source": [
    "#Convert x_test to a numpy array \n",
    "x_test = np.array(x_test)"
   ]
  },
  {
   "cell_type": "code",
   "execution_count": null,
   "metadata": {},
   "outputs": [],
   "source": [
    "n_future=7\n",
    "forecast_period_dates = pd.date_range(list(train_dates)[-1], periods=n_future, freq='1d').tolist()\n",
    "\n",
    "forecast = rf.predict(d2_trainX[-n_future:]) #prediksi\n",
    "forecast = forecast.reshape(7,1)\n",
    "forecast"
   ]
  },
  {
   "cell_type": "code",
   "execution_count": null,
   "metadata": {},
   "outputs": [],
   "source": [
    "forecast_copies = np.repeat(forecast, training_data.shape[1], axis=-1)\n",
    "y_pred_future_rf = scaler.inverse_transform(forecast_copies)[:,0]\n",
    "len(y_pred_future_rf)"
   ]
  },
  {
   "cell_type": "code",
   "execution_count": null,
   "metadata": {},
   "outputs": [],
   "source": [
    "#plot si y prediksi sesuai dengan tanggalnya\n",
    "forecast_dates = []\n",
    "for time_i in forecast_period_dates:\n",
    "    forecast_dates.append(time_i.date())\n",
    "    \n",
    "df_forecast = pd.DataFrame({'Date':np.array(forecast_dates), 'Open':y_pred_future_rf})\n",
    "df_forecast['Date']=pd.to_datetime(df_forecast['Date'])\n",
    "\n",
    "original = {'Date': df.index,\n",
    "        'Open': df['Open']\n",
    "        }\n",
    "original = pd.DataFrame(original, columns = ['Date', 'Open'])\n",
    "# original = df[['Date', 'Open']]\n",
    "original['Date']=pd.to_datetime(original['Date'])\n",
    "original = original.loc[original['Date'] >= '2010-12-30']"
   ]
  },
  {
   "cell_type": "code",
   "execution_count": null,
   "metadata": {},
   "outputs": [],
   "source": [
    "plt.figure(figsize=(16, 8))\n",
    "sns.lineplot(df_forecast['Date'], df_forecast['Open'])\n",
    "sns.lineplot(original['Date'], original['Open'])"
   ]
  },
  {
   "cell_type": "code",
   "execution_count": null,
   "metadata": {},
   "outputs": [],
   "source": [
    "df_forecast"
   ]
  },
  {
   "cell_type": "code",
   "execution_count": null,
   "metadata": {},
   "outputs": [],
   "source": [
    "cek = fitur[-7:]\n",
    "cek['Prediksi LR'] = y_pred_future_lr\n",
    "cek['Prediksi RF'] = y_pred_future_rf\n",
    "cek = cek[['Open', 'Prediksi RF', 'Prediksi LR']]\n",
    "cek "
   ]
  },
  {
   "cell_type": "code",
   "execution_count": null,
   "metadata": {},
   "outputs": [],
   "source": [
    "rmse_rf=np.sqrt(np.mean(((cek['Prediksi RF'] - cek['Open'])**2)))\n",
    "rmse_rf"
   ]
  },
  {
   "cell_type": "markdown",
   "metadata": {},
   "source": [
    "## ------ ENSEMBLE! ------"
   ]
  },
  {
   "cell_type": "code",
   "execution_count": null,
   "metadata": {},
   "outputs": [],
   "source": [
    "cek = fitur[-7:]\n",
    "cek['Prediksi Ensemble'] = (y_pred_future_lr + y_pred_future_rf)/2\n",
    "cek['Prediksi LR'] = y_pred_future_lr\n",
    "cek['Prediksi RF'] = y_pred_future_rf\n",
    "cek = cek[['Open', 'Prediksi RF', 'Prediksi LR', 'Prediksi Ensemble']]\n",
    "cek "
   ]
  }
 ],
 "metadata": {
  "kernelspec": {
   "display_name": "Python 3",
   "language": "python",
   "name": "python3"
  },
  "language_info": {
   "codemirror_mode": {
    "name": "ipython",
    "version": 3
   },
   "file_extension": ".py",
   "mimetype": "text/x-python",
   "name": "python",
   "nbconvert_exporter": "python",
   "pygments_lexer": "ipython3",
   "version": "3.8.1"
  }
 },
 "nbformat": 4,
 "nbformat_minor": 4
}
