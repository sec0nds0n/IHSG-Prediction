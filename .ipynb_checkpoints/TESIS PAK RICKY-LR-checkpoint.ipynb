{
 "cells": [
  {
   "cell_type": "code",
   "execution_count": 1,
   "metadata": {},
   "outputs": [
    {
     "name": "stderr",
     "output_type": "stream",
     "text": [
      "Using TensorFlow backend.\n"
     ]
    }
   ],
   "source": [
    "#Import the libraries\n",
    "import math\n",
    "import pandas_datareader as web\n",
    "import numpy as np\n",
    "import pandas as pd\n",
    "import seaborn as sns\n",
    "from sklearn.preprocessing import MinMaxScaler\n",
    "from keras.models import Sequential, load_model\n",
    "from keras.layers import Dense, LSTM, Dropout\n",
    "from sklearn.preprocessing import StandardScaler\n",
    "import matplotlib.pyplot as plt"
   ]
  },
  {
   "cell_type": "code",
   "execution_count": 2,
   "metadata": {},
   "outputs": [
    {
     "data": {
      "text/html": [
       "<div>\n",
       "<style scoped>\n",
       "    .dataframe tbody tr th:only-of-type {\n",
       "        vertical-align: middle;\n",
       "    }\n",
       "\n",
       "    .dataframe tbody tr th {\n",
       "        vertical-align: top;\n",
       "    }\n",
       "\n",
       "    .dataframe thead th {\n",
       "        text-align: right;\n",
       "    }\n",
       "</style>\n",
       "<table border=\"1\" class=\"dataframe\">\n",
       "  <thead>\n",
       "    <tr style=\"text-align: right;\">\n",
       "      <th></th>\n",
       "      <th>High</th>\n",
       "      <th>Low</th>\n",
       "      <th>Open</th>\n",
       "      <th>Close</th>\n",
       "      <th>Volume</th>\n",
       "      <th>Adj Close</th>\n",
       "    </tr>\n",
       "    <tr>\n",
       "      <th>Date</th>\n",
       "      <th></th>\n",
       "      <th></th>\n",
       "      <th></th>\n",
       "      <th></th>\n",
       "      <th></th>\n",
       "      <th></th>\n",
       "    </tr>\n",
       "  </thead>\n",
       "  <tbody>\n",
       "    <tr>\n",
       "      <th>2016-06-17</th>\n",
       "      <td>4838.029785</td>\n",
       "      <td>4806.595215</td>\n",
       "      <td>4825.727051</td>\n",
       "      <td>4835.143066</td>\n",
       "      <td>42528600.0</td>\n",
       "      <td>4835.143066</td>\n",
       "    </tr>\n",
       "    <tr>\n",
       "      <th>2016-06-20</th>\n",
       "      <td>4863.530762</td>\n",
       "      <td>4828.587891</td>\n",
       "      <td>4849.690918</td>\n",
       "      <td>4863.530762</td>\n",
       "      <td>43916600.0</td>\n",
       "      <td>4863.530762</td>\n",
       "    </tr>\n",
       "    <tr>\n",
       "      <th>2016-06-21</th>\n",
       "      <td>4889.455078</td>\n",
       "      <td>4868.227051</td>\n",
       "      <td>4873.438965</td>\n",
       "      <td>4878.713867</td>\n",
       "      <td>51514400.0</td>\n",
       "      <td>4878.713867</td>\n",
       "    </tr>\n",
       "    <tr>\n",
       "      <th>2016-06-22</th>\n",
       "      <td>4899.199219</td>\n",
       "      <td>4876.872070</td>\n",
       "      <td>4876.872070</td>\n",
       "      <td>4896.852051</td>\n",
       "      <td>57228200.0</td>\n",
       "      <td>4896.852051</td>\n",
       "    </tr>\n",
       "    <tr>\n",
       "      <th>2016-06-23</th>\n",
       "      <td>4899.497070</td>\n",
       "      <td>4856.050781</td>\n",
       "      <td>4896.795898</td>\n",
       "      <td>4874.309082</td>\n",
       "      <td>53476900.0</td>\n",
       "      <td>4874.309082</td>\n",
       "    </tr>\n",
       "    <tr>\n",
       "      <th>...</th>\n",
       "      <td>...</td>\n",
       "      <td>...</td>\n",
       "      <td>...</td>\n",
       "      <td>...</td>\n",
       "      <td>...</td>\n",
       "      <td>...</td>\n",
       "    </tr>\n",
       "    <tr>\n",
       "      <th>2021-06-10</th>\n",
       "      <td>6111.445801</td>\n",
       "      <td>6064.933105</td>\n",
       "      <td>6065.925781</td>\n",
       "      <td>6107.538086</td>\n",
       "      <td>215823100.0</td>\n",
       "      <td>6107.538086</td>\n",
       "    </tr>\n",
       "    <tr>\n",
       "      <th>2021-06-11</th>\n",
       "      <td>6134.881836</td>\n",
       "      <td>6084.238770</td>\n",
       "      <td>6118.379883</td>\n",
       "      <td>6095.497070</td>\n",
       "      <td>196526600.0</td>\n",
       "      <td>6095.497070</td>\n",
       "    </tr>\n",
       "    <tr>\n",
       "      <th>2021-06-14</th>\n",
       "      <td>6124.872070</td>\n",
       "      <td>6071.725098</td>\n",
       "      <td>6110.796875</td>\n",
       "      <td>6080.383789</td>\n",
       "      <td>196186700.0</td>\n",
       "      <td>6080.383789</td>\n",
       "    </tr>\n",
       "    <tr>\n",
       "      <th>2021-06-15</th>\n",
       "      <td>6091.367188</td>\n",
       "      <td>6051.245117</td>\n",
       "      <td>6085.360840</td>\n",
       "      <td>6089.038086</td>\n",
       "      <td>163564500.0</td>\n",
       "      <td>6089.038086</td>\n",
       "    </tr>\n",
       "    <tr>\n",
       "      <th>2021-06-16</th>\n",
       "      <td>6114.096191</td>\n",
       "      <td>6049.575195</td>\n",
       "      <td>6071.438965</td>\n",
       "      <td>6078.567871</td>\n",
       "      <td>0.0</td>\n",
       "      <td>6078.567871</td>\n",
       "    </tr>\n",
       "  </tbody>\n",
       "</table>\n",
       "<p>1208 rows × 6 columns</p>\n",
       "</div>"
      ],
      "text/plain": [
       "                   High          Low         Open        Close       Volume  \\\n",
       "Date                                                                          \n",
       "2016-06-17  4838.029785  4806.595215  4825.727051  4835.143066   42528600.0   \n",
       "2016-06-20  4863.530762  4828.587891  4849.690918  4863.530762   43916600.0   \n",
       "2016-06-21  4889.455078  4868.227051  4873.438965  4878.713867   51514400.0   \n",
       "2016-06-22  4899.199219  4876.872070  4876.872070  4896.852051   57228200.0   \n",
       "2016-06-23  4899.497070  4856.050781  4896.795898  4874.309082   53476900.0   \n",
       "...                 ...          ...          ...          ...          ...   \n",
       "2021-06-10  6111.445801  6064.933105  6065.925781  6107.538086  215823100.0   \n",
       "2021-06-11  6134.881836  6084.238770  6118.379883  6095.497070  196526600.0   \n",
       "2021-06-14  6124.872070  6071.725098  6110.796875  6080.383789  196186700.0   \n",
       "2021-06-15  6091.367188  6051.245117  6085.360840  6089.038086  163564500.0   \n",
       "2021-06-16  6114.096191  6049.575195  6071.438965  6078.567871          0.0   \n",
       "\n",
       "              Adj Close  \n",
       "Date                     \n",
       "2016-06-17  4835.143066  \n",
       "2016-06-20  4863.530762  \n",
       "2016-06-21  4878.713867  \n",
       "2016-06-22  4896.852051  \n",
       "2016-06-23  4874.309082  \n",
       "...                 ...  \n",
       "2021-06-10  6107.538086  \n",
       "2021-06-11  6095.497070  \n",
       "2021-06-14  6080.383789  \n",
       "2021-06-15  6089.038086  \n",
       "2021-06-16  6078.567871  \n",
       "\n",
       "[1208 rows x 6 columns]"
      ]
     },
     "execution_count": 2,
     "metadata": {},
     "output_type": "execute_result"
    }
   ],
   "source": [
    "#ambil data dari csv\n",
    "# df = pd.read_csv('./IHSG_2010-2020.csv', header=0, index_col=0, parse_dates=True, squeeze=True)\n",
    "# df\n",
    "df = web.DataReader('^JKSE', data_source='yahoo', \n",
    "                   ) \n",
    "df"
   ]
  },
  {
   "cell_type": "code",
   "execution_count": null,
   "metadata": {},
   "outputs": [],
   "source": [
    "#mendeteksi null\n",
    "df_missing = df.isnull()\n",
    "#menghitung jumlah True yang ada dari hasil deteksi null menggunakan isnull()\n",
    "#Boolean True pada fungsi aritmatika dihitung bernilai 1, sehingga sum() bisa digunakan untuk menghitung jumlah missing value\n",
    "jmlMissing = df_missing.sum()\n",
    "#persentase\n",
    "persenMissing = (jmlMissing/df.shape[0])*100\n",
    "persenMissing"
   ]
  },
  {
   "cell_type": "code",
   "execution_count": 3,
   "metadata": {},
   "outputs": [
    {
     "name": "stderr",
     "output_type": "stream",
     "text": [
      "/Library/Frameworks/Python.framework/Versions/3.8/lib/python3.8/site-packages/pandas/plotting/_matplotlib/converter.py:103: FutureWarning: Using an implicitly registered datetime converter for a matplotlib plotting method. The converter was registered by pandas on import. Future versions of pandas will require you to explicitly register matplotlib converters.\n",
      "\n",
      "To register the converters:\n",
      "\t>>> from pandas.plotting import register_matplotlib_converters\n",
      "\t>>> register_matplotlib_converters()\n",
      "  warnings.warn(msg, FutureWarning)\n"
     ]
    },
    {
     "data": {
      "image/png": "[encoded data removed]",
      "text/plain": [
       "<Figure size 1080x720 with 1 Axes>"
      ]
     },
     "metadata": {
      "needs_background": "light"
     },
     "output_type": "display_data"
    }
   ],
   "source": [
    "# visualisasi\n",
    "plt.figure(figsize=(15,10))\n",
    "plt.plot(df.index, df['Close'])\n",
    "plt.xlabel('Tahun',fontsize=24)\n",
    "plt.ylabel('Harga (Close) ($)',fontsize=24)\n",
    "\n",
    "plt.show()"
   ]
  },
  {
   "cell_type": "code",
   "execution_count": 4,
   "metadata": {
    "scrolled": true
   },
   "outputs": [],
   "source": [
    "# df = pd.read_csv('./IHSG_2010-2020.csv', header=0, parse_dates=True, squeeze=True)\n",
    "# df"
   ]
  },
  {
   "cell_type": "code",
   "execution_count": 5,
   "metadata": {},
   "outputs": [],
   "source": [
    "#conver ke date\n",
    "# indeks = range(1, len(df)+1)\n",
    "train_dates = pd.to_datetime(df.index)\n",
    "# train_dates = train_dates.to_series(index=indeks)\n",
    "# train_dates"
   ]
  },
  {
   "cell_type": "code",
   "execution_count": 6,
   "metadata": {},
   "outputs": [
    {
     "data": {
      "text/html": [
       "<div>\n",
       "<style scoped>\n",
       "    .dataframe tbody tr th:only-of-type {\n",
       "        vertical-align: middle;\n",
       "    }\n",
       "\n",
       "    .dataframe tbody tr th {\n",
       "        vertical-align: top;\n",
       "    }\n",
       "\n",
       "    .dataframe thead th {\n",
       "        text-align: right;\n",
       "    }\n",
       "</style>\n",
       "<table border=\"1\" class=\"dataframe\">\n",
       "  <thead>\n",
       "    <tr style=\"text-align: right;\">\n",
       "      <th></th>\n",
       "      <th>Open</th>\n",
       "      <th>High</th>\n",
       "      <th>Low</th>\n",
       "      <th>Close</th>\n",
       "      <th>Adj Close</th>\n",
       "    </tr>\n",
       "    <tr>\n",
       "      <th>Date</th>\n",
       "      <th></th>\n",
       "      <th></th>\n",
       "      <th></th>\n",
       "      <th></th>\n",
       "      <th></th>\n",
       "    </tr>\n",
       "  </thead>\n",
       "  <tbody>\n",
       "    <tr>\n",
       "      <th>2016-06-17</th>\n",
       "      <td>4825.727051</td>\n",
       "      <td>4838.029785</td>\n",
       "      <td>4806.595215</td>\n",
       "      <td>4835.143066</td>\n",
       "      <td>4835.143066</td>\n",
       "    </tr>\n",
       "    <tr>\n",
       "      <th>2016-06-20</th>\n",
       "      <td>4849.690918</td>\n",
       "      <td>4863.530762</td>\n",
       "      <td>4828.587891</td>\n",
       "      <td>4863.530762</td>\n",
       "      <td>4863.530762</td>\n",
       "    </tr>\n",
       "    <tr>\n",
       "      <th>2016-06-21</th>\n",
       "      <td>4873.438965</td>\n",
       "      <td>4889.455078</td>\n",
       "      <td>4868.227051</td>\n",
       "      <td>4878.713867</td>\n",
       "      <td>4878.713867</td>\n",
       "    </tr>\n",
       "    <tr>\n",
       "      <th>2016-06-22</th>\n",
       "      <td>4876.872070</td>\n",
       "      <td>4899.199219</td>\n",
       "      <td>4876.872070</td>\n",
       "      <td>4896.852051</td>\n",
       "      <td>4896.852051</td>\n",
       "    </tr>\n",
       "    <tr>\n",
       "      <th>2016-06-23</th>\n",
       "      <td>4896.795898</td>\n",
       "      <td>4899.497070</td>\n",
       "      <td>4856.050781</td>\n",
       "      <td>4874.309082</td>\n",
       "      <td>4874.309082</td>\n",
       "    </tr>\n",
       "    <tr>\n",
       "      <th>...</th>\n",
       "      <td>...</td>\n",
       "      <td>...</td>\n",
       "      <td>...</td>\n",
       "      <td>...</td>\n",
       "      <td>...</td>\n",
       "    </tr>\n",
       "    <tr>\n",
       "      <th>2021-06-10</th>\n",
       "      <td>6065.925781</td>\n",
       "      <td>6111.445801</td>\n",
       "      <td>6064.933105</td>\n",
       "      <td>6107.538086</td>\n",
       "      <td>6107.538086</td>\n",
       "    </tr>\n",
       "    <tr>\n",
       "      <th>2021-06-11</th>\n",
       "      <td>6118.379883</td>\n",
       "      <td>6134.881836</td>\n",
       "      <td>6084.238770</td>\n",
       "      <td>6095.497070</td>\n",
       "      <td>6095.497070</td>\n",
       "    </tr>\n",
       "    <tr>\n",
       "      <th>2021-06-14</th>\n",
       "      <td>6110.796875</td>\n",
       "      <td>6124.872070</td>\n",
       "      <td>6071.725098</td>\n",
       "      <td>6080.383789</td>\n",
       "      <td>6080.383789</td>\n",
       "    </tr>\n",
       "    <tr>\n",
       "      <th>2021-06-15</th>\n",
       "      <td>6085.360840</td>\n",
       "      <td>6091.367188</td>\n",
       "      <td>6051.245117</td>\n",
       "      <td>6089.038086</td>\n",
       "      <td>6089.038086</td>\n",
       "    </tr>\n",
       "    <tr>\n",
       "      <th>2021-06-16</th>\n",
       "      <td>6071.438965</td>\n",
       "      <td>6114.096191</td>\n",
       "      <td>6049.575195</td>\n",
       "      <td>6078.567871</td>\n",
       "      <td>6078.567871</td>\n",
       "    </tr>\n",
       "  </tbody>\n",
       "</table>\n",
       "<p>1208 rows × 5 columns</p>\n",
       "</div>"
      ],
      "text/plain": [
       "                   Open         High          Low        Close    Adj Close\n",
       "Date                                                                       \n",
       "2016-06-17  4825.727051  4838.029785  4806.595215  4835.143066  4835.143066\n",
       "2016-06-20  4849.690918  4863.530762  4828.587891  4863.530762  4863.530762\n",
       "2016-06-21  4873.438965  4889.455078  4868.227051  4878.713867  4878.713867\n",
       "2016-06-22  4876.872070  4899.199219  4876.872070  4896.852051  4896.852051\n",
       "2016-06-23  4896.795898  4899.497070  4856.050781  4874.309082  4874.309082\n",
       "...                 ...          ...          ...          ...          ...\n",
       "2021-06-10  6065.925781  6111.445801  6064.933105  6107.538086  6107.538086\n",
       "2021-06-11  6118.379883  6134.881836  6084.238770  6095.497070  6095.497070\n",
       "2021-06-14  6110.796875  6124.872070  6071.725098  6080.383789  6080.383789\n",
       "2021-06-15  6085.360840  6091.367188  6051.245117  6089.038086  6089.038086\n",
       "2021-06-16  6071.438965  6114.096191  6049.575195  6078.567871  6078.567871\n",
       "\n",
       "[1208 rows x 5 columns]"
      ]
     },
     "execution_count": 6,
     "metadata": {},
     "output_type": "execute_result"
    }
   ],
   "source": [
    "#ambil fiturnya doang\n",
    "fitur = df[['Open', 'High', 'Low', 'Close', 'Adj Close']]\n",
    "fitur"
   ]
  },
  {
   "cell_type": "code",
   "execution_count": 7,
   "metadata": {},
   "outputs": [],
   "source": [
    "#ambil nilai dari fitur\n",
    "training_data = fitur\n",
    "# print(training_data.shape[1])"
   ]
  },
  {
   "cell_type": "code",
   "execution_count": 8,
   "metadata": {
    "scrolled": true
   },
   "outputs": [
    {
     "data": {
      "text/plain": [
       "<matplotlib.axes._subplots.AxesSubplot at 0x7fa4452f8730>"
      ]
     },
     "execution_count": 8,
     "metadata": {},
     "output_type": "execute_result"
    },
    {
     "data": {
      "text/plain": [
       "<Figure size 1152x432 with 0 Axes>"
      ]
     },
     "metadata": {},
     "output_type": "display_data"
    },
    {
     "data": {
      "image/png": "[encoded data removed]",
      "text/plain": [
       "<Figure size 432x288 with 1 Axes>"
      ]
     },
     "metadata": {
      "needs_background": "light"
     },
     "output_type": "display_data"
    }
   ],
   "source": [
    "#cek print\n",
    "# training_data\n",
    "plt.figure(figsize=(16, 6))\n",
    "training_data.plot.line()"
   ]
  },
  {
   "cell_type": "code",
   "execution_count": 9,
   "metadata": {
    "scrolled": true
   },
   "outputs": [],
   "source": [
    "#scaling biar gap harganya gk jauh2 amat\n",
    "scaler = StandardScaler()\n",
    "scaler = scaler.fit(training_data)\n",
    "scaled = scaler.transform(training_data)"
   ]
  },
  {
   "cell_type": "code",
   "execution_count": 10,
   "metadata": {},
   "outputs": [],
   "source": [
    "#ambil nilai sebelumnya (x) untuk dapet nilai prediksi (y)\n",
    "trainX = []\n",
    "trainY = []"
   ]
  },
  {
   "cell_type": "code",
   "execution_count": 11,
   "metadata": {},
   "outputs": [],
   "source": [
    "#sesuaikan harinya\n",
    "n_future = 7\n",
    "n_past = 30 \n",
    "\n",
    "#isi trainx dan trainy sesuai n nya\n",
    "for i in range(n_past, len(scaled) - n_future +1): # i = range dari 365 - 3965 (365, 3969-3-1)\n",
    "    trainX.append(scaled[i - n_past:i, 0:scaled.shape[1]]) #ambil data dari 365 hari yang lalu (0:365, 0:5)\n",
    "    trainY.append(scaled[i + n_future - 1:i + n_future, 0]) #ambil data buat prediksi (367:368, 0)"
   ]
  },
  {
   "cell_type": "code",
   "execution_count": 12,
   "metadata": {},
   "outputs": [],
   "source": [
    "#ubah list ke array\n",
    "trainX, trainY = np.array(trainX), np.array(trainY)"
   ]
  },
  {
   "cell_type": "code",
   "execution_count": 13,
   "metadata": {},
   "outputs": [
    {
     "name": "stdout",
     "output_type": "stream",
     "text": [
      "trainX shape == (1172, 30, 5).\n",
      "trainY shape == (1172, 1).\n"
     ]
    }
   ],
   "source": [
    "#jumlah data, jumlah hari sebelumnya\n",
    "print('trainX shape == {}.'.format(trainX.shape))\n",
    "print('trainY shape == {}.'.format(trainY.shape))"
   ]
  },
  {
   "cell_type": "code",
   "execution_count": 14,
   "metadata": {},
   "outputs": [
    {
     "data": {
      "text/plain": [
       "array([[-0.80932797],\n",
       "       [-0.90219248],\n",
       "       [-0.81367896],\n",
       "       ...,\n",
       "       [ 0.58268073],\n",
       "       [ 0.53355716],\n",
       "       [ 0.50667042]])"
      ]
     },
     "execution_count": 14,
     "metadata": {},
     "output_type": "execute_result"
    }
   ],
   "source": [
    "trainY"
   ]
  },
  {
   "cell_type": "code",
   "execution_count": 15,
   "metadata": {
    "scrolled": true
   },
   "outputs": [
    {
     "data": {
      "text/plain": [
       "LinearRegression(copy_X=True, fit_intercept=True, n_jobs=None, normalize=False)"
      ]
     },
     "execution_count": 15,
     "metadata": {},
     "output_type": "execute_result"
    }
   ],
   "source": [
    "from sklearn import linear_model\n",
    "from sklearn.metrics import accuracy_score\n",
    "\n",
    "nsamples, nx, ny = trainX.shape\n",
    "d2_trainX = trainX.reshape((nsamples,nx*ny))\n",
    "\n",
    "regr = linear_model.LinearRegression()\n",
    "regr.fit(d2_trainX, trainY)"
   ]
  },
  {
   "cell_type": "code",
   "execution_count": 16,
   "metadata": {},
   "outputs": [],
   "source": [
    "#buat data testing\n",
    "test_data = scaled[len(scaled) - n_past: , : ]\n",
    "x_test = []\n",
    "y_test =  trainY[len(scaled) : , : ] #Get all of the rows from index 1603 to the rest and all of the columns (in this case it's only column 'Close'), so 2003 - 1603 = 400 rows of data\n",
    "for i in range(n_past,len(test_data)):\n",
    "    x_test.append(test_data[i-n_past:i,0])"
   ]
  },
  {
   "cell_type": "code",
   "execution_count": 17,
   "metadata": {},
   "outputs": [],
   "source": [
    "#Convert x_test to a numpy array \n",
    "x_test = np.array(x_test)"
   ]
  },
  {
   "cell_type": "code",
   "execution_count": 28,
   "metadata": {},
   "outputs": [
    {
     "data": {
      "text/plain": [
       "(7, 1)"
      ]
     },
     "execution_count": 28,
     "metadata": {},
     "output_type": "execute_result"
    }
   ],
   "source": [
    "n_future=7\n",
    "forecast_period_dates = pd.date_range(list(train_dates)[-1], periods=n_future, freq='1d').tolist()\n",
    "\n",
    "forecast = regr.predict(d2_trainX[-n_future:]) #prediksi\n",
    "forecast.shape"
   ]
  },
  {
   "cell_type": "code",
   "execution_count": 25,
   "metadata": {},
   "outputs": [
    {
     "data": {
      "text/plain": [
       "array([5872.51305087, 5922.55534877, 5995.90058499, 6060.0118897 ,\n",
       "       6076.55550004, 6059.00402424, 6047.4325831 ])"
      ]
     },
     "execution_count": 25,
     "metadata": {},
     "output_type": "execute_result"
    }
   ],
   "source": [
    "forecast_copies = np.repeat(forecast, training_data.shape[1], axis=-1)\n",
    "y_pred_future = scaler.inverse_transform(forecast_copies)[:,0]\n",
    "y_pred_future"
   ]
  },
  {
   "cell_type": "code",
   "execution_count": 20,
   "metadata": {
    "scrolled": true
   },
   "outputs": [],
   "source": [
    "#plot si y prediksi sesuai dengan tanggalnya\n",
    "forecast_dates = []\n",
    "for time_i in forecast_period_dates:\n",
    "    forecast_dates.append(time_i.date())\n",
    "    \n",
    "df_forecast = pd.DataFrame({'Date':np.array(forecast_dates), 'Open':y_pred_future})\n",
    "df_forecast['Date']=pd.to_datetime(df_forecast['Date'])\n",
    "\n",
    "original = {'Date': df.index,\n",
    "        'Open': df['Open']\n",
    "        }\n",
    "original = pd.DataFrame(original, columns = ['Date', 'Open'])\n",
    "# original = df[['Date', 'Open']]\n",
    "original['Date']=pd.to_datetime(original['Date'])\n",
    "original = original.loc[original['Date'] >= '2010-12-30']\n"
   ]
  },
  {
   "cell_type": "code",
   "execution_count": 21,
   "metadata": {
    "scrolled": false
   },
   "outputs": [
    {
     "data": {
      "text/plain": [
       "<matplotlib.axes._subplots.AxesSubplot at 0x7fa445183ee0>"
      ]
     },
     "execution_count": 21,
     "metadata": {},
     "output_type": "execute_result"
    },
    {
     "data": {
      "image/png": "[encoded data removed]",
      "text/plain": [
       "<Figure size 1152x576 with 1 Axes>"
      ]
     },
     "metadata": {
      "needs_background": "light"
     },
     "output_type": "display_data"
    }
   ],
   "source": [
    "plt.figure(figsize=(16, 8))\n",
    "sns.lineplot(df_forecast['Date'], df_forecast['Open'])\n",
    "sns.lineplot(original['Date'], original['Open'])"
   ]
  },
  {
   "cell_type": "code",
   "execution_count": 22,
   "metadata": {},
   "outputs": [
    {
     "data": {
      "text/html": [
       "<div>\n",
       "<style scoped>\n",
       "    .dataframe tbody tr th:only-of-type {\n",
       "        vertical-align: middle;\n",
       "    }\n",
       "\n",
       "    .dataframe tbody tr th {\n",
       "        vertical-align: top;\n",
       "    }\n",
       "\n",
       "    .dataframe thead th {\n",
       "        text-align: right;\n",
       "    }\n",
       "</style>\n",
       "<table border=\"1\" class=\"dataframe\">\n",
       "  <thead>\n",
       "    <tr style=\"text-align: right;\">\n",
       "      <th></th>\n",
       "      <th>Date</th>\n",
       "      <th>Open</th>\n",
       "    </tr>\n",
       "  </thead>\n",
       "  <tbody>\n",
       "    <tr>\n",
       "      <th>0</th>\n",
       "      <td>2021-06-16</td>\n",
       "      <td>5872.513051</td>\n",
       "    </tr>\n",
       "    <tr>\n",
       "      <th>1</th>\n",
       "      <td>2021-06-17</td>\n",
       "      <td>5922.555349</td>\n",
       "    </tr>\n",
       "    <tr>\n",
       "      <th>2</th>\n",
       "      <td>2021-06-18</td>\n",
       "      <td>5995.900585</td>\n",
       "    </tr>\n",
       "    <tr>\n",
       "      <th>3</th>\n",
       "      <td>2021-06-19</td>\n",
       "      <td>6060.011890</td>\n",
       "    </tr>\n",
       "    <tr>\n",
       "      <th>4</th>\n",
       "      <td>2021-06-20</td>\n",
       "      <td>6076.555500</td>\n",
       "    </tr>\n",
       "    <tr>\n",
       "      <th>5</th>\n",
       "      <td>2021-06-21</td>\n",
       "      <td>6059.004024</td>\n",
       "    </tr>\n",
       "    <tr>\n",
       "      <th>6</th>\n",
       "      <td>2021-06-22</td>\n",
       "      <td>6047.432583</td>\n",
       "    </tr>\n",
       "  </tbody>\n",
       "</table>\n",
       "</div>"
      ],
      "text/plain": [
       "        Date         Open\n",
       "0 2021-06-16  5872.513051\n",
       "1 2021-06-17  5922.555349\n",
       "2 2021-06-18  5995.900585\n",
       "3 2021-06-19  6060.011890\n",
       "4 2021-06-20  6076.555500\n",
       "5 2021-06-21  6059.004024\n",
       "6 2021-06-22  6047.432583"
      ]
     },
     "execution_count": 22,
     "metadata": {},
     "output_type": "execute_result"
    }
   ],
   "source": [
    "df_forecast"
   ]
  },
  {
   "cell_type": "code",
   "execution_count": 23,
   "metadata": {},
   "outputs": [
    {
     "name": "stderr",
     "output_type": "stream",
     "text": [
      "<ipython-input-23-1dd5e1a8e507>:2: SettingWithCopyWarning: \n",
      "A value is trying to be set on a copy of a slice from a DataFrame.\n",
      "Try using .loc[row_indexer,col_indexer] = value instead\n",
      "\n",
      "See the caveats in the documentation: http://pandas.pydata.org/pandas-docs/stable/user_guide/indexing.html#returning-a-view-versus-a-copy\n",
      "  cek['Prediksi'] = y_pred_future\n"
     ]
    },
    {
     "data": {
      "text/html": [
       "<div>\n",
       "<style scoped>\n",
       "    .dataframe tbody tr th:only-of-type {\n",
       "        vertical-align: middle;\n",
       "    }\n",
       "\n",
       "    .dataframe tbody tr th {\n",
       "        vertical-align: top;\n",
       "    }\n",
       "\n",
       "    .dataframe thead th {\n",
       "        text-align: right;\n",
       "    }\n",
       "</style>\n",
       "<table border=\"1\" class=\"dataframe\">\n",
       "  <thead>\n",
       "    <tr style=\"text-align: right;\">\n",
       "      <th></th>\n",
       "      <th>Open</th>\n",
       "      <th>Prediksi</th>\n",
       "    </tr>\n",
       "    <tr>\n",
       "      <th>Date</th>\n",
       "      <th></th>\n",
       "      <th></th>\n",
       "    </tr>\n",
       "  </thead>\n",
       "  <tbody>\n",
       "    <tr>\n",
       "      <th>2021-06-08</th>\n",
       "      <td>6071.250000</td>\n",
       "      <td>5872.513051</td>\n",
       "    </tr>\n",
       "    <tr>\n",
       "      <th>2021-06-09</th>\n",
       "      <td>5973.036133</td>\n",
       "      <td>5922.555349</td>\n",
       "    </tr>\n",
       "    <tr>\n",
       "      <th>2021-06-10</th>\n",
       "      <td>6065.925781</td>\n",
       "      <td>5995.900585</td>\n",
       "    </tr>\n",
       "    <tr>\n",
       "      <th>2021-06-11</th>\n",
       "      <td>6118.379883</td>\n",
       "      <td>6060.011890</td>\n",
       "    </tr>\n",
       "    <tr>\n",
       "      <th>2021-06-14</th>\n",
       "      <td>6110.796875</td>\n",
       "      <td>6076.555500</td>\n",
       "    </tr>\n",
       "    <tr>\n",
       "      <th>2021-06-15</th>\n",
       "      <td>6085.360840</td>\n",
       "      <td>6059.004024</td>\n",
       "    </tr>\n",
       "    <tr>\n",
       "      <th>2021-06-16</th>\n",
       "      <td>6071.438965</td>\n",
       "      <td>6047.432583</td>\n",
       "    </tr>\n",
       "  </tbody>\n",
       "</table>\n",
       "</div>"
      ],
      "text/plain": [
       "                   Open     Prediksi\n",
       "Date                                \n",
       "2021-06-08  6071.250000  5872.513051\n",
       "2021-06-09  5973.036133  5922.555349\n",
       "2021-06-10  6065.925781  5995.900585\n",
       "2021-06-11  6118.379883  6060.011890\n",
       "2021-06-14  6110.796875  6076.555500\n",
       "2021-06-15  6085.360840  6059.004024\n",
       "2021-06-16  6071.438965  6047.432583"
      ]
     },
     "execution_count": 23,
     "metadata": {},
     "output_type": "execute_result"
    }
   ],
   "source": [
    "cek = fitur[-7:]\n",
    "cek['Prediksi'] = y_pred_future\n",
    "cek = cek[['Open', 'Prediksi']]\n",
    "cek "
   ]
  },
  {
   "cell_type": "code",
   "execution_count": 24,
   "metadata": {},
   "outputs": [
    {
     "data": {
      "text/plain": [
       "86.84838602769031"
      ]
     },
     "execution_count": 24,
     "metadata": {},
     "output_type": "execute_result"
    }
   ],
   "source": [
    "rmse=np.sqrt(np.mean(((cek['Prediksi'] - cek['Open'])**2)))\n",
    "rmse"
   ]
  }
 ],
 "metadata": {
  "kernelspec": {
   "display_name": "Python 3",
   "language": "python",
   "name": "python3"
  },
  "language_info": {
   "codemirror_mode": {
    "name": "ipython",
    "version": 3
   },
   "file_extension": ".py",
   "mimetype": "text/x-python",
   "name": "python",
   "nbconvert_exporter": "python",
   "pygments_lexer": "ipython3",
   "version": "3.8.1"
  }
 },
 "nbformat": 4,
 "nbformat_minor": 4
}
