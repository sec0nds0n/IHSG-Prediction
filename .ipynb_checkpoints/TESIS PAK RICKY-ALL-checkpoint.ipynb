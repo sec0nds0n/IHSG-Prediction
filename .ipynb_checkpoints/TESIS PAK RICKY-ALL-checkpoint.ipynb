{
 "cells": [
  {
   "cell_type": "code",
   "execution_count": 2,
   "metadata": {},
   "outputs": [],
   "source": [
    "#Import the libraries\n",
    "import math\n",
    "import pandas_datareader as web\n",
    "import numpy as np\n",
    "import pandas as pd\n",
    "import seaborn as sns\n",
    "from sklearn.preprocessing import MinMaxScaler\n",
    "from keras.models import Sequential, load_model\n",
    "from keras.layers import Dense, LSTM, Dropout\n",
    "from sklearn.preprocessing import StandardScaler\n",
    "import matplotlib.pyplot as plt"
   ]
  },
  {
   "cell_type": "code",
   "execution_count": 3,
   "metadata": {},
   "outputs": [
    {
     "data": {
      "text/html": [
       "<div>\n",
       "<style scoped>\n",
       "    .dataframe tbody tr th:only-of-type {\n",
       "        vertical-align: middle;\n",
       "    }\n",
       "\n",
       "    .dataframe tbody tr th {\n",
       "        vertical-align: top;\n",
       "    }\n",
       "\n",
       "    .dataframe thead th {\n",
       "        text-align: right;\n",
       "    }\n",
       "</style>\n",
       "<table border=\"1\" class=\"dataframe\">\n",
       "  <thead>\n",
       "    <tr style=\"text-align: right;\">\n",
       "      <th></th>\n",
       "      <th>High</th>\n",
       "      <th>Low</th>\n",
       "      <th>Open</th>\n",
       "      <th>Close</th>\n",
       "      <th>Volume</th>\n",
       "      <th>Adj Close</th>\n",
       "    </tr>\n",
       "    <tr>\n",
       "      <th>Date</th>\n",
       "      <th></th>\n",
       "      <th></th>\n",
       "      <th></th>\n",
       "      <th></th>\n",
       "      <th></th>\n",
       "      <th></th>\n",
       "    </tr>\n",
       "  </thead>\n",
       "  <tbody>\n",
       "    <tr>\n",
       "      <th>2016-06-30</th>\n",
       "      <td>5033.242188</td>\n",
       "      <td>4996.395020</td>\n",
       "      <td>4999.877930</td>\n",
       "      <td>5016.646973</td>\n",
       "      <td>54961500.0</td>\n",
       "      <td>5016.646973</td>\n",
       "    </tr>\n",
       "    <tr>\n",
       "      <th>2016-07-01</th>\n",
       "      <td>5039.686035</td>\n",
       "      <td>4971.581055</td>\n",
       "      <td>5027.617188</td>\n",
       "      <td>4971.581055</td>\n",
       "      <td>40459000.0</td>\n",
       "      <td>4971.581055</td>\n",
       "    </tr>\n",
       "    <tr>\n",
       "      <th>2016-07-11</th>\n",
       "      <td>5080.303223</td>\n",
       "      <td>5018.395996</td>\n",
       "      <td>5021.243164</td>\n",
       "      <td>5069.019043</td>\n",
       "      <td>42889500.0</td>\n",
       "      <td>5069.019043</td>\n",
       "    </tr>\n",
       "    <tr>\n",
       "      <th>2016-07-12</th>\n",
       "      <td>5120.127930</td>\n",
       "      <td>5075.560059</td>\n",
       "      <td>5092.165039</td>\n",
       "      <td>5099.533203</td>\n",
       "      <td>58326000.0</td>\n",
       "      <td>5099.533203</td>\n",
       "    </tr>\n",
       "    <tr>\n",
       "      <th>2016-07-13</th>\n",
       "      <td>5133.933105</td>\n",
       "      <td>5090.587891</td>\n",
       "      <td>5112.985840</td>\n",
       "      <td>5133.933105</td>\n",
       "      <td>58783300.0</td>\n",
       "      <td>5133.933105</td>\n",
       "    </tr>\n",
       "    <tr>\n",
       "      <th>...</th>\n",
       "      <td>...</td>\n",
       "      <td>...</td>\n",
       "      <td>...</td>\n",
       "      <td>...</td>\n",
       "      <td>...</td>\n",
       "      <td>...</td>\n",
       "    </tr>\n",
       "    <tr>\n",
       "      <th>2021-06-23</th>\n",
       "      <td>6130.096191</td>\n",
       "      <td>6034.542969</td>\n",
       "      <td>6095.895020</td>\n",
       "      <td>6034.542969</td>\n",
       "      <td>199578400.0</td>\n",
       "      <td>6034.542969</td>\n",
       "    </tr>\n",
       "    <tr>\n",
       "      <th>2021-06-24</th>\n",
       "      <td>6060.488770</td>\n",
       "      <td>6003.196777</td>\n",
       "      <td>6052.080078</td>\n",
       "      <td>6012.056152</td>\n",
       "      <td>168548200.0</td>\n",
       "      <td>6012.056152</td>\n",
       "    </tr>\n",
       "    <tr>\n",
       "      <th>2021-06-25</th>\n",
       "      <td>6067.791016</td>\n",
       "      <td>6019.404785</td>\n",
       "      <td>6027.220215</td>\n",
       "      <td>6022.398926</td>\n",
       "      <td>172441600.0</td>\n",
       "      <td>6022.398926</td>\n",
       "    </tr>\n",
       "    <tr>\n",
       "      <th>2021-06-28</th>\n",
       "      <td>6030.890137</td>\n",
       "      <td>5939.471191</td>\n",
       "      <td>6015.278809</td>\n",
       "      <td>5939.471191</td>\n",
       "      <td>145849200.0</td>\n",
       "      <td>5939.471191</td>\n",
       "    </tr>\n",
       "    <tr>\n",
       "      <th>2021-06-29</th>\n",
       "      <td>5992.863770</td>\n",
       "      <td>5939.827148</td>\n",
       "      <td>5944.242188</td>\n",
       "      <td>5957.328125</td>\n",
       "      <td>0.0</td>\n",
       "      <td>5957.328125</td>\n",
       "    </tr>\n",
       "  </tbody>\n",
       "</table>\n",
       "<p>1208 rows × 6 columns</p>\n",
       "</div>"
      ],
      "text/plain": [
       "                   High          Low         Open        Close       Volume  \\\n",
       "Date                                                                          \n",
       "2016-06-30  5033.242188  4996.395020  4999.877930  5016.646973   54961500.0   \n",
       "2016-07-01  5039.686035  4971.581055  5027.617188  4971.581055   40459000.0   \n",
       "2016-07-11  5080.303223  5018.395996  5021.243164  5069.019043   42889500.0   \n",
       "2016-07-12  5120.127930  5075.560059  5092.165039  5099.533203   58326000.0   \n",
       "2016-07-13  5133.933105  5090.587891  5112.985840  5133.933105   58783300.0   \n",
       "...                 ...          ...          ...          ...          ...   \n",
       "2021-06-23  6130.096191  6034.542969  6095.895020  6034.542969  199578400.0   \n",
       "2021-06-24  6060.488770  6003.196777  6052.080078  6012.056152  168548200.0   \n",
       "2021-06-25  6067.791016  6019.404785  6027.220215  6022.398926  172441600.0   \n",
       "2021-06-28  6030.890137  5939.471191  6015.278809  5939.471191  145849200.0   \n",
       "2021-06-29  5992.863770  5939.827148  5944.242188  5957.328125          0.0   \n",
       "\n",
       "              Adj Close  \n",
       "Date                     \n",
       "2016-06-30  5016.646973  \n",
       "2016-07-01  4971.581055  \n",
       "2016-07-11  5069.019043  \n",
       "2016-07-12  5099.533203  \n",
       "2016-07-13  5133.933105  \n",
       "...                 ...  \n",
       "2021-06-23  6034.542969  \n",
       "2021-06-24  6012.056152  \n",
       "2021-06-25  6022.398926  \n",
       "2021-06-28  5939.471191  \n",
       "2021-06-29  5957.328125  \n",
       "\n",
       "[1208 rows x 6 columns]"
      ]
     },
     "execution_count": 3,
     "metadata": {},
     "output_type": "execute_result"
    }
   ],
   "source": [
    "#ambil data dari csv\n",
    "# df = pd.read_csv('./IHSG_2010-2020.csv', header=0, index_col=0, parse_dates=True, squeeze=True)\n",
    "# df\n",
    "df = web.DataReader('^JKSE', data_source='yahoo', start='2010-01-01', end='2018-12-31'\n",
    "                   ) \n",
    "df"
   ]
  },
  {
   "cell_type": "code",
   "execution_count": 4,
   "metadata": {},
   "outputs": [
    {
     "data": {
      "text/plain": [
       "High         0.0\n",
       "Low          0.0\n",
       "Open         0.0\n",
       "Close        0.0\n",
       "Volume       0.0\n",
       "Adj Close    0.0\n",
       "dtype: float64"
      ]
     },
     "execution_count": 4,
     "metadata": {},
     "output_type": "execute_result"
    }
   ],
   "source": [
    "#mendeteksi null\n",
    "df_missing = df.isnull()\n",
    "#menghitung jumlah True yang ada dari hasil deteksi null menggunakan isnull()\n",
    "#Boolean True pada fungsi aritmatika dihitung bernilai 1, sehingga sum() bisa digunakan untuk menghitung jumlah missing value\n",
    "jmlMissing = df_missing.sum()\n",
    "#persentase\n",
    "persenMissing = (jmlMissing/df.shape[0])*100\n",
    "persenMissing"
   ]
  },
  {
   "cell_type": "code",
   "execution_count": 5,
   "metadata": {},
   "outputs": [
    {
     "name": "stderr",
     "output_type": "stream",
     "text": [
      "/Library/Frameworks/Python.framework/Versions/3.8/lib/python3.8/site-packages/pandas/plotting/_matplotlib/converter.py:103: FutureWarning: Using an implicitly registered datetime converter for a matplotlib plotting method. The converter was registered by pandas on import. Future versions of pandas will require you to explicitly register matplotlib converters.\n",
      "\n",
      "To register the converters:\n",
      "\t>>> from pandas.plotting import register_matplotlib_converters\n",
      "\t>>> register_matplotlib_converters()\n",
      "  warnings.warn(msg, FutureWarning)\n"
     ]
    },
    {
     "data": {
      "image/png": "[encoded data removed]",
      "text/plain": [
       "<Figure size 1080x720 with 1 Axes>"
      ]
     },
     "metadata": {
      "needs_background": "light"
     },
     "output_type": "display_data"
    }
   ],
   "source": [
    "# visualisasi\n",
    "plt.figure(figsize=(15,10))\n",
    "plt.plot(df.index, df['Open'])\n",
    "plt.xlabel('Tahun',fontsize=24)\n",
    "plt.ylabel('Harga (Open) ($)',fontsize=24)\n",
    "\n",
    "plt.show()"
   ]
  },
  {
   "cell_type": "code",
   "execution_count": 6,
   "metadata": {},
   "outputs": [],
   "source": [
    "#conver ke date\n",
    "# indeks = range(1, len(df)+1)\n",
    "train_dates = pd.to_datetime(df.index)\n",
    "# train_dates = train_dates.to_series(index=indeks)\n",
    "# train_dates"
   ]
  },
  {
   "cell_type": "code",
   "execution_count": 7,
   "metadata": {},
   "outputs": [
    {
     "data": {
      "text/html": [
       "<div>\n",
       "<style scoped>\n",
       "    .dataframe tbody tr th:only-of-type {\n",
       "        vertical-align: middle;\n",
       "    }\n",
       "\n",
       "    .dataframe tbody tr th {\n",
       "        vertical-align: top;\n",
       "    }\n",
       "\n",
       "    .dataframe thead th {\n",
       "        text-align: right;\n",
       "    }\n",
       "</style>\n",
       "<table border=\"1\" class=\"dataframe\">\n",
       "  <thead>\n",
       "    <tr style=\"text-align: right;\">\n",
       "      <th></th>\n",
       "      <th>Open</th>\n",
       "      <th>High</th>\n",
       "      <th>Low</th>\n",
       "      <th>Close</th>\n",
       "      <th>Adj Close</th>\n",
       "    </tr>\n",
       "    <tr>\n",
       "      <th>Date</th>\n",
       "      <th></th>\n",
       "      <th></th>\n",
       "      <th></th>\n",
       "      <th></th>\n",
       "      <th></th>\n",
       "    </tr>\n",
       "  </thead>\n",
       "  <tbody>\n",
       "    <tr>\n",
       "      <th>2016-06-30</th>\n",
       "      <td>4999.877930</td>\n",
       "      <td>5033.242188</td>\n",
       "      <td>4996.395020</td>\n",
       "      <td>5016.646973</td>\n",
       "      <td>5016.646973</td>\n",
       "    </tr>\n",
       "    <tr>\n",
       "      <th>2016-07-01</th>\n",
       "      <td>5027.617188</td>\n",
       "      <td>5039.686035</td>\n",
       "      <td>4971.581055</td>\n",
       "      <td>4971.581055</td>\n",
       "      <td>4971.581055</td>\n",
       "    </tr>\n",
       "    <tr>\n",
       "      <th>2016-07-11</th>\n",
       "      <td>5021.243164</td>\n",
       "      <td>5080.303223</td>\n",
       "      <td>5018.395996</td>\n",
       "      <td>5069.019043</td>\n",
       "      <td>5069.019043</td>\n",
       "    </tr>\n",
       "    <tr>\n",
       "      <th>2016-07-12</th>\n",
       "      <td>5092.165039</td>\n",
       "      <td>5120.127930</td>\n",
       "      <td>5075.560059</td>\n",
       "      <td>5099.533203</td>\n",
       "      <td>5099.533203</td>\n",
       "    </tr>\n",
       "    <tr>\n",
       "      <th>2016-07-13</th>\n",
       "      <td>5112.985840</td>\n",
       "      <td>5133.933105</td>\n",
       "      <td>5090.587891</td>\n",
       "      <td>5133.933105</td>\n",
       "      <td>5133.933105</td>\n",
       "    </tr>\n",
       "    <tr>\n",
       "      <th>...</th>\n",
       "      <td>...</td>\n",
       "      <td>...</td>\n",
       "      <td>...</td>\n",
       "      <td>...</td>\n",
       "      <td>...</td>\n",
       "    </tr>\n",
       "    <tr>\n",
       "      <th>2021-06-23</th>\n",
       "      <td>6095.895020</td>\n",
       "      <td>6130.096191</td>\n",
       "      <td>6034.542969</td>\n",
       "      <td>6034.542969</td>\n",
       "      <td>6034.542969</td>\n",
       "    </tr>\n",
       "    <tr>\n",
       "      <th>2021-06-24</th>\n",
       "      <td>6052.080078</td>\n",
       "      <td>6060.488770</td>\n",
       "      <td>6003.196777</td>\n",
       "      <td>6012.056152</td>\n",
       "      <td>6012.056152</td>\n",
       "    </tr>\n",
       "    <tr>\n",
       "      <th>2021-06-25</th>\n",
       "      <td>6027.220215</td>\n",
       "      <td>6067.791016</td>\n",
       "      <td>6019.404785</td>\n",
       "      <td>6022.398926</td>\n",
       "      <td>6022.398926</td>\n",
       "    </tr>\n",
       "    <tr>\n",
       "      <th>2021-06-28</th>\n",
       "      <td>6015.278809</td>\n",
       "      <td>6030.890137</td>\n",
       "      <td>5939.471191</td>\n",
       "      <td>5939.471191</td>\n",
       "      <td>5939.471191</td>\n",
       "    </tr>\n",
       "    <tr>\n",
       "      <th>2021-06-29</th>\n",
       "      <td>5944.242188</td>\n",
       "      <td>5992.863770</td>\n",
       "      <td>5939.827148</td>\n",
       "      <td>5957.328125</td>\n",
       "      <td>5957.328125</td>\n",
       "    </tr>\n",
       "  </tbody>\n",
       "</table>\n",
       "<p>1208 rows × 5 columns</p>\n",
       "</div>"
      ],
      "text/plain": [
       "                   Open         High          Low        Close    Adj Close\n",
       "Date                                                                       \n",
       "2016-06-30  4999.877930  5033.242188  4996.395020  5016.646973  5016.646973\n",
       "2016-07-01  5027.617188  5039.686035  4971.581055  4971.581055  4971.581055\n",
       "2016-07-11  5021.243164  5080.303223  5018.395996  5069.019043  5069.019043\n",
       "2016-07-12  5092.165039  5120.127930  5075.560059  5099.533203  5099.533203\n",
       "2016-07-13  5112.985840  5133.933105  5090.587891  5133.933105  5133.933105\n",
       "...                 ...          ...          ...          ...          ...\n",
       "2021-06-23  6095.895020  6130.096191  6034.542969  6034.542969  6034.542969\n",
       "2021-06-24  6052.080078  6060.488770  6003.196777  6012.056152  6012.056152\n",
       "2021-06-25  6027.220215  6067.791016  6019.404785  6022.398926  6022.398926\n",
       "2021-06-28  6015.278809  6030.890137  5939.471191  5939.471191  5939.471191\n",
       "2021-06-29  5944.242188  5992.863770  5939.827148  5957.328125  5957.328125\n",
       "\n",
       "[1208 rows x 5 columns]"
      ]
     },
     "execution_count": 7,
     "metadata": {},
     "output_type": "execute_result"
    }
   ],
   "source": [
    "#ambil fiturnya doang\n",
    "fitur = df[['Open', 'High', 'Low', 'Close', 'Adj Close']]\n",
    "fitur"
   ]
  },
  {
   "cell_type": "code",
   "execution_count": 8,
   "metadata": {},
   "outputs": [],
   "source": [
    "#ambil nilai dari fitur\n",
    "training_data = fitur.astype(float)\n",
    "# print(training_data.shape[1])"
   ]
  },
  {
   "cell_type": "code",
   "execution_count": 9,
   "metadata": {
    "scrolled": true
   },
   "outputs": [
    {
     "data": {
      "text/plain": [
       "<matplotlib.axes._subplots.AxesSubplot at 0x7fd2f1aa1b50>"
      ]
     },
     "execution_count": 9,
     "metadata": {},
     "output_type": "execute_result"
    },
    {
     "data": {
      "text/plain": [
       "<Figure size 1152x432 with 0 Axes>"
      ]
     },
     "metadata": {},
     "output_type": "display_data"
    },
    {
     "data": {
      "image/png": "[encoded data removed]",
      "text/plain": [
       "<Figure size 432x288 with 1 Axes>"
      ]
     },
     "metadata": {
      "needs_background": "light"
     },
     "output_type": "display_data"
    }
   ],
   "source": [
    "#cek print\n",
    "# training_data\n",
    "plt.figure(figsize=(16, 6))\n",
    "training_data.plot.line()"
   ]
  },
  {
   "cell_type": "code",
   "execution_count": 10,
   "metadata": {
    "scrolled": true
   },
   "outputs": [],
   "source": [
    "#scaling biar gap harganya gk jauh2 amat\n",
    "scaler = StandardScaler()\n",
    "scaler = scaler.fit(training_data)\n",
    "scaled = scaler.transform(training_data)"
   ]
  },
  {
   "cell_type": "code",
   "execution_count": 11,
   "metadata": {},
   "outputs": [],
   "source": [
    "#ambil nilai sebelumnya (x) untuk dapet nilai prediksi (y)\n",
    "trainX = []\n",
    "trainY = []"
   ]
  },
  {
   "cell_type": "code",
   "execution_count": 12,
   "metadata": {},
   "outputs": [],
   "source": [
    "#sesuaikan harinya\n",
    "n_future = 7\n",
    "n_past = 30 \n",
    "\n",
    "#isi trainx dan trainy sesuai n nya\n",
    "for i in range(n_past, len(scaled) - n_future +1): # i = range dari 365 - 3965 (365, 3969-3-1)\n",
    "    trainX.append(scaled[i - n_past:i, 0:scaled.shape[1]]) #ambil data dari 365 hari yang lalu (0:365, 0:5)\n",
    "    trainY.append(scaled[i + n_future - 1:i + n_future, 0]) #ambil data buat prediksi (367:368, 0)"
   ]
  },
  {
   "cell_type": "code",
   "execution_count": 13,
   "metadata": {},
   "outputs": [],
   "source": [
    "#ubah list ke array\n",
    "trainX, trainY = np.array(trainX), np.array(trainY)"
   ]
  },
  {
   "cell_type": "code",
   "execution_count": 14,
   "metadata": {},
   "outputs": [
    {
     "name": "stdout",
     "output_type": "stream",
     "text": [
      "trainX shape == (1172, 30, 5).\n",
      "trainY shape == (1172, 1).\n"
     ]
    }
   ],
   "source": [
    "#jumlah data, jumlah hari sebelumnya\n",
    "print('trainX shape == {}.'.format(trainX.shape))\n",
    "print('trainY shape == {}.'.format(trainY.shape))"
   ]
  },
  {
   "cell_type": "markdown",
   "metadata": {},
   "source": [
    "## ------ AKHIR PREPROCESSING ------"
   ]
  },
  {
   "cell_type": "markdown",
   "metadata": {},
   "source": [
    "## ------ LTSM ------"
   ]
  },
  {
   "cell_type": "code",
   "execution_count": 15,
   "metadata": {
    "scrolled": true
   },
   "outputs": [
    {
     "name": "stdout",
     "output_type": "stream",
     "text": [
      "Model: \"sequential_1\"\n",
      "_________________________________________________________________\n",
      "Layer (type)                 Output Shape              Param #   \n",
      "=================================================================\n",
      "lstm_1 (LSTM)                (None, 30, 64)            17920     \n",
      "_________________________________________________________________\n",
      "lstm_2 (LSTM)                (None, 32)                12416     \n",
      "_________________________________________________________________\n",
      "dropout_1 (Dropout)          (None, 32)                0         \n",
      "_________________________________________________________________\n",
      "dense_1 (Dense)              (None, 1)                 33        \n",
      "=================================================================\n",
      "Total params: 30,369\n",
      "Trainable params: 30,369\n",
      "Non-trainable params: 0\n",
      "_________________________________________________________________\n"
     ]
    }
   ],
   "source": [
    "from keras import optimizers\n",
    "\n",
    "model = Sequential()\n",
    "# model.add(LSTM(units=50, return_sequences=True,input_shape=(trainX.shape[1],trainX.shape[2])))\n",
    "# model.add(LSTM(units=50, return_sequences=False))\n",
    "# model.add(Dense(units=25))\n",
    "# model.add(Dense(units=1))\n",
    "model.add(LSTM(64, activation='relu', input_shape=(trainX.shape[1], trainX.shape[2]), return_sequences=True))\n",
    "model.add(LSTM(32, activation='relu', return_sequences=False))\n",
    "model.add(Dropout(0.2))\n",
    "model.add(Dense(trainY.shape[1]))\n",
    "optimizer = optimizers.Adam(clipvalue=0.9)\n",
    "model.compile(optimizer=optimizer, loss='mean_squared_error')\n",
    "model.summary()"
   ]
  },
  {
   "cell_type": "code",
   "execution_count": 16,
   "metadata": {
    "scrolled": true
   },
   "outputs": [
    {
     "name": "stdout",
     "output_type": "stream",
     "text": [
      "Train on 1054 samples, validate on 118 samples\n",
      "Epoch 1/25\n",
      "1054/1054 [==============================] - 2s 2ms/step - loss: 0.2415 - val_loss: 0.1020\n",
      "Epoch 2/25\n",
      "1054/1054 [==============================] - 1s 1ms/step - loss: 0.1527 - val_loss: 0.0974\n",
      "Epoch 3/25\n",
      "1054/1054 [==============================] - 1s 1ms/step - loss: 0.1292 - val_loss: 0.1035\n",
      "Epoch 4/25\n",
      "1054/1054 [==============================] - 1s 1ms/step - loss: 0.1198 - val_loss: 0.1059\n",
      "Epoch 5/25\n",
      "1054/1054 [==============================] - 2s 2ms/step - loss: 0.1288 - val_loss: 0.0971\n",
      "Epoch 6/25\n",
      "1054/1054 [==============================] - 2s 2ms/step - loss: 0.1211 - val_loss: 0.0982\n",
      "Epoch 7/25\n",
      "1054/1054 [==============================] - 1s 1ms/step - loss: 0.1298 - val_loss: 0.1088\n",
      "Epoch 8/25\n",
      "1054/1054 [==============================] - 1s 1ms/step - loss: 0.1045 - val_loss: 0.0973\n",
      "Epoch 9/25\n",
      "1054/1054 [==============================] - 1s 1ms/step - loss: 0.1006 - val_loss: 0.0926\n",
      "Epoch 10/25\n",
      "1054/1054 [==============================] - 1s 1ms/step - loss: 0.0908 - val_loss: 0.1027\n",
      "Epoch 11/25\n",
      "1054/1054 [==============================] - 2s 2ms/step - loss: 0.0973 - val_loss: 0.0965\n",
      "Epoch 12/25\n",
      "1054/1054 [==============================] - 2s 2ms/step - loss: 0.0890 - val_loss: 0.0946\n",
      "Epoch 13/25\n",
      "1054/1054 [==============================] - 2s 2ms/step - loss: 0.0936 - val_loss: 0.0944\n",
      "Epoch 14/25\n",
      "1054/1054 [==============================] - 1s 1ms/step - loss: 0.0875 - val_loss: 0.0932\n",
      "Epoch 15/25\n",
      "1054/1054 [==============================] - 2s 1ms/step - loss: 0.0809 - val_loss: 0.0851\n",
      "Epoch 16/25\n",
      "1054/1054 [==============================] - 1s 1ms/step - loss: 0.0935 - val_loss: 0.0913\n",
      "Epoch 17/25\n",
      "1054/1054 [==============================] - 1s 1ms/step - loss: 0.0841 - val_loss: 0.0922\n",
      "Epoch 18/25\n",
      "1054/1054 [==============================] - 2s 2ms/step - loss: 0.0808 - val_loss: 0.0885\n",
      "Epoch 19/25\n",
      "1054/1054 [==============================] - 2s 2ms/step - loss: 0.0840 - val_loss: 0.0973\n",
      "Epoch 20/25\n",
      "1054/1054 [==============================] - 2s 1ms/step - loss: 0.0767 - val_loss: 0.0882\n",
      "Epoch 21/25\n",
      "1054/1054 [==============================] - 1s 1ms/step - loss: 0.0825 - val_loss: 0.0910\n",
      "Epoch 22/25\n",
      "1054/1054 [==============================] - 1s 1ms/step - loss: 0.0777 - val_loss: 0.0983\n",
      "Epoch 23/25\n",
      "1054/1054 [==============================] - 1s 1ms/step - loss: 0.0835 - val_loss: 0.0947\n",
      "Epoch 24/25\n",
      "1054/1054 [==============================] - 1s 1ms/step - loss: 0.0765 - val_loss: 0.0890\n",
      "Epoch 25/25\n",
      "1054/1054 [==============================] - 2s 2ms/step - loss: 0.0798 - val_loss: 0.0999\n"
     ]
    }
   ],
   "source": [
    "history = model.fit(trainX, trainY, epochs=25, batch_size=16, validation_split=0.1, verbose=1)"
   ]
  },
  {
   "cell_type": "code",
   "execution_count": 17,
   "metadata": {},
   "outputs": [],
   "source": [
    "#buat data testing\n",
    "test_data = scaled[len(scaled) - n_past: , : ]\n",
    "x_test = []\n",
    "y_test =  trainY[len(scaled) : , : ] #Get all of the rows from index 1603 to the rest and all of the columns (in this case it's only column 'Close'), so 2003 - 1603 = 400 rows of data\n",
    "for i in range(n_past,len(test_data)):\n",
    "    x_test.append(test_data[i-n_past:i,0])"
   ]
  },
  {
   "cell_type": "code",
   "execution_count": 18,
   "metadata": {},
   "outputs": [],
   "source": [
    "#Convert x_test to a numpy array \n",
    "x_test = np.array(x_test)"
   ]
  },
  {
   "cell_type": "code",
   "execution_count": 19,
   "metadata": {},
   "outputs": [
    {
     "data": {
      "text/plain": [
       "array([[0.55574924],\n",
       "       [0.5976727 ],\n",
       "       [0.6097365 ],\n",
       "       [0.60604495],\n",
       "       [0.59778035],\n",
       "       [0.576771  ],\n",
       "       [0.5124414 ]], dtype=float32)"
      ]
     },
     "execution_count": 19,
     "metadata": {},
     "output_type": "execute_result"
    }
   ],
   "source": [
    "n_future=7\n",
    "forecast_period_dates = pd.date_range(list(train_dates)[-1], periods=n_future, freq='1d').tolist()\n",
    "\n",
    "forecast = model.predict(trainX[-n_future:]) #prediksi\n",
    "forecast"
   ]
  },
  {
   "cell_type": "code",
   "execution_count": 20,
   "metadata": {},
   "outputs": [
    {
     "data": {
      "text/plain": [
       "7"
      ]
     },
     "execution_count": 20,
     "metadata": {},
     "output_type": "execute_result"
    }
   ],
   "source": [
    "forecast_copies = np.repeat(forecast, training_data.shape[1], axis=-1)\n",
    "y_pred_future_ltsm = scaler.inverse_transform(forecast_copies)[:,0]\n",
    "len(y_pred_future_ltsm)"
   ]
  },
  {
   "cell_type": "code",
   "execution_count": 22,
   "metadata": {
    "scrolled": true
   },
   "outputs": [],
   "source": [
    "#plot si y prediksi sesuai dengan tanggalnya\n",
    "forecast_dates = []\n",
    "for time_i in forecast_period_dates:\n",
    "    forecast_dates.append(time_i.date())\n",
    "    \n",
    "df_forecast = pd.DataFrame({'Date':np.array(forecast_dates), 'Open':y_pred_future_ltsm})\n",
    "df_forecast['Date']=pd.to_datetime(df_forecast['Date'])\n",
    "\n",
    "original = {'Date': df.index,\n",
    "        'Open': df['Open']\n",
    "        }\n",
    "original = pd.DataFrame(original, columns = ['Date', 'Open'])\n",
    "# original = df[['Date', 'Open']]\n",
    "original['Date']=pd.to_datetime(original['Date'])\n",
    "original = original.loc[original['Date'] >= '2010-12-30']\n"
   ]
  },
  {
   "cell_type": "code",
   "execution_count": 24,
   "metadata": {
    "scrolled": false
   },
   "outputs": [
    {
     "data": {
      "text/plain": [
       "<matplotlib.axes._subplots.AxesSubplot at 0x7fd2f83d5ca0>"
      ]
     },
     "execution_count": 24,
     "metadata": {},
     "output_type": "execute_result"
    },
    {
     "data": {
      "image/png": "[encoded data removed]",
      "text/plain": [
       "<Figure size 1152x576 with 1 Axes>"
      ]
     },
     "metadata": {
      "needs_background": "light"
     },
     "output_type": "display_data"
    }
   ],
   "source": [
    "plt.figure(figsize=(16, 8))\n",
    "sns.lineplot(df_forecast['Date'], df_forecast['Open'])\n",
    "sns.lineplot(original['Date'], original['Open'])"
   ]
  },
  {
   "cell_type": "code",
   "execution_count": 25,
   "metadata": {},
   "outputs": [
    {
     "data": {
      "text/html": [
       "<div>\n",
       "<style scoped>\n",
       "    .dataframe tbody tr th:only-of-type {\n",
       "        vertical-align: middle;\n",
       "    }\n",
       "\n",
       "    .dataframe tbody tr th {\n",
       "        vertical-align: top;\n",
       "    }\n",
       "\n",
       "    .dataframe thead th {\n",
       "        text-align: right;\n",
       "    }\n",
       "</style>\n",
       "<table border=\"1\" class=\"dataframe\">\n",
       "  <thead>\n",
       "    <tr style=\"text-align: right;\">\n",
       "      <th></th>\n",
       "      <th>Date</th>\n",
       "      <th>Open</th>\n",
       "    </tr>\n",
       "  </thead>\n",
       "  <tbody>\n",
       "    <tr>\n",
       "      <th>0</th>\n",
       "      <td>2021-06-29</td>\n",
       "      <td>6102.065430</td>\n",
       "    </tr>\n",
       "    <tr>\n",
       "      <th>1</th>\n",
       "      <td>2021-06-30</td>\n",
       "      <td>6123.512207</td>\n",
       "    </tr>\n",
       "    <tr>\n",
       "      <th>2</th>\n",
       "      <td>2021-07-01</td>\n",
       "      <td>6129.683594</td>\n",
       "    </tr>\n",
       "    <tr>\n",
       "      <th>3</th>\n",
       "      <td>2021-07-02</td>\n",
       "      <td>6127.794922</td>\n",
       "    </tr>\n",
       "    <tr>\n",
       "      <th>4</th>\n",
       "      <td>2021-07-03</td>\n",
       "      <td>6123.566895</td>\n",
       "    </tr>\n",
       "    <tr>\n",
       "      <th>5</th>\n",
       "      <td>2021-07-04</td>\n",
       "      <td>6112.819336</td>\n",
       "    </tr>\n",
       "    <tr>\n",
       "      <th>6</th>\n",
       "      <td>2021-07-05</td>\n",
       "      <td>6079.911133</td>\n",
       "    </tr>\n",
       "  </tbody>\n",
       "</table>\n",
       "</div>"
      ],
      "text/plain": [
       "        Date         Open\n",
       "0 2021-06-29  6102.065430\n",
       "1 2021-06-30  6123.512207\n",
       "2 2021-07-01  6129.683594\n",
       "3 2021-07-02  6127.794922\n",
       "4 2021-07-03  6123.566895\n",
       "5 2021-07-04  6112.819336\n",
       "6 2021-07-05  6079.911133"
      ]
     },
     "execution_count": 25,
     "metadata": {},
     "output_type": "execute_result"
    }
   ],
   "source": [
    "df_forecast"
   ]
  },
  {
   "cell_type": "code",
   "execution_count": 26,
   "metadata": {},
   "outputs": [
    {
     "name": "stderr",
     "output_type": "stream",
     "text": [
      "<ipython-input-26-6133e3efc860>:2: SettingWithCopyWarning: \n",
      "A value is trying to be set on a copy of a slice from a DataFrame.\n",
      "Try using .loc[row_indexer,col_indexer] = value instead\n",
      "\n",
      "See the caveats in the documentation: http://pandas.pydata.org/pandas-docs/stable/user_guide/indexing.html#returning-a-view-versus-a-copy\n",
      "  cek['Prediksi LTSM'] = y_pred_future_ltsm\n"
     ]
    },
    {
     "data": {
      "text/html": [
       "<div>\n",
       "<style scoped>\n",
       "    .dataframe tbody tr th:only-of-type {\n",
       "        vertical-align: middle;\n",
       "    }\n",
       "\n",
       "    .dataframe tbody tr th {\n",
       "        vertical-align: top;\n",
       "    }\n",
       "\n",
       "    .dataframe thead th {\n",
       "        text-align: right;\n",
       "    }\n",
       "</style>\n",
       "<table border=\"1\" class=\"dataframe\">\n",
       "  <thead>\n",
       "    <tr style=\"text-align: right;\">\n",
       "      <th></th>\n",
       "      <th>Open</th>\n",
       "      <th>Prediksi LTSM</th>\n",
       "    </tr>\n",
       "    <tr>\n",
       "      <th>Date</th>\n",
       "      <th></th>\n",
       "      <th></th>\n",
       "    </tr>\n",
       "  </thead>\n",
       "  <tbody>\n",
       "    <tr>\n",
       "      <th>2021-06-21</th>\n",
       "      <td>5959.964844</td>\n",
       "      <td>6102.065430</td>\n",
       "    </tr>\n",
       "    <tr>\n",
       "      <th>2021-06-22</th>\n",
       "      <td>6006.665039</td>\n",
       "      <td>6123.512207</td>\n",
       "    </tr>\n",
       "    <tr>\n",
       "      <th>2021-06-23</th>\n",
       "      <td>6095.895020</td>\n",
       "      <td>6129.683594</td>\n",
       "    </tr>\n",
       "    <tr>\n",
       "      <th>2021-06-24</th>\n",
       "      <td>6052.080078</td>\n",
       "      <td>6127.794922</td>\n",
       "    </tr>\n",
       "    <tr>\n",
       "      <th>2021-06-25</th>\n",
       "      <td>6027.220215</td>\n",
       "      <td>6123.566895</td>\n",
       "    </tr>\n",
       "    <tr>\n",
       "      <th>2021-06-28</th>\n",
       "      <td>6015.278809</td>\n",
       "      <td>6112.819336</td>\n",
       "    </tr>\n",
       "    <tr>\n",
       "      <th>2021-06-29</th>\n",
       "      <td>5944.242188</td>\n",
       "      <td>6079.911133</td>\n",
       "    </tr>\n",
       "  </tbody>\n",
       "</table>\n",
       "</div>"
      ],
      "text/plain": [
       "                   Open  Prediksi LTSM\n",
       "Date                                  \n",
       "2021-06-21  5959.964844    6102.065430\n",
       "2021-06-22  6006.665039    6123.512207\n",
       "2021-06-23  6095.895020    6129.683594\n",
       "2021-06-24  6052.080078    6127.794922\n",
       "2021-06-25  6027.220215    6123.566895\n",
       "2021-06-28  6015.278809    6112.819336\n",
       "2021-06-29  5944.242188    6079.911133"
      ]
     },
     "execution_count": 26,
     "metadata": {},
     "output_type": "execute_result"
    }
   ],
   "source": [
    "cek = fitur[-7:]\n",
    "cek['Prediksi LTSM'] = y_pred_future_ltsm\n",
    "cek = cek[['Open', 'Prediksi LTSM']]\n",
    "cek "
   ]
  },
  {
   "cell_type": "code",
   "execution_count": 27,
   "metadata": {},
   "outputs": [
    {
     "data": {
      "text/plain": [
       "105.50771290792622"
      ]
     },
     "execution_count": 27,
     "metadata": {},
     "output_type": "execute_result"
    }
   ],
   "source": [
    "rmse_ltsm=np.sqrt(np.mean(((cek['Prediksi LTSM'] - cek['Open'])**2)))\n",
    "rmse_ltsm"
   ]
  },
  {
   "cell_type": "markdown",
   "metadata": {},
   "source": [
    "## ------ LINEAR REGRESSION ------"
   ]
  },
  {
   "cell_type": "code",
   "execution_count": 28,
   "metadata": {},
   "outputs": [
    {
     "data": {
      "text/plain": [
       "LinearRegression(copy_X=True, fit_intercept=True, n_jobs=None, normalize=False)"
      ]
     },
     "execution_count": 28,
     "metadata": {},
     "output_type": "execute_result"
    }
   ],
   "source": [
    "from sklearn import linear_model\n",
    "from sklearn.metrics import accuracy_score\n",
    "\n",
    "nsamples, nx, ny = trainX.shape\n",
    "d2_trainX = trainX.reshape((nsamples,nx*ny))\n",
    "\n",
    "regr = linear_model.LinearRegression()\n",
    "regr.fit(d2_trainX, trainY)"
   ]
  },
  {
   "cell_type": "code",
   "execution_count": 29,
   "metadata": {},
   "outputs": [],
   "source": [
    "#buat data testing\n",
    "test_data = scaled[len(scaled) - n_past: , : ]\n",
    "x_test = []\n",
    "y_test =  trainY[len(scaled) : , : ] #Get all of the rows from index 1603 to the rest and all of the columns (in this case it's only column 'Close'), so 2003 - 1603 = 400 rows of data\n",
    "for i in range(n_past,len(test_data)):\n",
    "    x_test.append(test_data[i-n_past:i,0])"
   ]
  },
  {
   "cell_type": "code",
   "execution_count": 30,
   "metadata": {},
   "outputs": [],
   "source": [
    "#Convert x_test to a numpy array \n",
    "x_test = np.array(x_test)"
   ]
  },
  {
   "cell_type": "code",
   "execution_count": 31,
   "metadata": {},
   "outputs": [
    {
     "data": {
      "text/plain": [
       "(7, 1)"
      ]
     },
     "execution_count": 31,
     "metadata": {},
     "output_type": "execute_result"
    }
   ],
   "source": [
    "n_future=7\n",
    "forecast_period_dates = pd.date_range(list(train_dates)[-1], periods=n_future, freq='1d').tolist()\n",
    "\n",
    "forecast = regr.predict(d2_trainX[-n_future:]) #prediksi\n",
    "forecast.shape"
   ]
  },
  {
   "cell_type": "code",
   "execution_count": 38,
   "metadata": {},
   "outputs": [
    {
     "data": {
      "text/plain": [
       "array([6032.8103262 , 6014.1004231 , 6065.80128811, 6062.29885174,\n",
       "       6064.00831182, 6063.51813813, 5988.33971183])"
      ]
     },
     "execution_count": 38,
     "metadata": {},
     "output_type": "execute_result"
    }
   ],
   "source": [
    "forecast_copies = np.repeat(forecast, training_data.shape[1], axis=-1)\n",
    "y_pred_future_lr = scaler.inverse_transform(forecast_copies)[:,0]\n",
    "y_pred_future"
   ]
  },
  {
   "cell_type": "code",
   "execution_count": 39,
   "metadata": {},
   "outputs": [],
   "source": [
    "#plot si y prediksi sesuai dengan tanggalnya\n",
    "forecast_dates = []\n",
    "for time_i in forecast_period_dates:\n",
    "    forecast_dates.append(time_i.date())\n",
    "    \n",
    "df_forecast = pd.DataFrame({'Date':np.array(forecast_dates), 'Open':y_pred_future_lr})\n",
    "df_forecast['Date']=pd.to_datetime(df_forecast['Date'])\n",
    "\n",
    "original = {'Date': df.index,\n",
    "        'Open': df['Open']\n",
    "        }\n",
    "original = pd.DataFrame(original, columns = ['Date', 'Open'])\n",
    "# original = df[['Date', 'Open']]\n",
    "original['Date']=pd.to_datetime(original['Date'])\n",
    "original = original.loc[original['Date'] >= '2010-12-30']\n"
   ]
  },
  {
   "cell_type": "code",
   "execution_count": 40,
   "metadata": {},
   "outputs": [
    {
     "data": {
      "text/plain": [
       "<matplotlib.axes._subplots.AxesSubplot at 0x7fd2dbf642b0>"
      ]
     },
     "execution_count": 40,
     "metadata": {},
     "output_type": "execute_result"
    },
    {
     "data": {
      "image/png": "[encoded data removed]",
      "text/plain": [
       "<Figure size 1152x576 with 1 Axes>"
      ]
     },
     "metadata": {
      "needs_background": "light"
     },
     "output_type": "display_data"
    }
   ],
   "source": [
    "plt.figure(figsize=(16, 8))\n",
    "sns.lineplot(df_forecast['Date'], df_forecast['Open'])\n",
    "sns.lineplot(original['Date'], original['Open'])"
   ]
  },
  {
   "cell_type": "code",
   "execution_count": 41,
   "metadata": {},
   "outputs": [
    {
     "data": {
      "text/html": [
       "<div>\n",
       "<style scoped>\n",
       "    .dataframe tbody tr th:only-of-type {\n",
       "        vertical-align: middle;\n",
       "    }\n",
       "\n",
       "    .dataframe tbody tr th {\n",
       "        vertical-align: top;\n",
       "    }\n",
       "\n",
       "    .dataframe thead th {\n",
       "        text-align: right;\n",
       "    }\n",
       "</style>\n",
       "<table border=\"1\" class=\"dataframe\">\n",
       "  <thead>\n",
       "    <tr style=\"text-align: right;\">\n",
       "      <th></th>\n",
       "      <th>Date</th>\n",
       "      <th>Open</th>\n",
       "    </tr>\n",
       "  </thead>\n",
       "  <tbody>\n",
       "    <tr>\n",
       "      <th>0</th>\n",
       "      <td>2021-06-29</td>\n",
       "      <td>6032.810326</td>\n",
       "    </tr>\n",
       "    <tr>\n",
       "      <th>1</th>\n",
       "      <td>2021-06-30</td>\n",
       "      <td>6014.100423</td>\n",
       "    </tr>\n",
       "    <tr>\n",
       "      <th>2</th>\n",
       "      <td>2021-07-01</td>\n",
       "      <td>6065.801288</td>\n",
       "    </tr>\n",
       "    <tr>\n",
       "      <th>3</th>\n",
       "      <td>2021-07-02</td>\n",
       "      <td>6062.298852</td>\n",
       "    </tr>\n",
       "    <tr>\n",
       "      <th>4</th>\n",
       "      <td>2021-07-03</td>\n",
       "      <td>6064.008312</td>\n",
       "    </tr>\n",
       "    <tr>\n",
       "      <th>5</th>\n",
       "      <td>2021-07-04</td>\n",
       "      <td>6063.518138</td>\n",
       "    </tr>\n",
       "    <tr>\n",
       "      <th>6</th>\n",
       "      <td>2021-07-05</td>\n",
       "      <td>5988.339712</td>\n",
       "    </tr>\n",
       "  </tbody>\n",
       "</table>\n",
       "</div>"
      ],
      "text/plain": [
       "        Date         Open\n",
       "0 2021-06-29  6032.810326\n",
       "1 2021-06-30  6014.100423\n",
       "2 2021-07-01  6065.801288\n",
       "3 2021-07-02  6062.298852\n",
       "4 2021-07-03  6064.008312\n",
       "5 2021-07-04  6063.518138\n",
       "6 2021-07-05  5988.339712"
      ]
     },
     "execution_count": 41,
     "metadata": {},
     "output_type": "execute_result"
    }
   ],
   "source": [
    "df_forecast"
   ]
  },
  {
   "cell_type": "code",
   "execution_count": 44,
   "metadata": {},
   "outputs": [
    {
     "name": "stderr",
     "output_type": "stream",
     "text": [
      "<ipython-input-44-78cc24100a15>:2: SettingWithCopyWarning: \n",
      "A value is trying to be set on a copy of a slice from a DataFrame.\n",
      "Try using .loc[row_indexer,col_indexer] = value instead\n",
      "\n",
      "See the caveats in the documentation: http://pandas.pydata.org/pandas-docs/stable/user_guide/indexing.html#returning-a-view-versus-a-copy\n",
      "  cek['Prediksi LR'] = y_pred_future_lr\n",
      "<ipython-input-44-78cc24100a15>:3: SettingWithCopyWarning: \n",
      "A value is trying to be set on a copy of a slice from a DataFrame.\n",
      "Try using .loc[row_indexer,col_indexer] = value instead\n",
      "\n",
      "See the caveats in the documentation: http://pandas.pydata.org/pandas-docs/stable/user_guide/indexing.html#returning-a-view-versus-a-copy\n",
      "  cek['Prediksi LTSM'] = y_pred_future_ltsm\n"
     ]
    },
    {
     "data": {
      "text/html": [
       "<div>\n",
       "<style scoped>\n",
       "    .dataframe tbody tr th:only-of-type {\n",
       "        vertical-align: middle;\n",
       "    }\n",
       "\n",
       "    .dataframe tbody tr th {\n",
       "        vertical-align: top;\n",
       "    }\n",
       "\n",
       "    .dataframe thead th {\n",
       "        text-align: right;\n",
       "    }\n",
       "</style>\n",
       "<table border=\"1\" class=\"dataframe\">\n",
       "  <thead>\n",
       "    <tr style=\"text-align: right;\">\n",
       "      <th></th>\n",
       "      <th>Open</th>\n",
       "      <th>Prediksi LR</th>\n",
       "      <th>Prediksi LTSM</th>\n",
       "    </tr>\n",
       "    <tr>\n",
       "      <th>Date</th>\n",
       "      <th></th>\n",
       "      <th></th>\n",
       "      <th></th>\n",
       "    </tr>\n",
       "  </thead>\n",
       "  <tbody>\n",
       "    <tr>\n",
       "      <th>2021-06-21</th>\n",
       "      <td>5959.964844</td>\n",
       "      <td>6032.810326</td>\n",
       "      <td>6102.065430</td>\n",
       "    </tr>\n",
       "    <tr>\n",
       "      <th>2021-06-22</th>\n",
       "      <td>6006.665039</td>\n",
       "      <td>6014.100423</td>\n",
       "      <td>6123.512207</td>\n",
       "    </tr>\n",
       "    <tr>\n",
       "      <th>2021-06-23</th>\n",
       "      <td>6095.895020</td>\n",
       "      <td>6065.801288</td>\n",
       "      <td>6129.683594</td>\n",
       "    </tr>\n",
       "    <tr>\n",
       "      <th>2021-06-24</th>\n",
       "      <td>6052.080078</td>\n",
       "      <td>6062.298852</td>\n",
       "      <td>6127.794922</td>\n",
       "    </tr>\n",
       "    <tr>\n",
       "      <th>2021-06-25</th>\n",
       "      <td>6027.220215</td>\n",
       "      <td>6064.008312</td>\n",
       "      <td>6123.566895</td>\n",
       "    </tr>\n",
       "    <tr>\n",
       "      <th>2021-06-28</th>\n",
       "      <td>6015.278809</td>\n",
       "      <td>6063.518138</td>\n",
       "      <td>6112.819336</td>\n",
       "    </tr>\n",
       "    <tr>\n",
       "      <th>2021-06-29</th>\n",
       "      <td>5944.242188</td>\n",
       "      <td>5988.339712</td>\n",
       "      <td>6079.911133</td>\n",
       "    </tr>\n",
       "  </tbody>\n",
       "</table>\n",
       "</div>"
      ],
      "text/plain": [
       "                   Open  Prediksi LR  Prediksi LTSM\n",
       "Date                                               \n",
       "2021-06-21  5959.964844  6032.810326    6102.065430\n",
       "2021-06-22  6006.665039  6014.100423    6123.512207\n",
       "2021-06-23  6095.895020  6065.801288    6129.683594\n",
       "2021-06-24  6052.080078  6062.298852    6127.794922\n",
       "2021-06-25  6027.220215  6064.008312    6123.566895\n",
       "2021-06-28  6015.278809  6063.518138    6112.819336\n",
       "2021-06-29  5944.242188  5988.339712    6079.911133"
      ]
     },
     "execution_count": 44,
     "metadata": {},
     "output_type": "execute_result"
    }
   ],
   "source": [
    "cek = fitur[-7:]\n",
    "cek['Prediksi LR'] = y_pred_future_lr\n",
    "cek['Prediksi LTSM'] = y_pred_future_ltsm\n",
    "cek = cek[['Open', 'Prediksi LR', 'Prediksi LTSM']]\n",
    "cek "
   ]
  },
  {
   "cell_type": "code",
   "execution_count": 45,
   "metadata": {},
   "outputs": [
    {
     "data": {
      "text/plain": [
       "41.398402142394126"
      ]
     },
     "execution_count": 45,
     "metadata": {},
     "output_type": "execute_result"
    }
   ],
   "source": [
    "rmse_lr=np.sqrt(np.mean(((cek['Prediksi LR'] - cek['Open'])**2)))\n",
    "rmse_lr"
   ]
  },
  {
   "cell_type": "markdown",
   "metadata": {},
   "source": [
    "## ------ RANDOM FOREST ------"
   ]
  },
  {
   "cell_type": "code",
   "execution_count": 48,
   "metadata": {},
   "outputs": [
    {
     "name": "stderr",
     "output_type": "stream",
     "text": [
      "<ipython-input-48-3a88f589a68f>:8: DataConversionWarning: A column-vector y was passed when a 1d array was expected. Please change the shape of y to (n_samples,), for example using ravel().\n",
      "  rf.fit(d2_trainX, trainY)\n"
     ]
    },
    {
     "data": {
      "text/plain": [
       "RandomForestRegressor(bootstrap=True, ccp_alpha=0.0, criterion='mse',\n",
       "                      max_depth=None, max_features='auto', max_leaf_nodes=None,\n",
       "                      max_samples=None, min_impurity_decrease=0.0,\n",
       "                      min_impurity_split=None, min_samples_leaf=1,\n",
       "                      min_samples_split=2, min_weight_fraction_leaf=0.0,\n",
       "                      n_estimators=1000, n_jobs=None, oob_score=False,\n",
       "                      random_state=42, verbose=0, warm_start=False)"
      ]
     },
     "execution_count": 48,
     "metadata": {},
     "output_type": "execute_result"
    }
   ],
   "source": [
    "from sklearn.ensemble import RandomForestRegressor\n",
    "from sklearn.metrics import accuracy_score\n",
    "\n",
    "nsamples, nx, ny = trainX.shape\n",
    "d2_trainX = trainX.reshape((nsamples,nx*ny))\n",
    "\n",
    "rf = RandomForestRegressor(n_estimators = 1000, random_state = 42)\n",
    "rf.fit(d2_trainX, trainY)"
   ]
  },
  {
   "cell_type": "code",
   "execution_count": 49,
   "metadata": {},
   "outputs": [],
   "source": [
    "#buat data testing\n",
    "test_data = scaled[len(scaled) - n_past: , : ]\n",
    "x_test = []\n",
    "y_test =  trainY[len(scaled) : , : ] #Get all of the rows from index 1603 to the rest and all of the columns (in this case it's only column 'Close'), so 2003 - 1603 = 400 rows of data\n",
    "for i in range(n_past,len(test_data)):\n",
    "    x_test.append(test_data[i-n_past:i,0])"
   ]
  },
  {
   "cell_type": "code",
   "execution_count": 50,
   "metadata": {},
   "outputs": [],
   "source": [
    "#Convert x_test to a numpy array \n",
    "x_test = np.array(x_test)"
   ]
  },
  {
   "cell_type": "code",
   "execution_count": 51,
   "metadata": {},
   "outputs": [
    {
     "data": {
      "text/plain": [
       "array([[0.32933511],\n",
       "       [0.41315504],\n",
       "       [0.52413525],\n",
       "       [0.44807643],\n",
       "       [0.42460763],\n",
       "       [0.42082615],\n",
       "       [0.35168168]])"
      ]
     },
     "execution_count": 51,
     "metadata": {},
     "output_type": "execute_result"
    }
   ],
   "source": [
    "n_future=7\n",
    "forecast_period_dates = pd.date_range(list(train_dates)[-1], periods=n_future, freq='1d').tolist()\n",
    "\n",
    "forecast = rf.predict(d2_trainX[-n_future:]) #prediksi\n",
    "forecast = forecast.reshape(7,1)\n",
    "forecast"
   ]
  },
  {
   "cell_type": "code",
   "execution_count": 52,
   "metadata": {},
   "outputs": [
    {
     "data": {
      "text/plain": [
       "7"
      ]
     },
     "execution_count": 52,
     "metadata": {},
     "output_type": "execute_result"
    }
   ],
   "source": [
    "forecast_copies = np.repeat(forecast, training_data.shape[1], axis=-1)\n",
    "y_pred_future_rf = scaler.inverse_transform(forecast_copies)[:,0]\n",
    "len(y_pred_future_rf)"
   ]
  },
  {
   "cell_type": "code",
   "execution_count": 53,
   "metadata": {},
   "outputs": [],
   "source": [
    "#plot si y prediksi sesuai dengan tanggalnya\n",
    "forecast_dates = []\n",
    "for time_i in forecast_period_dates:\n",
    "    forecast_dates.append(time_i.date())\n",
    "    \n",
    "df_forecast = pd.DataFrame({'Date':np.array(forecast_dates), 'Open':y_pred_future_rf})\n",
    "df_forecast['Date']=pd.to_datetime(df_forecast['Date'])\n",
    "\n",
    "original = {'Date': df.index,\n",
    "        'Open': df['Open']\n",
    "        }\n",
    "original = pd.DataFrame(original, columns = ['Date', 'Open'])\n",
    "# original = df[['Date', 'Open']]\n",
    "original['Date']=pd.to_datetime(original['Date'])\n",
    "original = original.loc[original['Date'] >= '2010-12-30']"
   ]
  },
  {
   "cell_type": "code",
   "execution_count": 54,
   "metadata": {},
   "outputs": [
    {
     "data": {
      "text/plain": [
       "<matplotlib.axes._subplots.AxesSubplot at 0x7fd2dda027f0>"
      ]
     },
     "execution_count": 54,
     "metadata": {},
     "output_type": "execute_result"
    },
    {
     "data": {
      "image/png": "[encoded data removed]",
      "text/plain": [
       "<Figure size 1152x576 with 1 Axes>"
      ]
     },
     "metadata": {
      "needs_background": "light"
     },
     "output_type": "display_data"
    }
   ],
   "source": [
    "plt.figure(figsize=(16, 8))\n",
    "sns.lineplot(df_forecast['Date'], df_forecast['Open'])\n",
    "sns.lineplot(original['Date'], original['Open'])"
   ]
  },
  {
   "cell_type": "code",
   "execution_count": 55,
   "metadata": {},
   "outputs": [
    {
     "data": {
      "text/html": [
       "<div>\n",
       "<style scoped>\n",
       "    .dataframe tbody tr th:only-of-type {\n",
       "        vertical-align: middle;\n",
       "    }\n",
       "\n",
       "    .dataframe tbody tr th {\n",
       "        vertical-align: top;\n",
       "    }\n",
       "\n",
       "    .dataframe thead th {\n",
       "        text-align: right;\n",
       "    }\n",
       "</style>\n",
       "<table border=\"1\" class=\"dataframe\">\n",
       "  <thead>\n",
       "    <tr style=\"text-align: right;\">\n",
       "      <th></th>\n",
       "      <th>Date</th>\n",
       "      <th>Open</th>\n",
       "    </tr>\n",
       "  </thead>\n",
       "  <tbody>\n",
       "    <tr>\n",
       "      <th>0</th>\n",
       "      <td>2021-06-29</td>\n",
       "      <td>5986.240593</td>\n",
       "    </tr>\n",
       "    <tr>\n",
       "      <th>1</th>\n",
       "      <td>2021-06-30</td>\n",
       "      <td>6029.119723</td>\n",
       "    </tr>\n",
       "    <tr>\n",
       "      <th>2</th>\n",
       "      <td>2021-07-01</td>\n",
       "      <td>6085.893027</td>\n",
       "    </tr>\n",
       "    <tr>\n",
       "      <th>3</th>\n",
       "      <td>2021-07-02</td>\n",
       "      <td>6046.984195</td>\n",
       "    </tr>\n",
       "    <tr>\n",
       "      <th>4</th>\n",
       "      <td>2021-07-03</td>\n",
       "      <td>6034.978438</td>\n",
       "    </tr>\n",
       "    <tr>\n",
       "      <th>5</th>\n",
       "      <td>2021-07-04</td>\n",
       "      <td>6033.043975</td>\n",
       "    </tr>\n",
       "    <tr>\n",
       "      <th>6</th>\n",
       "      <td>2021-07-05</td>\n",
       "      <td>5997.672259</td>\n",
       "    </tr>\n",
       "  </tbody>\n",
       "</table>\n",
       "</div>"
      ],
      "text/plain": [
       "        Date         Open\n",
       "0 2021-06-29  5986.240593\n",
       "1 2021-06-30  6029.119723\n",
       "2 2021-07-01  6085.893027\n",
       "3 2021-07-02  6046.984195\n",
       "4 2021-07-03  6034.978438\n",
       "5 2021-07-04  6033.043975\n",
       "6 2021-07-05  5997.672259"
      ]
     },
     "execution_count": 55,
     "metadata": {},
     "output_type": "execute_result"
    }
   ],
   "source": [
    "df_forecast"
   ]
  },
  {
   "cell_type": "code",
   "execution_count": 56,
   "metadata": {},
   "outputs": [
    {
     "name": "stderr",
     "output_type": "stream",
     "text": [
      "<ipython-input-56-e71ac70494bf>:2: SettingWithCopyWarning: \n",
      "A value is trying to be set on a copy of a slice from a DataFrame.\n",
      "Try using .loc[row_indexer,col_indexer] = value instead\n",
      "\n",
      "See the caveats in the documentation: http://pandas.pydata.org/pandas-docs/stable/user_guide/indexing.html#returning-a-view-versus-a-copy\n",
      "  cek['Prediksi LR'] = y_pred_future_lr\n",
      "<ipython-input-56-e71ac70494bf>:3: SettingWithCopyWarning: \n",
      "A value is trying to be set on a copy of a slice from a DataFrame.\n",
      "Try using .loc[row_indexer,col_indexer] = value instead\n",
      "\n",
      "See the caveats in the documentation: http://pandas.pydata.org/pandas-docs/stable/user_guide/indexing.html#returning-a-view-versus-a-copy\n",
      "  cek['Prediksi LTSM'] = y_pred_future_ltsm\n",
      "<ipython-input-56-e71ac70494bf>:4: SettingWithCopyWarning: \n",
      "A value is trying to be set on a copy of a slice from a DataFrame.\n",
      "Try using .loc[row_indexer,col_indexer] = value instead\n",
      "\n",
      "See the caveats in the documentation: http://pandas.pydata.org/pandas-docs/stable/user_guide/indexing.html#returning-a-view-versus-a-copy\n",
      "  cek['Prediksi RF'] = y_pred_future_rf\n"
     ]
    },
    {
     "data": {
      "text/html": [
       "<div>\n",
       "<style scoped>\n",
       "    .dataframe tbody tr th:only-of-type {\n",
       "        vertical-align: middle;\n",
       "    }\n",
       "\n",
       "    .dataframe tbody tr th {\n",
       "        vertical-align: top;\n",
       "    }\n",
       "\n",
       "    .dataframe thead th {\n",
       "        text-align: right;\n",
       "    }\n",
       "</style>\n",
       "<table border=\"1\" class=\"dataframe\">\n",
       "  <thead>\n",
       "    <tr style=\"text-align: right;\">\n",
       "      <th></th>\n",
       "      <th>Open</th>\n",
       "      <th>Prediksi RF</th>\n",
       "      <th>Prediksi LR</th>\n",
       "      <th>Prediksi LTSM</th>\n",
       "    </tr>\n",
       "    <tr>\n",
       "      <th>Date</th>\n",
       "      <th></th>\n",
       "      <th></th>\n",
       "      <th></th>\n",
       "      <th></th>\n",
       "    </tr>\n",
       "  </thead>\n",
       "  <tbody>\n",
       "    <tr>\n",
       "      <th>2021-06-21</th>\n",
       "      <td>5959.964844</td>\n",
       "      <td>5986.240593</td>\n",
       "      <td>6032.810326</td>\n",
       "      <td>6102.065430</td>\n",
       "    </tr>\n",
       "    <tr>\n",
       "      <th>2021-06-22</th>\n",
       "      <td>6006.665039</td>\n",
       "      <td>6029.119723</td>\n",
       "      <td>6014.100423</td>\n",
       "      <td>6123.512207</td>\n",
       "    </tr>\n",
       "    <tr>\n",
       "      <th>2021-06-23</th>\n",
       "      <td>6095.895020</td>\n",
       "      <td>6085.893027</td>\n",
       "      <td>6065.801288</td>\n",
       "      <td>6129.683594</td>\n",
       "    </tr>\n",
       "    <tr>\n",
       "      <th>2021-06-24</th>\n",
       "      <td>6052.080078</td>\n",
       "      <td>6046.984195</td>\n",
       "      <td>6062.298852</td>\n",
       "      <td>6127.794922</td>\n",
       "    </tr>\n",
       "    <tr>\n",
       "      <th>2021-06-25</th>\n",
       "      <td>6027.220215</td>\n",
       "      <td>6034.978438</td>\n",
       "      <td>6064.008312</td>\n",
       "      <td>6123.566895</td>\n",
       "    </tr>\n",
       "    <tr>\n",
       "      <th>2021-06-28</th>\n",
       "      <td>6015.278809</td>\n",
       "      <td>6033.043975</td>\n",
       "      <td>6063.518138</td>\n",
       "      <td>6112.819336</td>\n",
       "    </tr>\n",
       "    <tr>\n",
       "      <th>2021-06-29</th>\n",
       "      <td>5944.242188</td>\n",
       "      <td>5997.672259</td>\n",
       "      <td>5988.339712</td>\n",
       "      <td>6079.911133</td>\n",
       "    </tr>\n",
       "  </tbody>\n",
       "</table>\n",
       "</div>"
      ],
      "text/plain": [
       "                   Open  Prediksi RF  Prediksi LR  Prediksi LTSM\n",
       "Date                                                            \n",
       "2021-06-21  5959.964844  5986.240593  6032.810326    6102.065430\n",
       "2021-06-22  6006.665039  6029.119723  6014.100423    6123.512207\n",
       "2021-06-23  6095.895020  6085.893027  6065.801288    6129.683594\n",
       "2021-06-24  6052.080078  6046.984195  6062.298852    6127.794922\n",
       "2021-06-25  6027.220215  6034.978438  6064.008312    6123.566895\n",
       "2021-06-28  6015.278809  6033.043975  6063.518138    6112.819336\n",
       "2021-06-29  5944.242188  5997.672259  5988.339712    6079.911133"
      ]
     },
     "execution_count": 56,
     "metadata": {},
     "output_type": "execute_result"
    }
   ],
   "source": [
    "cek = fitur[-7:]\n",
    "cek['Prediksi LR'] = y_pred_future_lr\n",
    "cek['Prediksi LTSM'] = y_pred_future_ltsm\n",
    "cek['Prediksi RF'] = y_pred_future_rf\n",
    "cek = cek[['Open', 'Prediksi RF', 'Prediksi LR', 'Prediksi LTSM']]\n",
    "cek "
   ]
  },
  {
   "cell_type": "code",
   "execution_count": 57,
   "metadata": {},
   "outputs": [
    {
     "data": {
      "text/plain": [
       "25.498457751943395"
      ]
     },
     "execution_count": 57,
     "metadata": {},
     "output_type": "execute_result"
    }
   ],
   "source": [
    "rmse_rf=np.sqrt(np.mean(((cek['Prediksi RF'] - cek['Open'])**2)))\n",
    "rmse_rf"
   ]
  },
  {
   "cell_type": "markdown",
   "metadata": {},
   "source": [
    "## ------ ENSEMBLE! ------"
   ]
  },
  {
   "cell_type": "code",
   "execution_count": 60,
   "metadata": {},
   "outputs": [
    {
     "name": "stderr",
     "output_type": "stream",
     "text": [
      "<ipython-input-60-98e81a66d269>:2: SettingWithCopyWarning: \n",
      "A value is trying to be set on a copy of a slice from a DataFrame.\n",
      "Try using .loc[row_indexer,col_indexer] = value instead\n",
      "\n",
      "See the caveats in the documentation: http://pandas.pydata.org/pandas-docs/stable/user_guide/indexing.html#returning-a-view-versus-a-copy\n",
      "  cek['Prediksi Ensemble'] = (y_pred_future_lr + y_pred_future_rf + y_pred_future_ltsm)/3\n",
      "<ipython-input-60-98e81a66d269>:3: SettingWithCopyWarning: \n",
      "A value is trying to be set on a copy of a slice from a DataFrame.\n",
      "Try using .loc[row_indexer,col_indexer] = value instead\n",
      "\n",
      "See the caveats in the documentation: http://pandas.pydata.org/pandas-docs/stable/user_guide/indexing.html#returning-a-view-versus-a-copy\n",
      "  cek['Prediksi LR'] = y_pred_future_lr\n",
      "<ipython-input-60-98e81a66d269>:4: SettingWithCopyWarning: \n",
      "A value is trying to be set on a copy of a slice from a DataFrame.\n",
      "Try using .loc[row_indexer,col_indexer] = value instead\n",
      "\n",
      "See the caveats in the documentation: http://pandas.pydata.org/pandas-docs/stable/user_guide/indexing.html#returning-a-view-versus-a-copy\n",
      "  cek['Prediksi LTSM'] = y_pred_future_ltsm\n",
      "<ipython-input-60-98e81a66d269>:5: SettingWithCopyWarning: \n",
      "A value is trying to be set on a copy of a slice from a DataFrame.\n",
      "Try using .loc[row_indexer,col_indexer] = value instead\n",
      "\n",
      "See the caveats in the documentation: http://pandas.pydata.org/pandas-docs/stable/user_guide/indexing.html#returning-a-view-versus-a-copy\n",
      "  cek['Prediksi RF'] = y_pred_future_rf\n"
     ]
    },
    {
     "data": {
      "text/html": [
       "<div>\n",
       "<style scoped>\n",
       "    .dataframe tbody tr th:only-of-type {\n",
       "        vertical-align: middle;\n",
       "    }\n",
       "\n",
       "    .dataframe tbody tr th {\n",
       "        vertical-align: top;\n",
       "    }\n",
       "\n",
       "    .dataframe thead th {\n",
       "        text-align: right;\n",
       "    }\n",
       "</style>\n",
       "<table border=\"1\" class=\"dataframe\">\n",
       "  <thead>\n",
       "    <tr style=\"text-align: right;\">\n",
       "      <th></th>\n",
       "      <th>Open</th>\n",
       "      <th>Prediksi RF</th>\n",
       "      <th>Prediksi LR</th>\n",
       "      <th>Prediksi LTSM</th>\n",
       "      <th>Prediksi Ensemble</th>\n",
       "    </tr>\n",
       "    <tr>\n",
       "      <th>Date</th>\n",
       "      <th></th>\n",
       "      <th></th>\n",
       "      <th></th>\n",
       "      <th></th>\n",
       "      <th></th>\n",
       "    </tr>\n",
       "  </thead>\n",
       "  <tbody>\n",
       "    <tr>\n",
       "      <th>2021-06-21</th>\n",
       "      <td>5959.964844</td>\n",
       "      <td>5986.240593</td>\n",
       "      <td>6032.810326</td>\n",
       "      <td>6102.065430</td>\n",
       "      <td>6040.372116</td>\n",
       "    </tr>\n",
       "    <tr>\n",
       "      <th>2021-06-22</th>\n",
       "      <td>6006.665039</td>\n",
       "      <td>6029.119723</td>\n",
       "      <td>6014.100423</td>\n",
       "      <td>6123.512207</td>\n",
       "      <td>6055.577451</td>\n",
       "    </tr>\n",
       "    <tr>\n",
       "      <th>2021-06-23</th>\n",
       "      <td>6095.895020</td>\n",
       "      <td>6085.893027</td>\n",
       "      <td>6065.801288</td>\n",
       "      <td>6129.683594</td>\n",
       "      <td>6093.792636</td>\n",
       "    </tr>\n",
       "    <tr>\n",
       "      <th>2021-06-24</th>\n",
       "      <td>6052.080078</td>\n",
       "      <td>6046.984195</td>\n",
       "      <td>6062.298852</td>\n",
       "      <td>6127.794922</td>\n",
       "      <td>6079.025989</td>\n",
       "    </tr>\n",
       "    <tr>\n",
       "      <th>2021-06-25</th>\n",
       "      <td>6027.220215</td>\n",
       "      <td>6034.978438</td>\n",
       "      <td>6064.008312</td>\n",
       "      <td>6123.566895</td>\n",
       "      <td>6074.184548</td>\n",
       "    </tr>\n",
       "    <tr>\n",
       "      <th>2021-06-28</th>\n",
       "      <td>6015.278809</td>\n",
       "      <td>6033.043975</td>\n",
       "      <td>6063.518138</td>\n",
       "      <td>6112.819336</td>\n",
       "      <td>6069.793816</td>\n",
       "    </tr>\n",
       "    <tr>\n",
       "      <th>2021-06-29</th>\n",
       "      <td>5944.242188</td>\n",
       "      <td>5997.672259</td>\n",
       "      <td>5988.339712</td>\n",
       "      <td>6079.911133</td>\n",
       "      <td>6021.974368</td>\n",
       "    </tr>\n",
       "  </tbody>\n",
       "</table>\n",
       "</div>"
      ],
      "text/plain": [
       "                   Open  Prediksi RF  Prediksi LR  Prediksi LTSM  \\\n",
       "Date                                                               \n",
       "2021-06-21  5959.964844  5986.240593  6032.810326    6102.065430   \n",
       "2021-06-22  6006.665039  6029.119723  6014.100423    6123.512207   \n",
       "2021-06-23  6095.895020  6085.893027  6065.801288    6129.683594   \n",
       "2021-06-24  6052.080078  6046.984195  6062.298852    6127.794922   \n",
       "2021-06-25  6027.220215  6034.978438  6064.008312    6123.566895   \n",
       "2021-06-28  6015.278809  6033.043975  6063.518138    6112.819336   \n",
       "2021-06-29  5944.242188  5997.672259  5988.339712    6079.911133   \n",
       "\n",
       "            Prediksi Ensemble  \n",
       "Date                           \n",
       "2021-06-21        6040.372116  \n",
       "2021-06-22        6055.577451  \n",
       "2021-06-23        6093.792636  \n",
       "2021-06-24        6079.025989  \n",
       "2021-06-25        6074.184548  \n",
       "2021-06-28        6069.793816  \n",
       "2021-06-29        6021.974368  "
      ]
     },
     "execution_count": 60,
     "metadata": {},
     "output_type": "execute_result"
    }
   ],
   "source": [
    "cek = fitur[-7:]\n",
    "cek['Prediksi Ensemble'] = (y_pred_future_lr + y_pred_future_rf + y_pred_future_ltsm)/3\n",
    "cek['Prediksi LR'] = y_pred_future_lr\n",
    "cek['Prediksi LTSM'] = y_pred_future_ltsm\n",
    "cek['Prediksi RF'] = y_pred_future_rf\n",
    "cek = cek[['Open', 'Prediksi RF', 'Prediksi LR', 'Prediksi LTSM', 'Prediksi Ensemble']]\n",
    "cek "
   ]
  }
 ],
 "metadata": {
  "kernelspec": {
   "display_name": "Python 3",
   "language": "python",
   "name": "python3"
  },
  "language_info": {
   "codemirror_mode": {
    "name": "ipython",
    "version": 3
   },
   "file_extension": ".py",
   "mimetype": "text/x-python",
   "name": "python",
   "nbconvert_exporter": "python",
   "pygments_lexer": "ipython3",
   "version": "3.8.1"
  }
 },
 "nbformat": 4,
 "nbformat_minor": 4
}
